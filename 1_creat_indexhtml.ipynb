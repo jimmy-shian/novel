{
 "cells": [
  {
   "attachments": {},
   "cell_type": "markdown",
   "metadata": {},
   "source": [
    "# import"
   ]
  },
  {
   "cell_type": "code",
   "execution_count": 1,
   "metadata": {},
   "outputs": [],
   "source": [
    "import requests\n",
    "import numpy as np\n",
    "import re\n",
    "import time\n",
    "from bs4 import BeautifulSoup\n",
    "import subprocess\n",
    "import os\n",
    "import pandas as pd\n",
    "from tqdm import tqdm\n",
    "\n",
    "# 執行具有 'env_pytorch' 的儲存格需要 ipykernel 套件。\n",
    "# Run the following command to install 'ipykernel' into the Python environment. \n",
    "# Command: 'conda install -n venv ipykernel --update-deps --force-reinstall'\n",
    "# conda install --name venv --update-deps --force-reinstall"
   ]
  },
  {
   "attachments": {},
   "cell_type": "markdown",
   "metadata": {},
   "source": [
    "## choice"
   ]
  },
  {
   "cell_type": "code",
   "execution_count": 2,
   "metadata": {},
   "outputs": [],
   "source": [
    "INDEX = True\n",
    "\n",
    "A = 12\n"
   ]
  },
  {
   "attachments": {},
   "cell_type": "markdown",
   "metadata": {},
   "source": [
    "# chose novel set"
   ]
  },
  {
   "attachments": {},
   "cell_type": "markdown",
   "metadata": {},
   "source": [
    " 帝霸"
   ]
  },
  {
   "cell_type": "code",
   "execution_count": 3,
   "metadata": {},
   "outputs": [],
   "source": [
    "# window.location.href = '帝霸_html' + numberInput + '.html';\n",
    "# 需要更改跳轉網址 & name ，已不需要\n",
    "if A == 1:\n",
    "    novel = '帝霸'\n",
    "    web = 'https://www.bg3.co/novel/pagea/diba-yanbixiaosheng_5454.html'\n",
    "\n",
    "    NAME = \"《\" + novel + \"》\"\n",
    "    TITLE = novel\n",
    "    URL = str(web.split(\"_\")[0]) + \"_\"\n",
    "    FILENAME = str(web.split('/')[-1].split('_')[0]) + '.html'\n",
    "    PAGE = int(web.split('/')[-1].split('_')[1].split('.html')[0])\n",
    "\n",
    "    URLFILENAME = str(web.split('/')[-1].split('_')[0])\n",
    "\n",
    "    NUMBER = int(100)  #固定\n",
    "\n",
    "    print(\"NAME:\", NAME)\n",
    "    print(\"TITLE:\", TITLE)\n",
    "    print(\"URL:\", URL)\n",
    "    print(\"FILENAME:\", FILENAME)\n",
    "    print(\"PAGE:\", PAGE)\n",
    "    print(\"URLFILENAME:\", URLFILENAME)\n"
   ]
  },
  {
   "attachments": {},
   "cell_type": "markdown",
   "metadata": {},
   "source": [
    "凡人修仙傳"
   ]
  },
  {
   "cell_type": "code",
   "execution_count": 4,
   "metadata": {},
   "outputs": [],
   "source": [
    "# window.location.href = '帝霸_html' + numberInput + '.html';\n",
    "# 需要更改跳轉網址 & name ，已不需要\n",
    "if A == 2:\n",
    "    novel = '凡人修仙傳'\n",
    "    web = 'https://www.bg3.co/novel/pagea/fanrenxiuxianchuan-wangyu_2452.html'\n",
    "\n",
    "    NAME = \"《\" + novel + \"》\"\n",
    "    TITLE = novel\n",
    "    URL = str(web.split(\"_\")[0]) + \"_\"\n",
    "    FILENAME = str(web.split('/')[-1].split('_')[0]) + '.html'\n",
    "    PAGE = int(web.split('/')[-1].split('_')[1].split('.html')[0])\n",
    "\n",
    "    URLFILENAME = str(web.split('/')[-1].split('_')[0])\n",
    "\n",
    "    NUMBER = int(100)  #固定\n",
    "\n",
    "    print(\"NAME:\", NAME)\n",
    "    print(\"TITLE:\", TITLE)\n",
    "    print(\"URL:\", URL)\n",
    "    print(\"FILENAME:\", FILENAME)\n",
    "    print(\"PAGE:\", PAGE)\n",
    "    print(\"URLFILENAME:\", URLFILENAME)\n"
   ]
  },
  {
   "attachments": {},
   "cell_type": "markdown",
   "metadata": {},
   "source": [
    "凡人修仙之仙界篇"
   ]
  },
  {
   "cell_type": "code",
   "execution_count": 5,
   "metadata": {},
   "outputs": [],
   "source": [
    "# window.location.href = '帝霸_html' + numberInput + '.html';\n",
    "# 需要更改跳轉網址 & name ，已不需要\n",
    "if A == 3:\n",
    "    novel = '凡人修仙之仙界篇'\n",
    "    web = 'https://www.bg3.co/novel/pagea/fanrenxiuxianzhixianjiepian-wangyu_1405.html'\n",
    "\n",
    "    NAME = \"《\" + novel + \"》\"\n",
    "    TITLE = novel\n",
    "    URL = str(web.split(\"_\")[0]) + \"_\"\n",
    "    FILENAME = str(web.split('/')[-1].split('_')[0]) + '.html'\n",
    "    PAGE = int(web.split('/')[-1].split('_')[1].split('.html')[0])\n",
    "\n",
    "    URLFILENAME = str(web.split('/')[-1].split('_')[0])\n",
    "\n",
    "    NUMBER = int(100)  #固定\n",
    "\n",
    "    print(\"NAME:\", NAME)\n",
    "    print(\"TITLE:\", TITLE)\n",
    "    print(\"URL:\", URL)\n",
    "    print(\"FILENAME:\", FILENAME)\n",
    "    print(\"PAGE:\", PAGE)\n",
    "    print(\"URLFILENAME:\", URLFILENAME)\n"
   ]
  },
  {
   "attachments": {},
   "cell_type": "markdown",
   "metadata": {},
   "source": [
    "求魔"
   ]
  },
  {
   "cell_type": "code",
   "execution_count": 6,
   "metadata": {},
   "outputs": [],
   "source": [
    "# window.location.href = '帝霸_html' + numberInput + '.html';\n",
    "# 需要更改跳轉網址 & name ，已不需要\n",
    "if A == 4:\n",
    "    novel = '求魔'\n",
    "    web = 'https://www.bg3.co/novel/pagea/qiumo-ergen_1483.html'\n",
    "\n",
    "    NAME = \"《\" + novel + \"》\"\n",
    "    TITLE = novel\n",
    "    URL = str(web.split(\"_\")[0]) + \"_\"\n",
    "    FILENAME = str(web.split('/')[-1].split('_')[0]) + '.html'\n",
    "    PAGE = int(web.split('/')[-1].split('_')[1].split('.html')[0])\n",
    "\n",
    "    URLFILENAME = str(web.split('/')[-1].split('_')[0])\n",
    "\n",
    "    NUMBER = int(100)  #固定\n",
    "\n",
    "    print(\"NAME:\", NAME)\n",
    "    print(\"TITLE:\", TITLE)\n",
    "    print(\"URL:\", URL)\n",
    "    print(\"FILENAME:\", FILENAME)\n",
    "    print(\"PAGE:\", PAGE)\n",
    "    print(\"URLFILENAME:\", URLFILENAME)\n"
   ]
  },
  {
   "attachments": {},
   "cell_type": "markdown",
   "metadata": {},
   "source": [
    "全職法師"
   ]
  },
  {
   "cell_type": "code",
   "execution_count": 7,
   "metadata": {},
   "outputs": [],
   "source": [
    "# window.location.href = '帝霸_html' + numberInput + '.html';\n",
    "# 需要更改跳轉網址 & name ，已不需要\n",
    "if A == 5:\n",
    "    novel = '全職法師'\n",
    "    web = 'https://www.bg3.co/novel/pagea/quanzhifashi-luan_3131.html'\n",
    "\n",
    "    NAME = \"《\" + novel + \"》\"\n",
    "    TITLE = novel\n",
    "    URL = str(web.split(\"_\")[0]) + \"_\"\n",
    "    FILENAME = str(web.split('/')[-1].split('_')[0]) + '.html'\n",
    "    PAGE = int(web.split('/')[-1].split('_')[1].split('.html')[0])\n",
    "\n",
    "    URLFILENAME = str(web.split('/')[-1].split('_')[0])\n",
    "\n",
    "    NUMBER = int(100)  #固定\n",
    "\n",
    "    print(\"NAME:\", NAME)\n",
    "    print(\"TITLE:\", TITLE)\n",
    "    print(\"URL:\", URL)\n",
    "    print(\"FILENAME:\", FILENAME)\n",
    "    print(\"PAGE:\", PAGE)\n",
    "    print(\"URLFILENAME:\", URLFILENAME)\n"
   ]
  },
  {
   "attachments": {},
   "cell_type": "markdown",
   "metadata": {},
   "source": [
    "三寸人間"
   ]
  },
  {
   "cell_type": "code",
   "execution_count": 8,
   "metadata": {},
   "outputs": [],
   "source": [
    "# window.location.href = '帝霸_html' + numberInput + '.html';\n",
    "# 需要更改跳轉網址 & name ，已不需要\n",
    "if A == 6:\n",
    "    novel = '三寸人間'\n",
    "    web = 'https://www.bg3.co/novel/pagea/sancunrenjian-ergen_1459.html'\n",
    "\n",
    "    NAME = \"《\" + novel + \"》\"\n",
    "    TITLE = novel\n",
    "    URL = str(web.split(\"_\")[0]) + \"_\"\n",
    "    FILENAME = str(web.split('/')[-1].split('_')[0]) + '.html'\n",
    "    PAGE = int(web.split('/')[-1].split('_')[1].split('.html')[0])\n",
    "\n",
    "    URLFILENAME = str(web.split('/')[-1].split('_')[0])\n",
    "\n",
    "    NUMBER = int(100)  #固定\n",
    "\n",
    "    print(\"NAME:\", NAME)\n",
    "    print(\"TITLE:\", TITLE)\n",
    "    print(\"URL:\", URL)\n",
    "    print(\"FILENAME:\", FILENAME)\n",
    "    print(\"PAGE:\", PAGE)\n",
    "    print(\"URLFILENAME:\", URLFILENAME)\n"
   ]
  },
  {
   "attachments": {},
   "cell_type": "markdown",
   "metadata": {},
   "source": [
    "我欲封天"
   ]
  },
  {
   "cell_type": "code",
   "execution_count": 9,
   "metadata": {},
   "outputs": [],
   "source": [
    "# window.location.href = '帝霸_html' + numberInput + '.html';\n",
    "# 需要更改跳轉網址 & name ，已不需要\n",
    "if A == 7:\n",
    "    novel = '我欲封天'\n",
    "    web = 'https://www.bg3.co/novel/pagea/woyufengtian-ergen_1619.html'\n",
    "\n",
    "    NAME = \"《\" + novel + \"》\"\n",
    "    TITLE = novel\n",
    "    URL = str(web.split(\"_\")[0]) + \"_\"\n",
    "    FILENAME = str(web.split('/')[-1].split('_')[0]) + '.html'\n",
    "    PAGE = int(web.split('/')[-1].split('_')[1].split('.html')[0])\n",
    "\n",
    "    URLFILENAME = str(web.split('/')[-1].split('_')[0])\n",
    "\n",
    "    NUMBER = int(100)  #固定\n",
    "\n",
    "    print(\"NAME:\", NAME)\n",
    "    print(\"TITLE:\", TITLE)\n",
    "    print(\"URL:\", URL)\n",
    "    print(\"FILENAME:\", FILENAME)\n",
    "    print(\"PAGE:\", PAGE)\n",
    "    print(\"URLFILENAME:\", URLFILENAME)\n"
   ]
  },
  {
   "attachments": {},
   "cell_type": "markdown",
   "metadata": {},
   "source": [
    "仙逆"
   ]
  },
  {
   "cell_type": "code",
   "execution_count": 10,
   "metadata": {},
   "outputs": [],
   "source": [
    "# window.location.href = '帝霸_html' + numberInput + '.html';\n",
    "# 需要更改跳轉網址 & name ，已不需要\n",
    "if A == 8:\n",
    "    novel = '仙逆'\n",
    "    web = 'https://www.bg3.co/novel/pagea/xianni-ergen_2031.html'\n",
    "\n",
    "    NAME = \"《\" + novel + \"》\"\n",
    "    TITLE = novel\n",
    "    URL = str(web.split(\"_\")[0]) + \"_\"\n",
    "    FILENAME = str(web.split('/')[-1].split('_')[0]) + '.html'\n",
    "    PAGE = int(web.split('/')[-1].split('_')[1].split('.html')[0])\n",
    "\n",
    "    URLFILENAME = str(web.split('/')[-1].split('_')[0])\n",
    "\n",
    "    NUMBER = int(100)  #固定\n",
    "\n",
    "    print(\"NAME:\", NAME)\n",
    "    print(\"TITLE:\", TITLE)\n",
    "    print(\"URL:\", URL)\n",
    "    print(\"FILENAME:\", FILENAME)\n",
    "    print(\"PAGE:\", PAGE)\n",
    "    print(\"URLFILENAME:\", URLFILENAME)\n"
   ]
  },
  {
   "attachments": {},
   "cell_type": "markdown",
   "metadata": {},
   "source": [
    "一念永恆"
   ]
  },
  {
   "cell_type": "code",
   "execution_count": 11,
   "metadata": {},
   "outputs": [],
   "source": [
    "# window.location.href = '帝霸_html' + numberInput + '.html';\n",
    "# 需要更改跳轉網址 & name ，已不需要\n",
    "if A == 9:\n",
    "    novel = '一念永恆'\n",
    "    web = 'https://www.bg3.co/novel/pagea/yinianyongheng-ergen_1318.html'\n",
    "\n",
    "    NAME = \"《\" + novel + \"》\"\n",
    "    TITLE = novel\n",
    "    URL = str(web.split(\"_\")[0]) + \"_\"\n",
    "    FILENAME = str(web.split('/')[-1].split('_')[0]) + '.html'\n",
    "    PAGE = int(web.split('/')[-1].split('_')[1].split('.html')[0])\n",
    "\n",
    "    URLFILENAME = str(web.split('/')[-1].split('_')[0])\n",
    "\n",
    "    NUMBER = int(100)  #固定\n",
    "\n",
    "    print(\"NAME:\", NAME)\n",
    "    print(\"TITLE:\", TITLE)\n",
    "    print(\"URL:\", URL)\n",
    "    print(\"FILENAME:\", FILENAME)\n",
    "    print(\"PAGE:\", PAGE)\n",
    "    print(\"URLFILENAME:\", URLFILENAME)\n"
   ]
  },
  {
   "attachments": {},
   "cell_type": "markdown",
   "metadata": {},
   "source": [
    "關於我轉生變成史萊姆這檔事"
   ]
  },
  {
   "cell_type": "code",
   "execution_count": 12,
   "metadata": {},
   "outputs": [],
   "source": [
    "if A == 10:\n",
    "    novel = '關於我轉生變成史萊姆這檔事'\n",
    "    web = 'https://www.wenku8.net/novel/1/1787/61157.htm'\n",
    "\n",
    "    NAME = novel + \"_html\"\n",
    "    TITLE = novel\n",
    "    URL = \"https://www.wenku8.net/novel/1/1787/\"\n",
    "    FILENAME = \"regarding-reincarnated-to-slime\" + \".html\"\n",
    "    NUMBER = int(web.split(\"/\")[-1].split(\".htm\")[0]) + 1\n",
    "    URLFILENAME = \"regarding-reincarnated-to-slime\"\n",
    "\n",
    "    print(\"URLFILENAME:\", URLFILENAME)\n",
    "    print(\"NAME =\", NAME)\n",
    "    print(\"TITLE =\", TITLE)\n",
    "    print(\"URL =\", URL)\n",
    "    print(\"FILENAME =\", FILENAME)\n",
    "    print(\"NUMBER =\", NUMBER)\n",
    "\n",
    "# NAME = '凡人修仙傳_html'\n",
    "# TITLE = '凡人修仙傳'\n",
    "# URL = 'https://www.bg3.co/novel/pagea/fanrenxiuxianchuan-wangyu_'\n",
    "# FILENAME = 'fanrenxiuxianchuan-wangyu.html'\n",
    "# NUMBER = int(2453)"
   ]
  },
  {
   "cell_type": "markdown",
   "metadata": {},
   "source": [
    "11.. 我師兄實在太穩健了"
   ]
  },
  {
   "cell_type": "code",
   "execution_count": 13,
   "metadata": {},
   "outputs": [],
   "source": [
    "if A == 11:\n",
    "    novel = '我師兄實在太穩健了'\n",
    "    web = 'https://www.bg3.co/novel/pagea/woshixiongshizaitaiwenjianle-yanguizhengzhuan_794.html'\n",
    "\n",
    "    NAME = \"《\" + novel + \"》\"\n",
    "    TITLE = novel\n",
    "    URL = str(web.split(\"_\")[0]) + \"_\"\n",
    "    FILENAME = str(web.split('/')[-1].split('_')[0]) + '.html'\n",
    "    PAGE = int(web.split('/')[-1].split('_')[1].split('.html')[0])\n",
    "\n",
    "    URLFILENAME = str(web.split('/')[-1].split('_')[0])\n",
    "\n",
    "    NUMBER = int(100)  #固定\n",
    "\n",
    "    print(\"NAME:\", NAME)\n",
    "    print(\"TITLE:\", TITLE)\n",
    "    print(\"URL:\", URL)\n",
    "    print(\"FILENAME:\", FILENAME)\n",
    "    print(\"PAGE:\", PAGE)\n",
    "    print(\"URLFILENAME:\", URLFILENAME)\n",
    "\n",
    "# NAME = '凡人修仙傳_html'\n",
    "# TITLE = '凡人修仙傳'\n",
    "# URL = 'https://www.bg3.co/novel/pagea/fanrenxiuxianchuan-wangyu_'\n",
    "# FILENAME = 'fanrenxiuxianchuan-wangyu.html'\n",
    "# NUMBER = int(2453)"
   ]
  },
  {
   "cell_type": "markdown",
   "metadata": {},
   "source": [
    "修真聊天羣（聊天羣的日常生活）"
   ]
  },
  {
   "cell_type": "code",
   "execution_count": 14,
   "metadata": {},
   "outputs": [
    {
     "name": "stdout",
     "output_type": "stream",
     "text": [
      "NAME: 《修真聊天羣》\n",
      "TITLE: 修真聊天羣\n",
      "URL: https://www.bg3.co/novel/pagea/xiuzhenliaotianqunliaotianqunderichangshenghuo-shengqishidechuanshuo_\n",
      "FILENAME: xiuzhenliaotianqunliaotianqunderichangshenghuo-shengqishidechuanshuo.html\n",
      "PAGE: 3187\n",
      "URLFILENAME: xiuzhenliaotianqunliaotianqunderichangshenghuo-shengqishidechuanshuo\n"
     ]
    }
   ],
   "source": [
    "if A == 12:\n",
    "    novel = '修真聊天羣'\n",
    "    web = 'https://www.bg3.co/novel/pagea/xiuzhenliaotianqunliaotianqunderichangshenghuo-shengqishidechuanshuo_3187.html'\n",
    "\n",
    "    NAME = \"《\" + novel + \"》\"\n",
    "    TITLE = novel\n",
    "    URL = str(web.split(\"_\")[0]) + \"_\"\n",
    "    FILENAME = str(web.split('/')[-1].split('_')[0]) + '.html'\n",
    "    PAGE = int(web.split('/')[-1].split('_')[1].split('.html')[0])\n",
    "\n",
    "    URLFILENAME = str(web.split('/')[-1].split('_')[0])\n",
    "\n",
    "    NUMBER = int(100)  #固定\n",
    "\n",
    "    print(\"NAME:\", NAME)\n",
    "    print(\"TITLE:\", TITLE)\n",
    "    print(\"URL:\", URL)\n",
    "    print(\"FILENAME:\", FILENAME)\n",
    "    print(\"PAGE:\", PAGE)\n",
    "    print(\"URLFILENAME:\", URLFILENAME)\n",
    "\n",
    "# NAME = '凡人修仙傳_html'\n",
    "# TITLE = '凡人修仙傳'\n",
    "# URL = 'https://www.bg3.co/novel/pagea/fanrenxiuxianchuan-wangyu_'\n",
    "# FILENAME = 'fanrenxiuxianchuan-wangyu.html'\n",
    "# NUMBER = int(2453)"
   ]
  },
  {
   "attachments": {},
   "cell_type": "markdown",
   "metadata": {},
   "source": [
    "13.. 大奉打更人"
   ]
  },
  {
   "cell_type": "code",
   "execution_count": 15,
   "metadata": {},
   "outputs": [],
   "source": [
    "if A == 13:\n",
    "    novel = '大奉打更人'\n",
    "    web = 'https://www.bg3.co/novel/pagea/dafengdagengren-maibaoxiaolangjun_954.html'\n",
    "\n",
    "    NAME = \"《\" + novel + \"》\"\n",
    "    TITLE = novel\n",
    "    URL = str(web.split(\"_\")[0]) + \"_\"\n",
    "    FILENAME = str(web.split('/')[-1].split('_')[0]) + '.html'\n",
    "    PAGE = int(web.split('/')[-1].split('_')[1].split('.html')[0])\n",
    "\n",
    "    URLFILENAME = str(web.split('/')[-1].split('_')[0])\n",
    "\n",
    "    NUMBER = int(100)  #固定\n",
    "\n",
    "    print(\"NAME:\", NAME)\n",
    "    print(\"TITLE:\", TITLE)\n",
    "    print(\"URL:\", URL)\n",
    "    print(\"FILENAME:\", FILENAME)\n",
    "    print(\"PAGE:\", PAGE)\n",
    "    print(\"URLFILENAME:\", URLFILENAME)\n",
    "\n",
    "# NAME = '凡人修仙傳_html'\n",
    "# TITLE = '凡人修仙傳'\n",
    "# URL = 'https://www.bg3.co/novel/pagea/fanrenxiuxianchuan-wangyu_'\n",
    "# FILENAME = 'fanrenxiuxianchuan-wangyu.html'\n",
    "# NUMBER = int(2453)"
   ]
  },
  {
   "cell_type": "markdown",
   "metadata": {},
   "source": [
    "大符篆師"
   ]
  },
  {
   "cell_type": "code",
   "execution_count": 16,
   "metadata": {},
   "outputs": [],
   "source": [
    "if A == 14:\n",
    "    novel = '大符篆師'\n",
    "    web = 'https://www.bg3.co/novel/pagea/dafuzhuanshi-xiaodaofengli_695.html'\n",
    "\n",
    "    NAME = \"《\" + novel + \"》\"\n",
    "    TITLE = novel\n",
    "    URL = str(web.split(\"_\")[0]) + \"_\"\n",
    "    FILENAME = str(web.split('/')[-1].split('_')[0]) + '.html'\n",
    "    PAGE = int(web.split('/')[-1].split('_')[1].split('.html')[0])\n",
    "\n",
    "    URLFILENAME = str(web.split('/')[-1].split('_')[0])\n",
    "\n",
    "    NUMBER = int(100)  #固定\n",
    "\n",
    "    print(\"NAME:\", NAME)\n",
    "    print(\"TITLE:\", TITLE)\n",
    "    print(\"URL:\", URL)\n",
    "    print(\"FILENAME:\", FILENAME)\n",
    "    print(\"PAGE:\", PAGE)\n",
    "    print(\"URLFILENAME:\", URLFILENAME)\n",
    "\n",
    "# NAME = '凡人修仙傳_html'\n",
    "# TITLE = '凡人修仙傳'\n",
    "# URL = 'https://www.bg3.co/novel/pagea/fanrenxiuxianchuan-wangyu_'\n",
    "# FILENAME = 'fanrenxiuxianchuan-wangyu.html'\n",
    "# NUMBER = int(2453)"
   ]
  },
  {
   "cell_type": "code",
   "execution_count": null,
   "metadata": {},
   "outputs": [],
   "source": []
  },
  {
   "attachments": {},
   "cell_type": "markdown",
   "metadata": {},
   "source": [
    "## check"
   ]
  },
  {
   "cell_type": "code",
   "execution_count": 17,
   "metadata": {},
   "outputs": [
    {
     "name": "stdout",
     "output_type": "stream",
     "text": [
      "NAME: 《修真聊天羣》\n",
      "TITLE: 修真聊天羣\n",
      "URL: https://www.bg3.co/novel/pagea/xiuzhenliaotianqunliaotianqunderichangshenghuo-shengqishidechuanshuo_\n",
      "FILENAME: xiuzhenliaotianqunliaotianqunderichangshenghuo-shengqishidechuanshuo.html\n",
      "PAGE: 3187\n",
      "URLFILENAME: xiuzhenliaotianqunliaotianqunderichangshenghuo-shengqishidechuanshuo\n"
     ]
    }
   ],
   "source": [
    "print(\"NAME:\", NAME)\n",
    "print(\"TITLE:\", TITLE)\n",
    "print(\"URL:\", URL)\n",
    "print(\"FILENAME:\", FILENAME)\n",
    "print(\"PAGE:\", PAGE)\n",
    "print(\"URLFILENAME:\", URLFILENAME)"
   ]
  },
  {
   "attachments": {},
   "cell_type": "markdown",
   "metadata": {},
   "source": [
    "# creat catalogue index"
   ]
  },
  {
   "cell_type": "code",
   "execution_count": 18,
   "metadata": {},
   "outputs": [],
   "source": [
    "# with open('title_name_url.csv', 'r', encoding='utf-8-sig') as file:\n",
    "#     lines = file.readlines()\n",
    "if INDEX == True:\n",
    "\n",
    "    with open(f'{URLFILENAME}/{FILENAME}', 'w', encoding='utf-8-sig') as file:\n",
    "        \n",
    "        name = f'{NAME}'\n",
    "        file.write(f'''\n",
    "    <!doctype html>\n",
    "    <html lang=\"en\">\n",
    "    <head>\n",
    "        <!-- Required meta tags -->\n",
    "        <meta charset=\"utf-8\">\n",
    "        <meta name=\"viewport\" content=\"width=device-width, initial-scale=1, shrink-to-fit=no\">\n",
    "\n",
    "        <!-- Bootstrap CSS -->\n",
    "        <link href=\"https://cdn.jsdelivr.net/npm/bootstrap@5.0.0/dist/css/bootstrap.min.css\" rel=\"stylesheet\" integrity=\"sha384-wEmeIV1mKuiNpC+IOBjI7aAzPcEZeedi5yW5f2yOq55WWLwNGmvvx4Um1vskeMj0\" crossorigin=\"anonymous\">\n",
    "        <link rel=\"stylesheet\" type=\"text/css\" href=\"https://jimmy-shian.github.io/novel/novel.css\">\n",
    "        \n",
    "    <link rel=\"icon\" type=\"image/png\" href=\"https://jimmy-shian.github.io/novel/picture/webico.png\">\n",
    "    <!-- <style>\n",
    "    </style> -->\n",
    "            <title>{NAME}目錄</title>\n",
    "\n",
    "    </head>\n",
    "    <body>\n",
    "        <div id=\"content-nav\">    </div>\n",
    "                <div class=\"spacer\"></div>\n",
    "                <center>\n",
    "                <h2>\n",
    "                    <img src=\"https://jimmy-shian.github.io/novel/picture/{TITLE}封面.jpg\" alt=\"{NAME}\">\n",
    "                    {NAME}章節網頁跳轉\n",
    "                </h2>\n",
    "                <br> \n",
    "                ''')\n",
    "        file.write(f'''\n",
    "                <div class=\"catalogue_container\">\n",
    "                    <form class=\"d-flex\">\n",
    "                    <input class=\"form-control me-2\" type=\"search\" placeholder=\"請輸入數字\" value=\"{NUMBER}\" aria-label=\"Search\" id=\"numberInput\">\n",
    "                    <button class=\"btn btn-outline-success\" type=\"submit\" value=\"Go to Chapter\">Search</button>\n",
    "                    </form>\n",
    "                </div>\n",
    "                <br>\n",
    "                <button id=\"openBtn\" class=\"btn btn-change\" >展開章節列表</button>\n",
    "                <div id=\"table-list\"></div>\n",
    "                <br>\n",
    "                <div id=\"loading-indicator\" style=\"display:none;\">正在加載...</div>\n",
    "\n",
    "                </center>\n",
    "            <div class=\"spacer\"></div>    <div class=\"spacer\"></div>\n",
    "            <div id=\"content-end\">  </div>\n",
    "            \n",
    "          <script src=\"https://code.jquery.com/jquery-3.7.0.min.js\" integrity=\"sha256-2Pmvv0kuTBOenSvLm6bvfBSSHrUJ+3A7x6P5Ebd07/g=\" crossorigin=\"anonymous\"></script>\n",
    "\n",
    "          <script src=\"https://cdn.jsdelivr.net/npm/bootstrap@5.0.0/dist/js/bootstrap.bundle.min.js\" integrity=\"sha384-p34f1UUtsS3wqzfto5wAAmdvj+osOnFyQFpp4Ua3gs/ZVWx6oOypYoCJhGGScy+8\" crossorigin=\"anonymous\"></script>\n",
    "          <script src=\"https://jimmy-shian.github.io/novel/index.waku.js\" defer></script>\n",
    "\n",
    "            </body>\n",
    "            </html>\n",
    "        \n",
    "            ''')\n"
   ]
  },
  {
   "attachments": {},
   "cell_type": "markdown",
   "metadata": {},
   "source": [
    "# grab title from html to csv to txt"
   ]
  },
  {
   "cell_type": "code",
   "execution_count": 19,
   "metadata": {},
   "outputs": [],
   "source": [
    "# list = ['《帝霸》▷ 神秘番外第一章雨夜中的烏鴉,帝霸_html3.html']\n",
    "\n",
    "# elements = list[0].split(',')\n",
    "# title = elements[0].replace(\"《帝霸》▷ \", \"\")\n",
    "# filename = elements[1]\n",
    "\n",
    "# print(elements)\n",
    "# print(title, filename)"
   ]
  },
  {
   "cell_type": "code",
   "execution_count": 20,
   "metadata": {},
   "outputs": [],
   "source": [
    "# def catch_title(a):\n",
    "#     url = f'{URLFILENAME}/{TITLE}_html' + str(a) + '.html'\n",
    "#     with open(url, encoding='UTF-8') as file:\n",
    "#         # 解析HTML\n",
    "#         soup = BeautifulSoup(file, \"lxml\")\n",
    "#         # 查找 title 標籤\n",
    "#         title = soup.find(\"title\").text\n",
    "#         name_url = title + str(\",\") +url \n",
    "#     return name_url"
   ]
  },
  {
   "cell_type": "code",
   "execution_count": 21,
   "metadata": {},
   "outputs": [],
   "source": [
    "# list_title = []\n",
    "# list_url = []\n",
    "# for a in range(1,PAGE):\n",
    "#     text = catch_title(a)\n",
    "#     new_list = catch_title(a)\n",
    " \n",
    "#     elements = new_list.split(',')\n",
    "#     title = elements[0].replace(f\"{NAME}▷ \", \"\")\n",
    "#     filename = elements[1]\n",
    "\n",
    "#     list_title.append(title)\n",
    "#     list_url.append(filename)"
   ]
  },
  {
   "cell_type": "code",
   "execution_count": 22,
   "metadata": {},
   "outputs": [
    {
     "name": "stderr",
     "output_type": "stream",
     "text": [
      "1102it [00:03, 339.64it/s]\n"
     ]
    },
    {
     "ename": "FileNotFoundError",
     "evalue": "[Errno 2] No such file or directory: 'xiuzhenliaotianqunliaotianqunderichangshenghuo-shengqishidechuanshuo/修真聊天羣_html1103.html'",
     "output_type": "error",
     "traceback": [
      "\u001b[1;31m---------------------------------------------------------------------------\u001b[0m",
      "\u001b[1;31mFileNotFoundError\u001b[0m                         Traceback (most recent call last)",
      "Cell \u001b[1;32mIn[22], line 23\u001b[0m\n\u001b[0;32m     20\u001b[0m results \u001b[39m=\u001b[39m executor\u001b[39m.\u001b[39mmap(catch_title, urls)\n\u001b[0;32m     22\u001b[0m \u001b[39m# 將標題和 URL 分別儲存到 list_title 和 list_url 中\u001b[39;00m\n\u001b[1;32m---> 23\u001b[0m \u001b[39mfor\u001b[39;00m result \u001b[39min\u001b[39;00m tqdm(results):\n\u001b[0;32m     24\u001b[0m     elements \u001b[39m=\u001b[39m result\u001b[39m.\u001b[39msplit(\u001b[39m'\u001b[39m\u001b[39m,\u001b[39m\u001b[39m'\u001b[39m)\n\u001b[0;32m     25\u001b[0m     title \u001b[39m=\u001b[39m elements[\u001b[39m0\u001b[39m]\u001b[39m.\u001b[39mreplace(\u001b[39mf\u001b[39m\u001b[39m\"\u001b[39m\u001b[39m{\u001b[39;00mNAME\u001b[39m}\u001b[39;00m\u001b[39m▷ \u001b[39m\u001b[39m\"\u001b[39m, \u001b[39m\"\u001b[39m\u001b[39m\"\u001b[39m)\n",
      "File \u001b[1;32m~\\venv\\Lib\\site-packages\\tqdm\\std.py:1178\u001b[0m, in \u001b[0;36mtqdm.__iter__\u001b[1;34m(self)\u001b[0m\n\u001b[0;32m   1175\u001b[0m time \u001b[39m=\u001b[39m \u001b[39mself\u001b[39m\u001b[39m.\u001b[39m_time\n\u001b[0;32m   1177\u001b[0m \u001b[39mtry\u001b[39;00m:\n\u001b[1;32m-> 1178\u001b[0m     \u001b[39mfor\u001b[39;00m obj \u001b[39min\u001b[39;00m iterable:\n\u001b[0;32m   1179\u001b[0m         \u001b[39myield\u001b[39;00m obj\n\u001b[0;32m   1180\u001b[0m         \u001b[39m# Update and possibly print the progressbar.\u001b[39;00m\n\u001b[0;32m   1181\u001b[0m         \u001b[39m# Note: does not call self.update(1) for speed optimisation.\u001b[39;00m\n",
      "File \u001b[1;32m~\\AppData\\Local\\Programs\\Python\\Python311\\Lib\\concurrent\\futures\\_base.py:619\u001b[0m, in \u001b[0;36mExecutor.map.<locals>.result_iterator\u001b[1;34m()\u001b[0m\n\u001b[0;32m    616\u001b[0m \u001b[39mwhile\u001b[39;00m fs:\n\u001b[0;32m    617\u001b[0m     \u001b[39m# Careful not to keep a reference to the popped future\u001b[39;00m\n\u001b[0;32m    618\u001b[0m     \u001b[39mif\u001b[39;00m timeout \u001b[39mis\u001b[39;00m \u001b[39mNone\u001b[39;00m:\n\u001b[1;32m--> 619\u001b[0m         \u001b[39myield\u001b[39;00m _result_or_cancel(fs\u001b[39m.\u001b[39;49mpop())\n\u001b[0;32m    620\u001b[0m     \u001b[39melse\u001b[39;00m:\n\u001b[0;32m    621\u001b[0m         \u001b[39myield\u001b[39;00m _result_or_cancel(fs\u001b[39m.\u001b[39mpop(), end_time \u001b[39m-\u001b[39m time\u001b[39m.\u001b[39mmonotonic())\n",
      "File \u001b[1;32m~\\AppData\\Local\\Programs\\Python\\Python311\\Lib\\concurrent\\futures\\_base.py:317\u001b[0m, in \u001b[0;36m_result_or_cancel\u001b[1;34m(***failed resolving arguments***)\u001b[0m\n\u001b[0;32m    315\u001b[0m \u001b[39mtry\u001b[39;00m:\n\u001b[0;32m    316\u001b[0m     \u001b[39mtry\u001b[39;00m:\n\u001b[1;32m--> 317\u001b[0m         \u001b[39mreturn\u001b[39;00m fut\u001b[39m.\u001b[39;49mresult(timeout)\n\u001b[0;32m    318\u001b[0m     \u001b[39mfinally\u001b[39;00m:\n\u001b[0;32m    319\u001b[0m         fut\u001b[39m.\u001b[39mcancel()\n",
      "File \u001b[1;32m~\\AppData\\Local\\Programs\\Python\\Python311\\Lib\\concurrent\\futures\\_base.py:449\u001b[0m, in \u001b[0;36mFuture.result\u001b[1;34m(self, timeout)\u001b[0m\n\u001b[0;32m    447\u001b[0m     \u001b[39mraise\u001b[39;00m CancelledError()\n\u001b[0;32m    448\u001b[0m \u001b[39melif\u001b[39;00m \u001b[39mself\u001b[39m\u001b[39m.\u001b[39m_state \u001b[39m==\u001b[39m FINISHED:\n\u001b[1;32m--> 449\u001b[0m     \u001b[39mreturn\u001b[39;00m \u001b[39mself\u001b[39;49m\u001b[39m.\u001b[39;49m__get_result()\n\u001b[0;32m    451\u001b[0m \u001b[39mself\u001b[39m\u001b[39m.\u001b[39m_condition\u001b[39m.\u001b[39mwait(timeout)\n\u001b[0;32m    453\u001b[0m \u001b[39mif\u001b[39;00m \u001b[39mself\u001b[39m\u001b[39m.\u001b[39m_state \u001b[39min\u001b[39;00m [CANCELLED, CANCELLED_AND_NOTIFIED]:\n",
      "File \u001b[1;32m~\\AppData\\Local\\Programs\\Python\\Python311\\Lib\\concurrent\\futures\\_base.py:401\u001b[0m, in \u001b[0;36mFuture.__get_result\u001b[1;34m(self)\u001b[0m\n\u001b[0;32m    399\u001b[0m \u001b[39mif\u001b[39;00m \u001b[39mself\u001b[39m\u001b[39m.\u001b[39m_exception:\n\u001b[0;32m    400\u001b[0m     \u001b[39mtry\u001b[39;00m:\n\u001b[1;32m--> 401\u001b[0m         \u001b[39mraise\u001b[39;00m \u001b[39mself\u001b[39m\u001b[39m.\u001b[39m_exception\n\u001b[0;32m    402\u001b[0m     \u001b[39mfinally\u001b[39;00m:\n\u001b[0;32m    403\u001b[0m         \u001b[39m# Break a reference cycle with the exception in self._exception\u001b[39;00m\n\u001b[0;32m    404\u001b[0m         \u001b[39mself\u001b[39m \u001b[39m=\u001b[39m \u001b[39mNone\u001b[39;00m\n",
      "File \u001b[1;32m~\\AppData\\Local\\Programs\\Python\\Python311\\Lib\\concurrent\\futures\\thread.py:58\u001b[0m, in \u001b[0;36m_WorkItem.run\u001b[1;34m(self)\u001b[0m\n\u001b[0;32m     55\u001b[0m     \u001b[39mreturn\u001b[39;00m\n\u001b[0;32m     57\u001b[0m \u001b[39mtry\u001b[39;00m:\n\u001b[1;32m---> 58\u001b[0m     result \u001b[39m=\u001b[39m \u001b[39mself\u001b[39;49m\u001b[39m.\u001b[39;49mfn(\u001b[39m*\u001b[39;49m\u001b[39mself\u001b[39;49m\u001b[39m.\u001b[39;49margs, \u001b[39m*\u001b[39;49m\u001b[39m*\u001b[39;49m\u001b[39mself\u001b[39;49m\u001b[39m.\u001b[39;49mkwargs)\n\u001b[0;32m     59\u001b[0m \u001b[39mexcept\u001b[39;00m \u001b[39mBaseException\u001b[39;00m \u001b[39mas\u001b[39;00m exc:\n\u001b[0;32m     60\u001b[0m     \u001b[39mself\u001b[39m\u001b[39m.\u001b[39mfuture\u001b[39m.\u001b[39mset_exception(exc)\n",
      "Cell \u001b[1;32mIn[22], line 5\u001b[0m, in \u001b[0;36mcatch_title\u001b[1;34m(url)\u001b[0m\n\u001b[0;32m      4\u001b[0m \u001b[39mdef\u001b[39;00m \u001b[39mcatch_title\u001b[39m(url):\n\u001b[1;32m----> 5\u001b[0m     \u001b[39mwith\u001b[39;00m \u001b[39mopen\u001b[39;49m(url, encoding\u001b[39m=\u001b[39;49m\u001b[39m'\u001b[39;49m\u001b[39mUTF-8\u001b[39;49m\u001b[39m'\u001b[39;49m) \u001b[39mas\u001b[39;00m file:\n\u001b[0;32m      6\u001b[0m         \u001b[39m# 解析HTML\u001b[39;00m\n\u001b[0;32m      7\u001b[0m         soup \u001b[39m=\u001b[39m BeautifulSoup(file, \u001b[39m\"\u001b[39m\u001b[39mlxml\u001b[39m\u001b[39m\"\u001b[39m)\n\u001b[0;32m      8\u001b[0m         \u001b[39m# 查找 title 標籤\u001b[39;00m\n",
      "File \u001b[1;32m~\\venv\\Lib\\site-packages\\IPython\\core\\interactiveshell.py:282\u001b[0m, in \u001b[0;36m_modified_open\u001b[1;34m(file, *args, **kwargs)\u001b[0m\n\u001b[0;32m    275\u001b[0m \u001b[39mif\u001b[39;00m file \u001b[39min\u001b[39;00m {\u001b[39m0\u001b[39m, \u001b[39m1\u001b[39m, \u001b[39m2\u001b[39m}:\n\u001b[0;32m    276\u001b[0m     \u001b[39mraise\u001b[39;00m \u001b[39mValueError\u001b[39;00m(\n\u001b[0;32m    277\u001b[0m         \u001b[39mf\u001b[39m\u001b[39m\"\u001b[39m\u001b[39mIPython won\u001b[39m\u001b[39m'\u001b[39m\u001b[39mt let you open fd=\u001b[39m\u001b[39m{\u001b[39;00mfile\u001b[39m}\u001b[39;00m\u001b[39m by default \u001b[39m\u001b[39m\"\u001b[39m\n\u001b[0;32m    278\u001b[0m         \u001b[39m\"\u001b[39m\u001b[39mas it is likely to crash IPython. If you know what you are doing, \u001b[39m\u001b[39m\"\u001b[39m\n\u001b[0;32m    279\u001b[0m         \u001b[39m\"\u001b[39m\u001b[39myou can use builtins\u001b[39m\u001b[39m'\u001b[39m\u001b[39m open.\u001b[39m\u001b[39m\"\u001b[39m\n\u001b[0;32m    280\u001b[0m     )\n\u001b[1;32m--> 282\u001b[0m \u001b[39mreturn\u001b[39;00m io_open(file, \u001b[39m*\u001b[39;49margs, \u001b[39m*\u001b[39;49m\u001b[39m*\u001b[39;49mkwargs)\n",
      "\u001b[1;31mFileNotFoundError\u001b[0m: [Errno 2] No such file or directory: 'xiuzhenliaotianqunliaotianqunderichangshenghuo-shengqishidechuanshuo/修真聊天羣_html1103.html'"
     ]
    }
   ],
   "source": [
    "import concurrent.futures\n",
    "from bs4 import BeautifulSoup\n",
    "\n",
    "def catch_title(url):\n",
    "    with open(url, encoding='UTF-8') as file:\n",
    "        # 解析HTML\n",
    "        soup = BeautifulSoup(file, \"lxml\")\n",
    "        # 查找 title 標籤\n",
    "        title = soup.find(\"title\").text\n",
    "        name_url = title + str(\",\") +url \n",
    "    return name_url\n",
    "\n",
    "list_title = []\n",
    "list_url = []\n",
    "with concurrent.futures.ThreadPoolExecutor() as executor:\n",
    "    # 設定要處理的網頁 URL 列表\n",
    "    urls = [f'{URLFILENAME}/{TITLE}_html{a}.html' for a in range(1, PAGE+1)]\n",
    "\n",
    "    # 使用多執行緒下載網頁並解析標題\n",
    "    results = executor.map(catch_title, urls)\n",
    "\n",
    "    # 將標題和 URL 分別儲存到 list_title 和 list_url 中\n",
    "    for result in tqdm(results):\n",
    "        elements = result.split(',')\n",
    "        title = elements[0].replace(f\"{NAME}▷ \", \"\")\n",
    "        filename = elements[1]\n",
    "        list_title.append(title)\n",
    "        list_url.append(filename)\n"
   ]
  },
  {
   "cell_type": "code",
   "execution_count": null,
   "metadata": {},
   "outputs": [],
   "source": [
    "header = ['title', 'url']\n",
    "df = pd.DataFrame((zip(list_title, list_url)), columns=header)\n",
    "\n",
    "df.to_csv(f\"{URLFILENAME}/title_name_url.csv\", index=False, header=False, encoding='utf-8-sig')\n",
    "# df.to_csv(\"title_name_url.txt\", index=False, sep='\\t', header=True)\n"
   ]
  },
  {
   "cell_type": "code",
   "execution_count": null,
   "metadata": {},
   "outputs": [],
   "source": [
    "import csv\n",
    "\n",
    "with open(f'{URLFILENAME}/title_name_url.csv', 'r', encoding='utf-8-sig') as file:\n",
    "    reader = csv.reader(file)\n",
    "    with open(f'{URLFILENAME}/table.txt', 'w', encoding='utf-8-sig') as table_file:\n",
    "        table_file.write(f'''\n",
    "      <div class=\"spacer\"></div>\n",
    "            <table class=\"title-table\">\n",
    "        ''')\n",
    "        count = 0\n",
    "        for row in reader:\n",
    "            novel_name = row[0]\n",
    "            novel_url = row[1]\n",
    "            if count % 4 == 0:\n",
    "                table_file.write(f'''\n",
    "                    <tr>\n",
    "                ''')\n",
    "            table_file.write(f'''\n",
    "                  <td class=\"title-td\"><a href=\"https://jimmy-shian.github.io/novel/{novel_url}\">{novel_name}</a></td>\n",
    "            ''')\n",
    "            if count % 4 == 3:\n",
    "                table_file.write(f'''\n",
    "                    </tr>\n",
    "                ''')\n",
    "            count += 1\n",
    "        if count % 4 != 0:\n",
    "            table_file.write(f'''\n",
    "                </tr>\n",
    "            ''')\n",
    "        table_file.write(f'''\n",
    "            </table>\n",
    "      <div class=\"spacer\"></div>\n",
    "        ''')\n",
    "         \n"
   ]
  }
 ],
 "metadata": {
  "kernelspec": {
   "display_name": "Python 3 (ipykernel)",
   "language": "python",
   "name": "python3"
  },
  "language_info": {
   "codemirror_mode": {
    "name": "ipython",
    "version": 3
   },
   "file_extension": ".py",
   "mimetype": "text/x-python",
   "name": "python",
   "nbconvert_exporter": "python",
   "pygments_lexer": "ipython3",
   "version": "3.11.2"
  },
  "orig_nbformat": 4,
  "vscode": {
   "interpreter": {
    "hash": "4f51678d26300acc1504d5f231aa64fefd00fb6340e5aa8a951d06e8266bb69e"
   }
  }
 },
 "nbformat": 4,
 "nbformat_minor": 2
}
