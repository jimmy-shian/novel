{
 "cells": [
  {
   "attachments": {},
   "cell_type": "markdown",
   "metadata": {},
   "source": [
    "# import"
   ]
  },
  {
   "cell_type": "code",
   "execution_count": 79,
   "metadata": {},
   "outputs": [],
   "source": [
    "import requests\n",
    "import numpy as np\n",
    "import re\n",
    "import time\n",
    "from bs4 import BeautifulSoup\n",
    "import subprocess\n",
    "import os\n",
    "import pandas as pd\n",
    "from tqdm import tqdm\n",
    "\n",
    "# 執行具有 'env_pytorch' 的儲存格需要 ipykernel 套件。\n",
    "# Run the following command to install 'ipykernel' into the Python environment. \n",
    "# Command: 'conda install -n venv ipykernel --update-deps --force-reinstall'\n",
    "# conda install --name venv --update-deps --force-reinstall"
   ]
  },
  {
   "attachments": {},
   "cell_type": "markdown",
   "metadata": {},
   "source": [
    "## choice"
   ]
  },
  {
   "cell_type": "code",
   "execution_count": 80,
   "metadata": {},
   "outputs": [],
   "source": [
    "INDEX = True\n",
    "\n",
    "CREAT_TITLE = True\n",
    "\n",
    "A = 28\n"
   ]
  },
  {
   "attachments": {},
   "cell_type": "markdown",
   "metadata": {},
   "source": [
    "# chose novel set"
   ]
  },
  {
   "attachments": {},
   "cell_type": "markdown",
   "metadata": {},
   "source": [
    " 帝霸"
   ]
  },
  {
   "cell_type": "code",
   "execution_count": 81,
   "metadata": {},
   "outputs": [],
   "source": [
    "# window.location.href = '帝霸_html' + numberInput + '.html';\n",
    "# 需要更改跳轉網址 & name ，已不需要\n",
    "if A == 1:\n",
    "    novel = '帝霸'\n",
    "    web = 'https://www.bg3.co/novel/pagea/diba-yanbixiaosheng_5454.html'\n",
    "\n",
    "    NAME = \"《\" + novel + \"》\"\n",
    "    TITLE = novel\n",
    "    URL = str(web.split(\"_\")[0]) + \"_\"\n",
    "    FILENAME = str(web.split('/')[-1].split('_')[0]) + '.html'\n",
    "    PAGE = int(web.split('/')[-1].split('_')[1].split('.html')[0])\n",
    "\n",
    "    URLFILENAME = str(web.split('/')[-1].split('_')[0])\n",
    "\n",
    "    NUMBER = int(100)  #固定\n",
    "\n",
    "    print(\"NAME:\", NAME)\n",
    "    print(\"TITLE:\", TITLE)\n",
    "    print(\"URL:\", URL)\n",
    "    print(\"FILENAME:\", FILENAME)\n",
    "    print(\"PAGE:\", PAGE)\n",
    "    print(\"URLFILENAME:\", URLFILENAME)\n"
   ]
  },
  {
   "attachments": {},
   "cell_type": "markdown",
   "metadata": {},
   "source": [
    "凡人修仙傳"
   ]
  },
  {
   "cell_type": "code",
   "execution_count": 82,
   "metadata": {},
   "outputs": [],
   "source": [
    "# window.location.href = '帝霸_html' + numberInput + '.html';\n",
    "# 需要更改跳轉網址 & name ，已不需要\n",
    "if A == 2:\n",
    "    novel = '凡人修仙傳'\n",
    "    web = 'https://www.bg3.co/novel/pagea/fanrenxiuxianchuan-wangyu_2452.html'\n",
    "\n",
    "    NAME = \"《\" + novel + \"》\"\n",
    "    TITLE = novel\n",
    "    URL = str(web.split(\"_\")[0]) + \"_\"\n",
    "    FILENAME = str(web.split('/')[-1].split('_')[0]) + '.html'\n",
    "    PAGE = int(web.split('/')[-1].split('_')[1].split('.html')[0])\n",
    "\n",
    "    URLFILENAME = str(web.split('/')[-1].split('_')[0])\n",
    "\n",
    "    NUMBER = int(100)  #固定\n",
    "\n",
    "    print(\"NAME:\", NAME)\n",
    "    print(\"TITLE:\", TITLE)\n",
    "    print(\"URL:\", URL)\n",
    "    print(\"FILENAME:\", FILENAME)\n",
    "    print(\"PAGE:\", PAGE)\n",
    "    print(\"URLFILENAME:\", URLFILENAME)\n"
   ]
  },
  {
   "attachments": {},
   "cell_type": "markdown",
   "metadata": {},
   "source": [
    "凡人修仙之仙界篇"
   ]
  },
  {
   "cell_type": "code",
   "execution_count": 83,
   "metadata": {},
   "outputs": [],
   "source": [
    "# window.location.href = '帝霸_html' + numberInput + '.html';\n",
    "# 需要更改跳轉網址 & name ，已不需要\n",
    "if A == 3:\n",
    "    novel = '凡人修仙之仙界篇'\n",
    "    web = 'https://www.bg3.co/novel/pagea/fanrenxiuxianzhixianjiepian-wangyu_1405.html'\n",
    "\n",
    "    NAME = \"《\" + novel + \"》\"\n",
    "    TITLE = novel\n",
    "    URL = str(web.split(\"_\")[0]) + \"_\"\n",
    "    FILENAME = str(web.split('/')[-1].split('_')[0]) + '.html'\n",
    "    PAGE = int(web.split('/')[-1].split('_')[1].split('.html')[0])\n",
    "\n",
    "    URLFILENAME = str(web.split('/')[-1].split('_')[0])\n",
    "\n",
    "    NUMBER = int(100)  #固定\n",
    "\n",
    "    print(\"NAME:\", NAME)\n",
    "    print(\"TITLE:\", TITLE)\n",
    "    print(\"URL:\", URL)\n",
    "    print(\"FILENAME:\", FILENAME)\n",
    "    print(\"PAGE:\", PAGE)\n",
    "    print(\"URLFILENAME:\", URLFILENAME)\n"
   ]
  },
  {
   "attachments": {},
   "cell_type": "markdown",
   "metadata": {},
   "source": [
    "求魔"
   ]
  },
  {
   "cell_type": "code",
   "execution_count": 84,
   "metadata": {},
   "outputs": [],
   "source": [
    "# window.location.href = '帝霸_html' + numberInput + '.html';\n",
    "# 需要更改跳轉網址 & name ，已不需要\n",
    "if A == 4:\n",
    "    novel = '求魔'\n",
    "    web = 'https://www.bg3.co/novel/pagea/qiumo-ergen_1483.html'\n",
    "\n",
    "    NAME = \"《\" + novel + \"》\"\n",
    "    TITLE = novel\n",
    "    URL = str(web.split(\"_\")[0]) + \"_\"\n",
    "    FILENAME = str(web.split('/')[-1].split('_')[0]) + '.html'\n",
    "    PAGE = int(web.split('/')[-1].split('_')[1].split('.html')[0])\n",
    "\n",
    "    URLFILENAME = str(web.split('/')[-1].split('_')[0])\n",
    "\n",
    "    NUMBER = int(100)  #固定\n",
    "\n",
    "    print(\"NAME:\", NAME)\n",
    "    print(\"TITLE:\", TITLE)\n",
    "    print(\"URL:\", URL)\n",
    "    print(\"FILENAME:\", FILENAME)\n",
    "    print(\"PAGE:\", PAGE)\n",
    "    print(\"URLFILENAME:\", URLFILENAME)\n"
   ]
  },
  {
   "attachments": {},
   "cell_type": "markdown",
   "metadata": {},
   "source": [
    "全職法師"
   ]
  },
  {
   "cell_type": "code",
   "execution_count": 85,
   "metadata": {},
   "outputs": [],
   "source": [
    "# window.location.href = '帝霸_html' + numberInput + '.html';\n",
    "# 需要更改跳轉網址 & name ，已不需要\n",
    "if A == 5:\n",
    "    novel = '全職法師'\n",
    "    web = 'https://www.bg3.co/novel/pagea/quanzhifashi-luan_3131.html'\n",
    "\n",
    "    NAME = \"《\" + novel + \"》\"\n",
    "    TITLE = novel\n",
    "    URL = str(web.split(\"_\")[0]) + \"_\"\n",
    "    FILENAME = str(web.split('/')[-1].split('_')[0]) + '.html'\n",
    "    PAGE = int(web.split('/')[-1].split('_')[1].split('.html')[0])\n",
    "\n",
    "    URLFILENAME = str(web.split('/')[-1].split('_')[0])\n",
    "\n",
    "    NUMBER = int(100)  #固定\n",
    "\n",
    "    print(\"NAME:\", NAME)\n",
    "    print(\"TITLE:\", TITLE)\n",
    "    print(\"URL:\", URL)\n",
    "    print(\"FILENAME:\", FILENAME)\n",
    "    print(\"PAGE:\", PAGE)\n",
    "    print(\"URLFILENAME:\", URLFILENAME)\n"
   ]
  },
  {
   "attachments": {},
   "cell_type": "markdown",
   "metadata": {},
   "source": [
    "三寸人間"
   ]
  },
  {
   "cell_type": "code",
   "execution_count": 86,
   "metadata": {},
   "outputs": [],
   "source": [
    "# window.location.href = '帝霸_html' + numberInput + '.html';\n",
    "# 需要更改跳轉網址 & name ，已不需要\n",
    "if A == 6:\n",
    "    novel = '三寸人間'\n",
    "    web = 'https://www.bg3.co/novel/pagea/sancunrenjian-ergen_1459.html'\n",
    "\n",
    "    NAME = \"《\" + novel + \"》\"\n",
    "    TITLE = novel\n",
    "    URL = str(web.split(\"_\")[0]) + \"_\"\n",
    "    FILENAME = str(web.split('/')[-1].split('_')[0]) + '.html'\n",
    "    PAGE = int(web.split('/')[-1].split('_')[1].split('.html')[0])\n",
    "\n",
    "    URLFILENAME = str(web.split('/')[-1].split('_')[0])\n",
    "\n",
    "    NUMBER = int(100)  #固定\n",
    "\n",
    "    print(\"NAME:\", NAME)\n",
    "    print(\"TITLE:\", TITLE)\n",
    "    print(\"URL:\", URL)\n",
    "    print(\"FILENAME:\", FILENAME)\n",
    "    print(\"PAGE:\", PAGE)\n",
    "    print(\"URLFILENAME:\", URLFILENAME)\n"
   ]
  },
  {
   "attachments": {},
   "cell_type": "markdown",
   "metadata": {},
   "source": [
    "我欲封天"
   ]
  },
  {
   "cell_type": "code",
   "execution_count": 87,
   "metadata": {},
   "outputs": [],
   "source": [
    "# window.location.href = '帝霸_html' + numberInput + '.html';\n",
    "# 需要更改跳轉網址 & name ，已不需要\n",
    "if A == 7:\n",
    "    novel = '我欲封天'\n",
    "    web = 'https://www.bg3.co/novel/pagea/woyufengtian-ergen_1619.html'\n",
    "\n",
    "    NAME = \"《\" + novel + \"》\"\n",
    "    TITLE = novel\n",
    "    URL = str(web.split(\"_\")[0]) + \"_\"\n",
    "    FILENAME = str(web.split('/')[-1].split('_')[0]) + '.html'\n",
    "    PAGE = int(web.split('/')[-1].split('_')[1].split('.html')[0])\n",
    "\n",
    "    URLFILENAME = str(web.split('/')[-1].split('_')[0])\n",
    "\n",
    "    NUMBER = int(100)  #固定\n",
    "\n",
    "    print(\"NAME:\", NAME)\n",
    "    print(\"TITLE:\", TITLE)\n",
    "    print(\"URL:\", URL)\n",
    "    print(\"FILENAME:\", FILENAME)\n",
    "    print(\"PAGE:\", PAGE)\n",
    "    print(\"URLFILENAME:\", URLFILENAME)\n"
   ]
  },
  {
   "attachments": {},
   "cell_type": "markdown",
   "metadata": {},
   "source": [
    "仙逆"
   ]
  },
  {
   "cell_type": "code",
   "execution_count": 88,
   "metadata": {},
   "outputs": [],
   "source": [
    "# window.location.href = '帝霸_html' + numberInput + '.html';\n",
    "# 需要更改跳轉網址 & name ，已不需要\n",
    "if A == 8:\n",
    "    novel = '仙逆'\n",
    "    web = 'https://www.bg3.co/novel/pagea/xianni-ergen_2031.html'\n",
    "\n",
    "    NAME = \"《\" + novel + \"》\"\n",
    "    TITLE = novel\n",
    "    URL = str(web.split(\"_\")[0]) + \"_\"\n",
    "    FILENAME = str(web.split('/')[-1].split('_')[0]) + '.html'\n",
    "    PAGE = int(web.split('/')[-1].split('_')[1].split('.html')[0])\n",
    "\n",
    "    URLFILENAME = str(web.split('/')[-1].split('_')[0])\n",
    "\n",
    "    NUMBER = int(100)  #固定\n",
    "\n",
    "    print(\"NAME:\", NAME)\n",
    "    print(\"TITLE:\", TITLE)\n",
    "    print(\"URL:\", URL)\n",
    "    print(\"FILENAME:\", FILENAME)\n",
    "    print(\"PAGE:\", PAGE)\n",
    "    print(\"URLFILENAME:\", URLFILENAME)\n"
   ]
  },
  {
   "attachments": {},
   "cell_type": "markdown",
   "metadata": {},
   "source": [
    "一念永恆"
   ]
  },
  {
   "cell_type": "code",
   "execution_count": 89,
   "metadata": {},
   "outputs": [],
   "source": [
    "# window.location.href = '帝霸_html' + numberInput + '.html';\n",
    "# 需要更改跳轉網址 & name ，已不需要\n",
    "if A == 9:\n",
    "    novel = '一念永恆'\n",
    "    web = 'https://www.bg3.co/novel/pagea/yinianyongheng-ergen_1318.html'\n",
    "\n",
    "    NAME = \"《\" + novel + \"》\"\n",
    "    TITLE = novel\n",
    "    URL = str(web.split(\"_\")[0]) + \"_\"\n",
    "    FILENAME = str(web.split('/')[-1].split('_')[0]) + '.html'\n",
    "    PAGE = int(web.split('/')[-1].split('_')[1].split('.html')[0])\n",
    "\n",
    "    URLFILENAME = str(web.split('/')[-1].split('_')[0])\n",
    "\n",
    "    NUMBER = int(100)  #固定\n",
    "\n",
    "    print(\"NAME:\", NAME)\n",
    "    print(\"TITLE:\", TITLE)\n",
    "    print(\"URL:\", URL)\n",
    "    print(\"FILENAME:\", FILENAME)\n",
    "    print(\"PAGE:\", PAGE)\n",
    "    print(\"URLFILENAME:\", URLFILENAME)\n"
   ]
  },
  {
   "attachments": {},
   "cell_type": "markdown",
   "metadata": {},
   "source": [
    "關於我轉生變成史萊姆這檔事"
   ]
  },
  {
   "cell_type": "code",
   "execution_count": 90,
   "metadata": {},
   "outputs": [],
   "source": [
    "if A == 10:\n",
    "    novel = '關於我轉生變成史萊姆這檔事'\n",
    "    web = 'https://www.wenku8.net/novel/1/1787/61157.htm'\n",
    "\n",
    "    NAME = novel + \"_html\"\n",
    "    TITLE = novel\n",
    "    URL = \"https://www.wenku8.net/novel/1/1787/\"\n",
    "    FILENAME = \"regarding-reincarnated-to-slime\" + \".html\"\n",
    "    NUMBER = int(web.split(\"/\")[-1].split(\".htm\")[0]) + 1\n",
    "    URLFILENAME = \"regarding-reincarnated-to-slime\"\n",
    "\n",
    "    print(\"URLFILENAME:\", URLFILENAME)\n",
    "    print(\"NAME =\", NAME)\n",
    "    print(\"TITLE =\", TITLE)\n",
    "    print(\"URL =\", URL)\n",
    "    print(\"FILENAME =\", FILENAME)\n",
    "    print(\"NUMBER =\", NUMBER)\n",
    "\n",
    "# NAME = '凡人修仙傳_html'\n",
    "# TITLE = '凡人修仙傳'\n",
    "# URL = 'https://www.bg3.co/novel/pagea/fanrenxiuxianchuan-wangyu_'\n",
    "# FILENAME = 'fanrenxiuxianchuan-wangyu.html'\n",
    "# NUMBER = int(2453)"
   ]
  },
  {
   "cell_type": "markdown",
   "metadata": {},
   "source": [
    "11.. 我師兄實在太穩健了"
   ]
  },
  {
   "cell_type": "code",
   "execution_count": 91,
   "metadata": {},
   "outputs": [],
   "source": [
    "if A == 11:\n",
    "    novel = '我師兄實在太穩健了'\n",
    "    web = 'https://www.bg3.co/novel/pagea/woshixiongshizaitaiwenjianle-yanguizhengzhuan_794.html'\n",
    "\n",
    "    NAME = \"《\" + novel + \"》\"\n",
    "    TITLE = novel\n",
    "    URL = str(web.split(\"_\")[0]) + \"_\"\n",
    "    FILENAME = str(web.split('/')[-1].split('_')[0]) + '.html'\n",
    "    PAGE = int(web.split('/')[-1].split('_')[1].split('.html')[0])\n",
    "\n",
    "    URLFILENAME = str(web.split('/')[-1].split('_')[0])\n",
    "\n",
    "    NUMBER = int(100)  #固定\n",
    "\n",
    "    print(\"NAME:\", NAME)\n",
    "    print(\"TITLE:\", TITLE)\n",
    "    print(\"URL:\", URL)\n",
    "    print(\"FILENAME:\", FILENAME)\n",
    "    print(\"PAGE:\", PAGE)\n",
    "    print(\"URLFILENAME:\", URLFILENAME)\n",
    "\n",
    "# NAME = '凡人修仙傳_html'\n",
    "# TITLE = '凡人修仙傳'\n",
    "# URL = 'https://www.bg3.co/novel/pagea/fanrenxiuxianchuan-wangyu_'\n",
    "# FILENAME = 'fanrenxiuxianchuan-wangyu.html'\n",
    "# NUMBER = int(2453)"
   ]
  },
  {
   "cell_type": "markdown",
   "metadata": {},
   "source": [
    "修真聊天羣（聊天羣的日常生活）"
   ]
  },
  {
   "cell_type": "code",
   "execution_count": 92,
   "metadata": {},
   "outputs": [],
   "source": [
    "if A == 12:\n",
    "    novel = '修真聊天羣'\n",
    "    web = 'https://www.bg3.co/novel/pagea/xiuzhenliaotianqunliaotianqunderichangshenghuo-shengqishidechuanshuo_3187.html'\n",
    "\n",
    "    NAME = \"《\" + novel + \"》\"\n",
    "    TITLE = novel\n",
    "    URL = str(web.split(\"_\")[0]) + \"_\"\n",
    "    FILENAME = str(web.split('/')[-1].split('_')[0]) + '.html'\n",
    "    PAGE = int(web.split('/')[-1].split('_')[1].split('.html')[0])\n",
    "\n",
    "    URLFILENAME = str(web.split('/')[-1].split('_')[0])\n",
    "\n",
    "    NUMBER = int(100)  #固定\n",
    "\n",
    "    print(\"NAME:\", NAME)\n",
    "    print(\"TITLE:\", TITLE)\n",
    "    print(\"URL:\", URL)\n",
    "    print(\"FILENAME:\", FILENAME)\n",
    "    print(\"PAGE:\", PAGE)\n",
    "    print(\"URLFILENAME:\", URLFILENAME)\n",
    "\n",
    "# NAME = '凡人修仙傳_html'\n",
    "# TITLE = '凡人修仙傳'\n",
    "# URL = 'https://www.bg3.co/novel/pagea/fanrenxiuxianchuan-wangyu_'\n",
    "# FILENAME = 'fanrenxiuxianchuan-wangyu.html'\n",
    "# NUMBER = int(2453)"
   ]
  },
  {
   "attachments": {},
   "cell_type": "markdown",
   "metadata": {},
   "source": [
    "13.. 大奉打更人"
   ]
  },
  {
   "cell_type": "code",
   "execution_count": 93,
   "metadata": {},
   "outputs": [],
   "source": [
    "if A == 13:\n",
    "    novel = '大奉打更人'\n",
    "    web = 'https://www.bg3.co/novel/pagea/dafengdagengren-maibaoxiaolangjun_954.html'\n",
    "\n",
    "    NAME = \"《\" + novel + \"》\"\n",
    "    TITLE = novel\n",
    "    URL = str(web.split(\"_\")[0]) + \"_\"\n",
    "    FILENAME = str(web.split('/')[-1].split('_')[0]) + '.html'\n",
    "    PAGE = int(web.split('/')[-1].split('_')[1].split('.html')[0])\n",
    "\n",
    "    URLFILENAME = str(web.split('/')[-1].split('_')[0])\n",
    "\n",
    "    NUMBER = int(100)  #固定\n",
    "\n",
    "    print(\"NAME:\", NAME)\n",
    "    print(\"TITLE:\", TITLE)\n",
    "    print(\"URL:\", URL)\n",
    "    print(\"FILENAME:\", FILENAME)\n",
    "    print(\"PAGE:\", PAGE)\n",
    "    print(\"URLFILENAME:\", URLFILENAME)\n",
    "\n",
    "# NAME = '凡人修仙傳_html'\n",
    "# TITLE = '凡人修仙傳'\n",
    "# URL = 'https://www.bg3.co/novel/pagea/fanrenxiuxianchuan-wangyu_'\n",
    "# FILENAME = 'fanrenxiuxianchuan-wangyu.html'\n",
    "# NUMBER = int(2453)"
   ]
  },
  {
   "cell_type": "markdown",
   "metadata": {},
   "source": [
    "大符篆師"
   ]
  },
  {
   "cell_type": "code",
   "execution_count": 94,
   "metadata": {},
   "outputs": [],
   "source": [
    "if A == 14:\n",
    "    novel = '大符篆師'\n",
    "    web = 'https://www.bg3.co/novel/pagea/dafuzhuanshi-xiaodaofengli_695.html'\n",
    "\n",
    "    NAME = \"《\" + novel + \"》\"\n",
    "    TITLE = novel\n",
    "    URL = str(web.split(\"_\")[0]) + \"_\"\n",
    "    FILENAME = str(web.split('/')[-1].split('_')[0]) + '.html'\n",
    "    PAGE = int(web.split('/')[-1].split('_')[1].split('.html')[0])\n",
    "\n",
    "    URLFILENAME = str(web.split('/')[-1].split('_')[0])\n",
    "\n",
    "    NUMBER = int(100)  #固定\n",
    "\n",
    "    print(\"NAME:\", NAME)\n",
    "    print(\"TITLE:\", TITLE)\n",
    "    print(\"URL:\", URL)\n",
    "    print(\"FILENAME:\", FILENAME)\n",
    "    print(\"PAGE:\", PAGE)\n",
    "    print(\"URLFILENAME:\", URLFILENAME)\n",
    "\n",
    "# NAME = '凡人修仙傳_html'\n",
    "# TITLE = '凡人修仙傳'\n",
    "# URL = 'https://www.bg3.co/novel/pagea/fanrenxiuxianchuan-wangyu_'\n",
    "# FILENAME = 'fanrenxiuxianchuan-wangyu.html'\n",
    "# NUMBER = int(2453)"
   ]
  },
  {
   "cell_type": "markdown",
   "metadata": {},
   "source": [
    "15.. 滄元圖"
   ]
  },
  {
   "cell_type": "code",
   "execution_count": 95,
   "metadata": {},
   "outputs": [],
   "source": [
    "if A == 15:\n",
    "    novel = '滄元圖'\n",
    "    web = 'https://www.bg3.co/novel/pagea/cangyuantu-wochixihongshi_767.html'\n",
    "\n",
    "    NAME = \"《\" + novel + \"》\"\n",
    "    TITLE = novel\n",
    "    URL = str(web.split(\"_\")[0]) + \"_\"\n",
    "    FILENAME = str(web.split('/')[-1].split('_')[0]) + '.html'\n",
    "    PAGE = int(web.split('/')[-1].split('_')[1].split('.html')[0])\n",
    "\n",
    "    URLFILENAME = str(web.split('/')[-1].split('_')[0])\n",
    "\n",
    "    NUMBER = int(100)  #固定\n",
    "\n",
    "    print(\"NAME:\", NAME)\n",
    "    print(\"TITLE:\", TITLE)\n",
    "    print(\"URL:\", URL)\n",
    "    print(\"FILENAME:\", FILENAME)\n",
    "    print(\"PAGE:\", PAGE)\n",
    "    print(\"URLFILENAME:\", URLFILENAME)\n",
    "\n",
    "# NAME = '凡人修仙傳_html'\n",
    "# TITLE = '凡人修仙傳'\n",
    "# URL = 'https://www.bg3.co/novel/pagea/fanrenxiuxianchuan-wangyu_'\n",
    "# FILENAME = 'fanrenxiuxianchuan-wangyu.html'\n",
    "# NUMBER = int(2453)"
   ]
  },
  {
   "attachments": {},
   "cell_type": "markdown",
   "metadata": {},
   "source": [
    "百鍊成仙"
   ]
  },
  {
   "cell_type": "code",
   "execution_count": 96,
   "metadata": {},
   "outputs": [],
   "source": [
    "if A == 16:\n",
    "    novel = '百鍊成仙'\n",
    "    web = 'https://www.bg3.co/novel/pagea/bailianchengxian-huanyu_4225.html'\n",
    "\n",
    "    NAME = \"《\" + novel + \"》\"\n",
    "    TITLE = novel\n",
    "    URL = str(web.split(\"_\")[0]) + \"_\"\n",
    "    FILENAME = str(web.split('/')[-1].split('_')[0]) + '.html'\n",
    "    PAGE = int(web.split('/')[-1].split('_')[1].split('.html')[0])\n",
    "\n",
    "    URLFILENAME = str(web.split('/')[-1].split('_')[0])\n",
    "\n",
    "    NUMBER = int(100)  #固定\n",
    "\n",
    "    print(\"NAME:\", NAME)\n",
    "    print(\"TITLE:\", TITLE)\n",
    "    print(\"URL:\", URL)\n",
    "    print(\"FILENAME:\", FILENAME)\n",
    "    print(\"PAGE:\", PAGE)\n",
    "    print(\"URLFILENAME:\", URLFILENAME)\n",
    "\n",
    "# NAME = '凡人修仙傳_html'\n",
    "# TITLE = '凡人修仙傳'\n",
    "# URL = 'https://www.bg3.co/novel/pagea/fanrenxiuxianchuan-wangyu_'\n",
    "# FILENAME = 'fanrenxiuxianchuan-wangyu.html'\n",
    "# NUMBER = int(2453)"
   ]
  },
  {
   "attachments": {},
   "cell_type": "markdown",
   "metadata": {},
   "source": [
    "17.. 星門"
   ]
  },
  {
   "cell_type": "code",
   "execution_count": 97,
   "metadata": {},
   "outputs": [],
   "source": [
    "if A == 17:\n",
    "    novel = '星門'\n",
    "    web = 'https://www.bg3.co/novel/pagea/xingmen-laoyingchixiaoji_628.html'\n",
    "\n",
    "    NAME = \"《\" + novel + \"》\"\n",
    "    TITLE = novel\n",
    "    URL = str(web.split(\"_\")[0]) + \"_\"\n",
    "    FILENAME = str(web.split('/')[-1].split('_')[0]) + '.html'\n",
    "    PAGE = int(web.split('/')[-1].split('_')[1].split('.html')[0])\n",
    "\n",
    "    URLFILENAME = str(web.split('/')[-1].split('_')[0])\n",
    "\n",
    "    NUMBER = int(100)  #固定\n",
    "\n",
    "    print(\"NAME:\", NAME)\n",
    "    print(\"TITLE:\", TITLE)\n",
    "    print(\"URL:\", URL)\n",
    "    print(\"FILENAME:\", FILENAME)\n",
    "    print(\"PAGE:\", PAGE)\n",
    "    print(\"URLFILENAME:\", URLFILENAME)\n",
    "\n",
    "# NAME = '凡人修仙傳_html'\n",
    "# TITLE = '凡人修仙傳'\n",
    "# URL = 'https://www.bg3.co/novel/pagea/fanrenxiuxianchuan-wangyu_'\n",
    "# FILENAME = 'fanrenxiuxianchuan-wangyu.html'\n",
    "# NUMBER = int(2453)"
   ]
  },
  {
   "attachments": {},
   "cell_type": "markdown",
   "metadata": {},
   "source": [
    "鬥破蒼穹"
   ]
  },
  {
   "cell_type": "code",
   "execution_count": 98,
   "metadata": {},
   "outputs": [],
   "source": [
    "if A == 18:\n",
    "    novel = '鬥破蒼穹'\n",
    "    web = 'https://www.bg3.co/novel/pagea/doupocangqiong-tiancantudou_1663.html'\n",
    "\n",
    "    NAME = \"《\" + novel + \"》\"\n",
    "    TITLE = novel\n",
    "    URL = str(web.split(\"_\")[0]) + \"_\"\n",
    "    FILENAME = str(web.split('/')[-1].split('_')[0]) + '.html'\n",
    "    PAGE = int(web.split('/')[-1].split('_')[1].split('.html')[0])\n",
    "\n",
    "    URLFILENAME = str(web.split('/')[-1].split('_')[0])\n",
    "\n",
    "    NUMBER = int(100)  #固定\n",
    "\n",
    "    print(\"NAME:\", NAME)\n",
    "    print(\"TITLE:\", TITLE)\n",
    "    print(\"URL:\", URL)\n",
    "    print(\"FILENAME:\", FILENAME)\n",
    "    print(\"PAGE:\", PAGE)\n",
    "    print(\"URLFILENAME:\", URLFILENAME)\n",
    "\n",
    "# NAME = '凡人修仙傳_html'\n",
    "# TITLE = '凡人修仙傳'\n",
    "# URL = 'https://www.bg3.co/novel/pagea/fanrenxiuxianchuan-wangyu_'\n",
    "# FILENAME = 'fanrenxiuxianchuan-wangyu.html'\n",
    "# NUMBER = int(2453)"
   ]
  },
  {
   "attachments": {},
   "cell_type": "markdown",
   "metadata": {},
   "source": [
    "19.. 聖墟"
   ]
  },
  {
   "cell_type": "code",
   "execution_count": 99,
   "metadata": {},
   "outputs": [],
   "source": [
    "if A == 19:\n",
    "    novel = '聖墟'\n",
    "    web = 'https://www.bg3.co/novel/pagea/shengxu-chendong_1673.html'\n",
    "\n",
    "    NAME = \"《\" + novel + \"》\"\n",
    "    TITLE = novel\n",
    "    URL = str(web.split(\"_\")[0]) + \"_\"\n",
    "    FILENAME = str(web.split('/')[-1].split('_')[0]) + '.html'\n",
    "    PAGE = int(web.split('/')[-1].split('_')[1].split('.html')[0])\n",
    "\n",
    "    URLFILENAME = str(web.split('/')[-1].split('_')[0])\n",
    "\n",
    "    NUMBER = int(100)  #固定\n",
    "\n",
    "    print(\"NAME:\", NAME)\n",
    "    print(\"TITLE:\", TITLE)\n",
    "    print(\"URL:\", URL)\n",
    "    print(\"FILENAME:\", FILENAME)\n",
    "    print(\"PAGE:\", PAGE)\n",
    "    print(\"URLFILENAME:\", URLFILENAME)\n",
    "\n",
    "# NAME = '凡人修仙傳_html'\n",
    "# TITLE = '凡人修仙傳'\n",
    "# URL = 'https://www.bg3.co/novel/pagea/fanrenxiuxianchuan-wangyu_'\n",
    "# FILENAME = 'fanrenxiuxianchuan-wangyu.html'\n",
    "# NUMBER = int(2453)"
   ]
  },
  {
   "attachments": {},
   "cell_type": "markdown",
   "metadata": {},
   "source": [
    "牧龍師"
   ]
  },
  {
   "cell_type": "code",
   "execution_count": 100,
   "metadata": {},
   "outputs": [],
   "source": [
    "if A == 20:\n",
    "    novel = '牧龍師'\n",
    "    web = 'https://www.bg3.co/novel/pagea/mulongshi-luan_1531.html'\n",
    "\n",
    "    NAME = \"《\" + novel + \"》\"\n",
    "    TITLE = novel\n",
    "    URL = str(web.split(\"_\")[0]) + \"_\"\n",
    "    FILENAME = str(web.split('/')[-1].split('_')[0]) + '.html'\n",
    "    PAGE = int(web.split('/')[-1].split('_')[1].split('.html')[0])\n",
    "\n",
    "    URLFILENAME = str(web.split('/')[-1].split('_')[0])\n",
    "\n",
    "    NUMBER = int(100)  #固定\n",
    "\n",
    "    print(\"NAME:\", NAME)\n",
    "    print(\"TITLE:\", TITLE)\n",
    "    print(\"URL:\", URL)\n",
    "    print(\"FILENAME:\", FILENAME)\n",
    "    print(\"PAGE:\", PAGE)\n",
    "    print(\"URLFILENAME:\", URLFILENAME)\n",
    "\n",
    "# NAME = '凡人修仙傳_html'\n",
    "# TITLE = '凡人修仙傳'\n",
    "# URL = 'https://www.bg3.co/novel/pagea/fanrenxiuxianchuan-wangyu_'\n",
    "# FILENAME = 'fanrenxiuxianchuan-wangyu.html'\n",
    "# NUMBER = int(2453)"
   ]
  },
  {
   "cell_type": "markdown",
   "metadata": {},
   "source": [
    "21.. 吞噬星空"
   ]
  },
  {
   "cell_type": "code",
   "execution_count": 101,
   "metadata": {},
   "outputs": [],
   "source": [
    "if A == 21:\n",
    "    novel = '吞噬星空'\n",
    "    web = 'https://www.bg3.co/novel/pagea/tunshixingkong-wochixihongshi_1494.html'\n",
    "\n",
    "    NAME = \"《\" + novel + \"》\"\n",
    "    TITLE = novel\n",
    "    URL = str(web.split(\"_\")[0]) + \"_\"\n",
    "    FILENAME = str(web.split('/')[-1].split('_')[0]) + '.html'\n",
    "    PAGE = int(web.split('/')[-1].split('_')[1].split('.html')[0])\n",
    "\n",
    "    URLFILENAME = str(web.split('/')[-1].split('_')[0])\n",
    "\n",
    "    NUMBER = int(100)  #固定\n",
    "\n",
    "    print(\"NAME:\", NAME)\n",
    "    print(\"TITLE:\", TITLE)\n",
    "    print(\"URL:\", URL)\n",
    "    print(\"FILENAME:\", FILENAME)\n",
    "    print(\"PAGE:\", PAGE)\n",
    "    print(\"URLFILENAME:\", URLFILENAME)\n",
    "\n",
    "\n",
    "# NAME = '凡人修仙傳_html'\n",
    "# TITLE = '凡人修仙傳'\n",
    "# URL = 'https://www.bg3.co/novel/pagea/fanrenxiuxianchuan-wangyu_'\n",
    "# FILENAME = 'fanrenxiuxianchuan-wangyu.html'\n",
    "# NUMBER = int(2453)"
   ]
  },
  {
   "cell_type": "markdown",
   "metadata": {},
   "source": [
    "飛劍問道"
   ]
  },
  {
   "cell_type": "code",
   "execution_count": 102,
   "metadata": {},
   "outputs": [],
   "source": [
    "if A == 22:\n",
    "    novel = '飛劍問道'\n",
    "    web = 'https://www.bg3.co/novel/pagea/feijianwendao-wochixihongshi_741.html'\n",
    "\n",
    "    NAME = \"《\" + novel + \"》\"\n",
    "    TITLE = novel\n",
    "    URL = str(web.split(\"_\")[0]) + \"_\"\n",
    "    FILENAME = str(web.split('/')[-1].split('_')[0]) + '.html'\n",
    "    PAGE = int(web.split('/')[-1].split('_')[1].split('.html')[0])\n",
    "\n",
    "    URLFILENAME = str(web.split('/')[-1].split('_')[0])\n",
    "\n",
    "    NUMBER = int(100)  #固定\n",
    "\n",
    "    print(\"NAME:\", NAME)\n",
    "    print(\"TITLE:\", TITLE)\n",
    "    print(\"URL:\", URL)\n",
    "    print(\"FILENAME:\", FILENAME)\n",
    "    print(\"PAGE:\", PAGE)\n",
    "    print(\"URLFILENAME:\", URLFILENAME)\n",
    "\n",
    "\n",
    "# NAME = '凡人修仙傳_html'\n",
    "# TITLE = '凡人修仙傳'\n",
    "# URL = 'https://www.bg3.co/novel/pagea/fanrenxiuxianchuan-wangyu_'\n",
    "# FILENAME = 'fanrenxiuxianchuan-wangyu.html'\n",
    "# NUMBER = int(2453)"
   ]
  },
  {
   "cell_type": "markdown",
   "metadata": {},
   "source": [
    "23.. 魔天記"
   ]
  },
  {
   "cell_type": "code",
   "execution_count": 103,
   "metadata": {},
   "outputs": [],
   "source": [
    "if A == 23:\n",
    "    novel = '魔天記'\n",
    "    web = 'https://www.bg3.co/novel/pagea/motianji-wangyu_1604.html'\n",
    "\n",
    "    NAME = \"《\" + novel + \"》\"\n",
    "    TITLE = novel\n",
    "    URL = str(web.split(\"_\")[0]) + \"_\"\n",
    "    FILENAME = str(web.split('/')[-1].split('_')[0]) + '.html'\n",
    "    PAGE = int(web.split('/')[-1].split('_')[1].split('.html')[0])\n",
    "\n",
    "    URLFILENAME = str(web.split('/')[-1].split('_')[0])\n",
    "\n",
    "    NUMBER = int(100)  #固定\n",
    "\n",
    "    print(\"NAME:\", NAME)\n",
    "    print(\"TITLE:\", TITLE)\n",
    "    print(\"URL:\", URL)\n",
    "    print(\"FILENAME:\", FILENAME)\n",
    "    print(\"PAGE:\", PAGE)\n",
    "    print(\"URLFILENAME:\", URLFILENAME)\n",
    "\n",
    "\n",
    "# NAME = '凡人修仙傳_html'\n",
    "# TITLE = '凡人修仙傳'\n",
    "# URL = 'https://www.bg3.co/novel/pagea/fanrenxiuxianchuan-wangyu_'\n",
    "# FILENAME = 'fanrenxiuxianchuan-wangyu.html'\n",
    "# NUMBER = int(2453)"
   ]
  },
  {
   "cell_type": "markdown",
   "metadata": {},
   "source": [
    "玄界之門"
   ]
  },
  {
   "cell_type": "code",
   "execution_count": 104,
   "metadata": {},
   "outputs": [],
   "source": [
    "if A == 24:\n",
    "    novel = '玄界之門'\n",
    "    web = 'https://www.bg3.co/novel/pagea/xuanjiezhimen-wangyu_1120.html'\n",
    "\n",
    "    NAME = \"《\" + novel + \"》\"\n",
    "    TITLE = novel\n",
    "    URL = str(web.split(\"_\")[0]) + \"_\"\n",
    "    FILENAME = str(web.split('/')[-1].split('_')[0]) + '.html'\n",
    "    PAGE = int(web.split('/')[-1].split('_')[1].split('.html')[0])\n",
    "\n",
    "    URLFILENAME = str(web.split('/')[-1].split('_')[0])\n",
    "\n",
    "    NUMBER = int(100)  #固定\n",
    "\n",
    "    print(\"NAME:\", NAME)\n",
    "    print(\"TITLE:\", TITLE)\n",
    "    print(\"URL:\", URL)\n",
    "    print(\"FILENAME:\", FILENAME)\n",
    "    print(\"PAGE:\", PAGE)\n",
    "    print(\"URLFILENAME:\", URLFILENAME)\n",
    "\n",
    "# NAME = '凡人修仙傳_html'\n",
    "# TITLE = '凡人修仙傳'\n",
    "# URL = 'https://www.bg3.co/novel/pagea/fanrenxiuxianchuan-wangyu_'\n",
    "# FILENAME = 'fanrenxiuxianchuan-wangyu.html'\n",
    "# NUMBER = int(2453)"
   ]
  },
  {
   "attachments": {},
   "cell_type": "markdown",
   "metadata": {},
   "source": [
    "25.. 一品道門"
   ]
  },
  {
   "cell_type": "code",
   "execution_count": 105,
   "metadata": {},
   "outputs": [],
   "source": [
    "if A == 25:\n",
    "    novel = '一品道門'\n",
    "    web = 'https://www.wa01.com/novel/pagea/yipindaomen-dijiutianming_2348.html'\n",
    "\n",
    "    NAME = \"《\" + novel + \"》\"\n",
    "    TITLE = novel\n",
    "    URL = str(web.split(\"_\")[0]) + \"_\"\n",
    "    FILENAME = str(web.split('/')[-1].split('_')[0]) + '.html'\n",
    "    PAGE = int(web.split('/')[-1].split('_')[1].split('.html')[0])\n",
    "\n",
    "    URLFILENAME = str(web.split('/')[-1].split('_')[0])\n",
    "\n",
    "    NUMBER = int(100)  #固定\n",
    "\n",
    "    print(\"NAME:\", NAME)\n",
    "    print(\"TITLE:\", TITLE)\n",
    "    print(\"URL:\", URL)\n",
    "    print(\"FILENAME:\", FILENAME)\n",
    "    print(\"PAGE:\", PAGE)\n",
    "    print(\"URLFILENAME:\", URLFILENAME)\n",
    "\n",
    "# NAME = '凡人修仙傳_html'\n",
    "# TITLE = '凡人修仙傳'\n",
    "# URL = 'https://www.bg3.co/novel/pagea/fanrenxiuxianchuan-wangyu_'\n",
    "# FILENAME = 'fanrenxiuxianchuan-wangyu.html'\n",
    "# NUMBER = int(2453)\n"
   ]
  },
  {
   "attachments": {},
   "cell_type": "markdown",
   "metadata": {},
   "source": [
    "我的徒弟都是大反派"
   ]
  },
  {
   "cell_type": "code",
   "execution_count": 106,
   "metadata": {},
   "outputs": [],
   "source": [
    "if A == 26:\n",
    "    novel = '我的徒弟都是大反派'\n",
    "    web = 'https://www.wa01.com/novel/pagea/wodetudidoushidafanpai-moushengrenzhuanpeng_1743.html'\n",
    "\n",
    "    NAME = \"《\" + novel + \"》\"\n",
    "    TITLE = novel\n",
    "    URL = str(web.split(\"_\")[0]) + \"_\"\n",
    "    FILENAME = str(web.split('/')[-1].split('_')[0]) + '.html'\n",
    "    PAGE = int(web.split('/')[-1].split('_')[1].split('.html')[0])\n",
    "\n",
    "    URLFILENAME = str(web.split('/')[-1].split('_')[0])\n",
    "\n",
    "    NUMBER = int(100)  #固定\n",
    "\n",
    "    print(\"NAME:\", NAME)\n",
    "    print(\"TITLE:\", TITLE)\n",
    "    print(\"URL:\", URL)\n",
    "    print(\"FILENAME:\", FILENAME)\n",
    "    print(\"PAGE:\", PAGE)\n",
    "    print(\"URLFILENAME:\", URLFILENAME)\n",
    "\n",
    "# NAME = '凡人修仙傳_html'\n",
    "# TITLE = '凡人修仙傳'\n",
    "# URL = 'https://www.bg3.co/novel/pagea/fanrenxiuxianchuan-wangyu_'\n",
    "# FILENAME = 'fanrenxiuxianchuan-wangyu.html'\n",
    "# NUMBER = int(2453)"
   ]
  },
  {
   "cell_type": "markdown",
   "metadata": {},
   "source": [
    "27.. 不科學御獸"
   ]
  },
  {
   "cell_type": "code",
   "execution_count": 107,
   "metadata": {},
   "outputs": [],
   "source": [
    "if A == 27:\n",
    "    novel = '不科學御獸'\n",
    "    web = 'https://www.wa01.com/novel/pagea/bukexueyushou-qingquanliuxiang_712.html'\n",
    "\n",
    "    NAME = \"《\" + novel + \"》\"\n",
    "    TITLE = novel\n",
    "    URL = str(web.split(\"_\")[0]) + \"_\"\n",
    "    FILENAME = str(web.split('/')[-1].split('_')[0]) + '.html'\n",
    "    PAGE = int(web.split('/')[-1].split('_')[1].split('.html')[0])\n",
    "\n",
    "    URLFILENAME = str(web.split('/')[-1].split('_')[0])\n",
    "\n",
    "    NUMBER = int(100)  #固定\n",
    "\n",
    "    print(\"NAME:\", NAME)\n",
    "    print(\"TITLE:\", TITLE)\n",
    "    print(\"URL:\", URL)\n",
    "    print(\"FILENAME:\", FILENAME)\n",
    "    print(\"PAGE:\", PAGE)\n",
    "    print(\"URLFILENAME:\", URLFILENAME)\n",
    "\n",
    "# NAME = '凡人修仙傳_html'\n",
    "# TITLE = '凡人修仙傳'\n",
    "# URL = 'https://www.bg3.co/novel/pagea/fanrenxiuxianchuan-wangyu_'\n",
    "# FILENAME = 'fanrenxiuxianchuan-wangyu.html'\n",
    "# NUMBER = int(2453)\n"
   ]
  },
  {
   "cell_type": "markdown",
   "metadata": {},
   "source": [
    "擇日飛昇"
   ]
  },
  {
   "cell_type": "code",
   "execution_count": 108,
   "metadata": {},
   "outputs": [
    {
     "name": "stdout",
     "output_type": "stream",
     "text": [
      "NAME: 《擇日飛昇》\n",
      "TITLE: 擇日飛昇\n",
      "URL: https://www.wa01.com/novel/pagea/zerifeisheng-zhaizhu_\n",
      "FILENAME: zerifeisheng-zhaizhu.html\n",
      "PAGE: 1046\n",
      "URLFILENAME: zerifeisheng-zhaizhu\n"
     ]
    }
   ],
   "source": [
    "if A == 28:\n",
    "    novel = '擇日飛昇'\n",
    "    web = 'https://www.wa01.com/novel/pagea/zerifeisheng-zhaizhu_1046.html'\n",
    "\n",
    "    NAME = \"《\" + novel + \"》\"\n",
    "    TITLE = novel\n",
    "    URL = str(web.split(\"_\")[0]) + \"_\"\n",
    "    FILENAME = str(web.split('/')[-1].split('_')[0]) + '.html'\n",
    "    PAGE = int(web.split('/')[-1].split('_')[1].split('.html')[0])\n",
    "\n",
    "    URLFILENAME = str(web.split('/')[-1].split('_')[0])\n",
    "\n",
    "    NUMBER = int(100)  #固定\n",
    "\n",
    "    print(\"NAME:\", NAME)\n",
    "    print(\"TITLE:\", TITLE)\n",
    "    print(\"URL:\", URL)\n",
    "    print(\"FILENAME:\", FILENAME)\n",
    "    print(\"PAGE:\", PAGE)\n",
    "    print(\"URLFILENAME:\", URLFILENAME)\n",
    "\n",
    "# NAME = '凡人修仙傳_html'\n",
    "# TITLE = '凡人修仙傳'\n",
    "# URL = 'https://www.bg3.co/novel/pagea/fanrenxiuxianchuan-wangyu_'\n",
    "# FILENAME = 'fanrenxiuxianchuan-wangyu.html'\n",
    "# NUMBER = int(2453)\n"
   ]
  },
  {
   "cell_type": "code",
   "execution_count": null,
   "metadata": {},
   "outputs": [],
   "source": []
  },
  {
   "cell_type": "code",
   "execution_count": 109,
   "metadata": {},
   "outputs": [
    {
     "name": "stdout",
     "output_type": "stream",
     "text": [
      "C:\\Users\\Administrator\\Desktop\\novel-main\\zerifeisheng-zhaizhu 已存在。\n"
     ]
    }
   ],
   "source": [
    "import os\n",
    "\n",
    "def create_folder(folder_path):\n",
    "    if not os.path.exists(folder_path):\n",
    "        os.makedirs(folder_path)\n",
    "        print(f\"{folder_path} 已創建。\")\n",
    "    else:\n",
    "        print(f\"{folder_path} 已存在。\")\n",
    "\n",
    "# 示例用法\n",
    "folder_path = r\"C:\\Users\\Administrator\\Desktop\\novel-main\" + \"\\\\\" + URLFILENAME\n",
    "\n",
    "create_folder(folder_path)"
   ]
  },
  {
   "cell_type": "code",
   "execution_count": null,
   "metadata": {},
   "outputs": [],
   "source": []
  },
  {
   "attachments": {},
   "cell_type": "markdown",
   "metadata": {},
   "source": [
    "## check"
   ]
  },
  {
   "cell_type": "code",
   "execution_count": 110,
   "metadata": {},
   "outputs": [
    {
     "name": "stdout",
     "output_type": "stream",
     "text": [
      "NAME: 《擇日飛昇》\n",
      "TITLE: 擇日飛昇\n",
      "URL: https://www.wa01.com/novel/pagea/zerifeisheng-zhaizhu_\n",
      "FILENAME: zerifeisheng-zhaizhu.html\n",
      "PAGE: 1046\n",
      "URLFILENAME: zerifeisheng-zhaizhu\n"
     ]
    }
   ],
   "source": [
    "print(\"NAME:\", NAME)\n",
    "print(\"TITLE:\", TITLE)\n",
    "print(\"URL:\", URL)\n",
    "print(\"FILENAME:\", FILENAME)\n",
    "print(\"PAGE:\", PAGE)\n",
    "print(\"URLFILENAME:\", URLFILENAME)"
   ]
  },
  {
   "attachments": {},
   "cell_type": "markdown",
   "metadata": {},
   "source": [
    "# creat catalogue index"
   ]
  },
  {
   "cell_type": "code",
   "execution_count": 111,
   "metadata": {},
   "outputs": [],
   "source": [
    "# with open('title_name_url.csv', 'r', encoding='utf-8-sig') as file:\n",
    "#     lines = file.readlines()\n",
    "if INDEX == True:\n",
    "\n",
    "    with open(f'{URLFILENAME}/{FILENAME}', 'w', encoding='utf-8-sig') as file:\n",
    "        \n",
    "        name = f'{NAME}'\n",
    "        file.write(f'''\n",
    "    <!doctype html>\n",
    "    <html lang=\"en\">\n",
    "    <head>\n",
    "        <!-- Required meta tags -->\n",
    "        <meta charset=\"utf-8\">\n",
    "        <meta name=\"viewport\" content=\"width=device-width, initial-scale=1, shrink-to-fit=no\">\n",
    "\n",
    "        <!-- Bootstrap CSS -->\n",
    "        <link href=\"https://cdn.jsdelivr.net/npm/bootstrap@5.0.0/dist/css/bootstrap.min.css\" rel=\"stylesheet\" integrity=\"sha384-wEmeIV1mKuiNpC+IOBjI7aAzPcEZeedi5yW5f2yOq55WWLwNGmvvx4Um1vskeMj0\" crossorigin=\"anonymous\">\n",
    "        <link rel=\"stylesheet\" type=\"text/css\" href=\"https://jimmy-shian.github.io/novel/novel.css\">\n",
    "        \n",
    "    <link rel=\"icon\" type=\"image/png\" href=\"https://jimmy-shian.github.io/novel/picture/webico.png\">\n",
    "    <!-- <style>\n",
    "    </style> -->\n",
    "            <title>{NAME}目錄</title>\n",
    "\n",
    "    </head>\n",
    "    <body>\n",
    "        <div id=\"content-nav\">    </div>\n",
    "                <div class=\"spacer\"></div>\n",
    "                <center>\n",
    "                <h2>\n",
    "                    <img src=\"https://jimmy-shian.github.io/novel/picture/{TITLE}封面.jpg\" alt=\"{NAME}\">\n",
    "                    {NAME}章節網頁跳轉\n",
    "                </h2>\n",
    "                <br> \n",
    "                ''')\n",
    "        file.write(f'''\n",
    "                <div class=\"catalogue_container\">\n",
    "                    <form class=\"d-flex\">\n",
    "                    <input class=\"form-control me-2\" type=\"search\" placeholder=\"請輸入數字\" value=\"{NUMBER}\" aria-label=\"Search\" id=\"numberInput\" inputmode=\"numeric\">\n",
    "                    <button class=\"btn btn-outline-success\" type=\"submit\" value=\"Go to Chapter\">Search</button>\n",
    "                    </form>\n",
    "                </div>\n",
    "                <br>\n",
    "                <button id=\"openBtn\" class=\"btn btn-change\" >展開章節列表</button>\n",
    "                <div id=\"table-list\"></div>\n",
    "                <br>\n",
    "                <div id=\"loading-indicator\" style=\"display:none;\">正在加載...</div>\n",
    "\n",
    "                </center>\n",
    "            <div class=\"spacer\"></div>    <div class=\"spacer\"></div>\n",
    "            <div id=\"content-end\">  </div>\n",
    "            \n",
    "          <!-- <script src=\"https://code.jquery.com/jquery-3.7.0.min.js\" integrity=\"sha256-2Pmvv0kuTBOenSvLm6bvfBSSHrUJ+3A7x6P5Ebd07/g=\" crossorigin=\"anonymous\"></script> -->\n",
    "          <script src=\"https://jimmy-shian.github.io/novel/jquery-3.7.0.min.js\" defer></script>\n",
    "          <script src=\"https://cdn.jsdelivr.net/npm/bootstrap@5.0.0/dist/js/bootstrap.bundle.min.js\" integrity=\"sha384-p34f1UUtsS3wqzfto5wAAmdvj+osOnFyQFpp4Ua3gs/ZVWx6oOypYoCJhGGScy+8\" crossorigin=\"anonymous\"></script>\n",
    "          <script src=\"https://jimmy-shian.github.io/novel/index.waku.js\" defer></script>\n",
    "\n",
    "            </body>\n",
    "            </html>\n",
    "        \n",
    "            ''')\n"
   ]
  },
  {
   "attachments": {},
   "cell_type": "markdown",
   "metadata": {},
   "source": [
    "# grab title from html to csv to txt"
   ]
  },
  {
   "cell_type": "code",
   "execution_count": 112,
   "metadata": {},
   "outputs": [],
   "source": [
    "# list = ['《帝霸》▷ 神秘番外第一章雨夜中的烏鴉,帝霸_html3.html']\n",
    "\n",
    "# elements = list[0].split(',')\n",
    "# title = elements[0].replace(\"《帝霸》▷ \", \"\")\n",
    "# filename = elements[1]\n",
    "\n",
    "# print(elements)\n",
    "# print(title, filename)"
   ]
  },
  {
   "cell_type": "code",
   "execution_count": 113,
   "metadata": {},
   "outputs": [],
   "source": [
    "# def catch_title(a):\n",
    "#     url = f'{URLFILENAME}/{TITLE}_html' + str(a) + '.html'\n",
    "#     with open(url, encoding='UTF-8') as file:\n",
    "#         # 解析HTML\n",
    "#         soup = BeautifulSoup(file, \"lxml\")\n",
    "#         # 查找 title 標籤\n",
    "#         title = soup.find(\"title\").text\n",
    "#         name_url = title + str(\",\") +url \n",
    "#     return name_url"
   ]
  },
  {
   "cell_type": "code",
   "execution_count": 114,
   "metadata": {},
   "outputs": [],
   "source": [
    "# list_title = []\n",
    "# list_url = []\n",
    "# for a in range(1,PAGE):\n",
    "#     text = catch_title(a)\n",
    "#     new_list = catch_title(a)\n",
    " \n",
    "#     elements = new_list.split(',')\n",
    "#     title = elements[0].replace(f\"{NAME}▷ \", \"\")\n",
    "#     filename = elements[1]\n",
    "\n",
    "#     list_title.append(title)\n",
    "#     list_url.append(filename)"
   ]
  },
  {
   "cell_type": "code",
   "execution_count": 115,
   "metadata": {},
   "outputs": [
    {
     "name": "stderr",
     "output_type": "stream",
     "text": [
      "24it [00:00, 226.84it/s]"
     ]
    },
    {
     "name": "stderr",
     "output_type": "stream",
     "text": [
      "1046it [00:02, 378.39it/s]\n"
     ]
    }
   ],
   "source": [
    "import concurrent.futures\n",
    "from bs4 import BeautifulSoup\n",
    "\n",
    "def catch_title(url):\n",
    "    with open(url, encoding='UTF-8') as file:\n",
    "        # 解析HTML\n",
    "        soup = BeautifulSoup(file, \"lxml\")\n",
    "        # 查找 title 標籤\n",
    "        title = soup.find(\"title\").text\n",
    "        name_url = title + str(\",\") +url \n",
    "    return name_url\n",
    "\n",
    "\n",
    "if CREAT_TITLE == True:\n",
    "    list_title = []\n",
    "    list_url = []\n",
    "    with concurrent.futures.ThreadPoolExecutor() as executor:\n",
    "        # 設定要處理的網頁 URL 列表\n",
    "        urls = [f'{URLFILENAME}/{TITLE}_html{a}.html' for a in range(1, PAGE+1)]\n",
    "\n",
    "        # 使用多執行緒下載網頁並解析標題\n",
    "        results = executor.map(catch_title, urls)\n",
    "\n",
    "        # 將標題和 URL 分別儲存到 list_title 和 list_url 中\n",
    "        for result in tqdm(results):\n",
    "            elements = result.split(',')\n",
    "            title = elements[0].replace(f\"{NAME}▷ \", \"\")\n",
    "            filename = elements[1]\n",
    "            list_title.append(title)\n",
    "            list_url.append(filename)\n"
   ]
  },
  {
   "attachments": {},
   "cell_type": "markdown",
   "metadata": {},
   "source": [
    "# Look here"
   ]
  },
  {
   "cell_type": "code",
   "execution_count": 116,
   "metadata": {},
   "outputs": [
    {
     "name": "stdout",
     "output_type": "stream",
     "text": [
      "start\n"
     ]
    }
   ],
   "source": [
    "if CREAT_TITLE == True:\n",
    "    print('start')\n",
    "    header = ['title', 'url']\n",
    "    df = pd.DataFrame((zip(list_title, list_url)), columns=header)\n",
    "\n",
    "    df.to_csv(f\"{URLFILENAME}/title_name_url.csv\", index=False, header=False, encoding='utf-8-sig')\n",
    "    # df.to_csv(\"title_name_url.txt\", index=False, sep='\\t', header=True)\n"
   ]
  },
  {
   "cell_type": "code",
   "execution_count": 117,
   "metadata": {},
   "outputs": [],
   "source": [
    "import csv\n",
    "\n",
    "if CREAT_TITLE == True:\n",
    "\n",
    "    with open(f'{URLFILENAME}/title_name_url.csv', 'r', encoding='utf-8-sig') as file:\n",
    "        reader = csv.reader(file)\n",
    "        with open(f'{URLFILENAME}/table.txt', 'w', encoding='utf-8-sig') as table_file:\n",
    "            table_file.write(f'''\n",
    "        <div class=\"spacer\"></div>\n",
    "                <table class=\"title-table\">\n",
    "            ''')\n",
    "            count = 0\n",
    "            for row in reader:\n",
    "                novel_name = row[0]\n",
    "                novel_url = row[1]\n",
    "                if count % 4 == 0:\n",
    "                    table_file.write(f'''\n",
    "                        <tr>\n",
    "                    ''')\n",
    "                table_file.write(f'''\n",
    "                    <td class=\"title-td\"><a href=\"https://jimmy-shian.github.io/novel/{novel_url}\">{novel_name}</a></td>\n",
    "                ''')\n",
    "                if count % 4 == 3:\n",
    "                    table_file.write(f'''\n",
    "                        </tr>\n",
    "                    ''')\n",
    "                count += 1\n",
    "            if count % 4 != 0:\n",
    "                table_file.write(f'''\n",
    "                    </tr>\n",
    "                ''')\n",
    "            table_file.write(f'''\n",
    "                </table>\n",
    "        <div class=\"spacer\"></div>\n",
    "            ''')\n",
    "            \n"
   ]
  }
 ],
 "metadata": {
  "kernelspec": {
   "display_name": "venv",
   "language": "python",
   "name": "python3"
  },
  "language_info": {
   "codemirror_mode": {
    "name": "ipython",
    "version": 3
   },
   "file_extension": ".py",
   "mimetype": "text/x-python",
   "name": "python",
   "nbconvert_exporter": "python",
   "pygments_lexer": "ipython3",
   "version": "3.11.2"
  },
  "orig_nbformat": 4
 },
 "nbformat": 4,
 "nbformat_minor": 2
}
