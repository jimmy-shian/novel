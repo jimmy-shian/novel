{
 "cells": [
  {
   "cell_type": "code",
   "execution_count": 1,
   "metadata": {},
   "outputs": [],
   "source": [
    "import requests\n",
    "import numpy as np\n",
    "import re\n",
    "import time\n",
    "from bs4 import BeautifulSoup\n",
    "import subprocess\n",
    "import os\n",
    "import pandas as pd"
   ]
  },
  {
   "cell_type": "markdown",
   "metadata": {},
   "source": [
    "# creat catalogue"
   ]
  },
  {
   "cell_type": "code",
   "execution_count": 2,
   "metadata": {},
   "outputs": [
    {
     "name": "stdout",
     "output_type": "stream",
     "text": [
      "NAME: 《凡人修仙傳》\n",
      "TITLE: 凡人修仙傳\n",
      "URL: https://www.bg3.co/novel/pagea/fanrenxiuxianchuan-wangyu_\n",
      "FILENAME: fanrenxiuxianchuan-wangyu.html\n",
      "PAGE: 1234\n",
      "URLFILENAME: fanrenxiuxianchuan-wangyu\n"
     ]
    }
   ],
   "source": [
    "# window.location.href = '帝霸_html' + numberInput + '.html';\n",
    "# 需要更改跳轉網址 & name ，已不需要\n",
    "\n",
    "novel = '凡人修仙傳'\n",
    "web = 'https://www.bg3.co/novel/pagea/fanrenxiuxianchuan-wangyu_2452.html'\n",
    "\n",
    "NAME = \"《\" + novel + \"》\"\n",
    "TITLE = novel\n",
    "URL = str(web.split(\"_\")[0]) + \"_\"\n",
    "FILENAME = str(web.split('/')[-1].split('_')[0]) + '.html'\n",
    "PAGE = int(web.split('/')[-1].split('_')[1].split('.html')[0])\n",
    "\n",
    "URLFILENAME = str(web.split('/')[-1].split('_')[0])\n",
    "\n",
    "NUMBER = int(100)  #固定\n",
    "\n",
    "print(\"NAME:\", NAME)\n",
    "print(\"TITLE:\", TITLE)\n",
    "print(\"URL:\", URL)\n",
    "print(\"FILENAME:\", FILENAME)\n",
    "print(\"PAGE:\", PAGE)\n",
    "print(\"URLFILENAME:\", URLFILENAME)\n"
   ]
  },
  {
   "cell_type": "code",
   "execution_count": 14,
   "metadata": {},
   "outputs": [],
   "source": [
    "# with open('title_name_url.csv', 'r', encoding='utf-8-sig') as file:\n",
    "#     lines = file.readlines()\n",
    "\n",
    "with open(FILENAME, 'w', encoding='utf-8-sig') as file:\n",
    "    \n",
    "    name = '《帝霸》'\n",
    "    file.write(f'''\n",
    "<!doctype html>\n",
    "<html lang=\"en\">\n",
    "  <head>\n",
    "    <!-- Required meta tags -->\n",
    "    <meta charset=\"utf-8\">\n",
    "    <meta name=\"viewport\" content=\"width=device-width, initial-scale=1, shrink-to-fit=no\">\n",
    "\n",
    "    <!-- Bootstrap CSS -->\n",
    "    <link href=\"https://cdn.jsdelivr.net/npm/bootstrap@5.0.0/dist/css/bootstrap.min.css\" rel=\"stylesheet\" integrity=\"sha384-wEmeIV1mKuiNpC+IOBjI7aAzPcEZeedi5yW5f2yOq55WWLwNGmvvx4Um1vskeMj0\" crossorigin=\"anonymous\">\n",
    "    <link rel=\"stylesheet\" type=\"text/css\" href=\"https://jimmy-shian.github.io/novel/novel.css\">\n",
    "    <!-- <script src=\"https://cdn.jsdelivr.net/npm/bootstrap@5.0.0/dist/js/bootstrap.bundle.min.js\" integrity=\"sha384-p34f1UUtsS3wqzfto5wAAmdvj+osOnFyQFpp4Ua3gs/ZVWx6oOypYoCJhGGScy+8\" crossorigin=\"anonymous\"></script> -->\n",
    "    <!-- <script src=\"https://jimmy-shian.github.io/novel/novel.js\"></script> -->\n",
    "    <!-- <script src=\"https://jimmy-shian.github.io/novel/table.js\"></script> -->\n",
    "    \n",
    "  <link rel=\"icon\" type=\"image/png\" href=\"https://jimmy-shian.github.io/novel/picture/webico.png\">\n",
    "  <!-- <style>\n",
    "  </style> -->\n",
    "          <title>{NAME}目錄</title>\n",
    "\n",
    "  </head>\n",
    "  <body>\n",
    "    <div id=\"content-nav\">    </div>\n",
    "            <div class=\"spacer\"></div>\n",
    "            <center>\n",
    "              <h2>\n",
    "                <img src=\"https://jimmy-shian.github.io/novel/picture/{TITLE}封面.jpg\" alt=\"{NAME}\">\n",
    "                {NAME}章節網頁跳轉\n",
    "              </h2>\n",
    "              <br> \n",
    "            ''')\n",
    "    file.write('''\n",
    "              <div class=\"catalogue_container\">\n",
    "                <form class=\"d-flex\">\n",
    "                  <input class=\"form-control me-2\" type=\"search\" placeholder=\"請輸入數字\" value=\"4400\" aria-label=\"Search\" id=\"numberInput\">\n",
    "                  <button class=\"btn btn-outline-success\" type=\"submit\" value=\"Go to Chapter\">Search</button>\n",
    "                </form>\n",
    "              </div>\n",
    "              <br>\n",
    "              <button id=\"openBtn\" class=\"btn btn-change\" >展開章節列表</button>\n",
    "              <div id=\"table-list\"></div>\n",
    "              <div id=\"loading-indicator\" style=\"display:none;\">正在加載...</div>\n",
    "\n",
    "              <script>\n",
    "                const form = document.querySelector('form');\n",
    "                form.addEventListener('submit', function(event) {\n",
    "                event.preventDefault();\n",
    "                const numberInput = document.querySelector('#numberInput').value;\n",
    "                  if (numberInput.trim() === '') {\n",
    "                    alert('輸入數字');\n",
    "                    } else if (!Number.isInteger(+numberInput) || +numberInput <= 0) {\n",
    "                    alert('輸入正整數');\n",
    "                    } else {\n",
    "                      ''')\n",
    "    file.write(f'''\n",
    "                    window.location.href = '{TITLE}_html' + numberInput + '.html';\n",
    "                    ''')\n",
    "    file.write('''       \n",
    "                    }\n",
    "                  });\n",
    "\n",
    "                document.querySelector('#numberInput').addEventListener('keyup', function(event) {\n",
    "                  if (event.keyCode === 13) {\n",
    "                    form.submit();\n",
    "                  }\n",
    "                });\n",
    "              </script>\n",
    "            </center>\n",
    "          <div class=\"spacer\"></div>    <div class=\"spacer\"></div>\n",
    "          <div id=\"content-end\">  </div>\n",
    "          <script src=\"https://jimmy-shian.github.io/novel/novel.js\" defer></script>\n",
    "          <script src=\"https://jimmy-shian.github.io/novel/table.js\" defer></script>\n",
    "          <script src=\"https://cdn.jsdelivr.net/npm/bootstrap@5.0.0/dist/js/bootstrap.bundle.min.js\" integrity=\"sha384-p34f1UUtsS3wqzfto5wAAmdvj+osOnFyQFpp4Ua3gs/ZVWx6oOypYoCJhGGScy+8\" crossorigin=\"anonymous\"></script>\n",
    "\n",
    "        </body>\n",
    "        </html>\n",
    "    \n",
    "        ''')\n"
   ]
  },
  {
   "cell_type": "markdown",
   "metadata": {},
   "source": [
    "# grab title from html to txt_csv"
   ]
  },
  {
   "cell_type": "code",
   "execution_count": null,
   "metadata": {},
   "outputs": [],
   "source": [
    "def catch_title(a):\n",
    "    url = f'{TITLE}_html' + str(a) + '.html'\n",
    "    with open(url, encoding='UTF-8') as file:\n",
    "        # 解析HTML\n",
    "        soup = BeautifulSoup(file, \"lxml\")\n",
    "        # 查找 title 標籤\n",
    "        title = soup.find(\"title\").text\n",
    "        name_url = title + str(\",\") +url \n",
    "    return name_url"
   ]
  },
  {
   "cell_type": "code",
   "execution_count": 5,
   "metadata": {},
   "outputs": [],
   "source": [
    "# list = ['《帝霸》▷ 神秘番外第一章雨夜中的烏鴉,帝霸_html3.html']\n",
    "\n",
    "# elements = list[0].split(',')\n",
    "# title = elements[0].replace(\"《帝霸》▷ \", \"\")\n",
    "# filename = elements[1]\n",
    "\n",
    "# print(elements)\n",
    "# print(title, filename)"
   ]
  },
  {
   "cell_type": "code",
   "execution_count": null,
   "metadata": {},
   "outputs": [],
   "source": [
    "list_title = []\n",
    "list_url = []\n",
    "for a in range(1,PAGE):\n",
    "    text = catch_title(a)\n",
    "    new_list = catch_title(a)\n",
    " \n",
    "    elements = new_list.split(',')\n",
    "    title = elements[0].replace(f\"{NAME}▷ \", \"\")\n",
    "    filename = elements[1]\n",
    "\n",
    "    list_title.append(title)\n",
    "    list_url.append(filename)"
   ]
  },
  {
   "cell_type": "code",
   "execution_count": null,
   "metadata": {},
   "outputs": [],
   "source": [
    "header = ['title', 'url']\n",
    "df = pd.DataFrame((zip(list_title, list_url)), columns=header)\n",
    "\n",
    "df.to_csv(\"title_name_url.csv\", index=False, header=False, encoding='utf-8-sig')\n",
    "# df.to_csv(\"title_name_url.txt\", index=False, sep='\\t', header=True)\n"
   ]
  },
  {
   "cell_type": "code",
   "execution_count": null,
   "metadata": {},
   "outputs": [],
   "source": [
    "import csv\n",
    "\n",
    "with open('title_name_url.csv', 'r') as file:\n",
    "    reader = csv.reader(file)\n",
    "    with open('table.txt', 'w') as table_file:\n",
    "        table_file.write(f'''\n",
    "      <div class=\"spacer\"></div>\n",
    "            <table class=\"title-table\">\n",
    "        ''')\n",
    "        count = 0\n",
    "        for row in reader:\n",
    "            novel_name = row[0]\n",
    "            novel_url = row[1]\n",
    "            if count % 4 == 0:\n",
    "                table_file.write(f'''\n",
    "                    <tr>\n",
    "                ''')\n",
    "            table_file.write(f'''\n",
    "                  <td class=\"title-td\"><a href=\"https://jimmy-shian.github.io/novel/{URLFILENAME}/{novel_url}\">{novel_name}</a></td>\n",
    "            ''')\n",
    "            if count % 4 == 3:\n",
    "                table_file.write(f'''\n",
    "                    </tr>\n",
    "                ''')\n",
    "            count += 1\n",
    "        if count % 4 != 0:\n",
    "            table_file.write(f'''\n",
    "                </tr>\n",
    "            ''')\n",
    "        table_file.write(f'''\n",
    "            </table>\n",
    "      <div class=\"spacer\"></div>\n",
    "        ''')\n",
    "         \n"
   ]
  }
 ],
 "metadata": {
  "kernelspec": {
   "display_name": "Python 3.8.8 ('venv': venv)",
   "language": "python",
   "name": "python3"
  },
  "language_info": {
   "codemirror_mode": {
    "name": "ipython",
    "version": 3
   },
   "file_extension": ".py",
   "mimetype": "text/x-python",
   "name": "python",
   "nbconvert_exporter": "python",
   "pygments_lexer": "ipython3",
   "version": "3.8.8"
  },
  "orig_nbformat": 4,
  "vscode": {
   "interpreter": {
    "hash": "4f51678d26300acc1504d5f231aa64fefd00fb6340e5aa8a951d06e8266bb69e"
   }
  }
 },
 "nbformat": 4,
 "nbformat_minor": 2
}
