{
 "cells": [
  {
   "cell_type": "markdown",
   "metadata": {},
   "source": [
    "# Fix .txt word"
   ]
  },
  {
   "cell_type": "markdown",
   "metadata": {},
   "source": [
    "## find file"
   ]
  },
  {
   "cell_type": "code",
   "execution_count": 1,
   "metadata": {},
   "outputs": [],
   "source": [
    "import os\n",
    "import glob\n",
    "import re"
   ]
  },
  {
   "cell_type": "code",
   "execution_count": 5,
   "metadata": {},
   "outputs": [],
   "source": [
    "# 指定要處理的資料夾路徑\n",
    "folder_path = r'C:\\Users\\Administrator\\Desktop\\novel-main'\n",
    "error_path = r'C:\\Users\\Administrator\\Desktop\\novel-main'\n",
    "error_file_name = 'error_ωwш☢ttКan☢￠.txt'\n",
    "error = '☢' #麪, ωwш☢ttКan☢￠"
   ]
  },
  {
   "cell_type": "code",
   "execution_count": 6,
   "metadata": {},
   "outputs": [
    {
     "name": "stdout",
     "output_type": "stream",
     "text": [
      "發現 \"☢\"\n",
      "帝霸_178.txt\n",
      "帝霸_280.txt\n",
      "帝霸_379.txt\n",
      "帝霸_518.txt\n",
      "帝霸_957.txt\n",
      "帝霸_1159.txt\n",
      "帝霸_1403.txt\n",
      "帝霸_1833.txt\n",
      "帝霸_1897.txt\n",
      "帝霸_2225.txt\n",
      "帝霸_2612.txt\n",
      "帝霸_2704.txt\n",
      "帝霸_2867.txt\n",
      "帝霸_3010.txt\n",
      "帝霸_3500.txt\n",
      "帝霸_4461.txt\n",
      "帝霸_4657.txt\n",
      "帝霸_4818.txt\n",
      "凡人修仙傳_257.txt\n",
      "凡人修仙傳_542.txt\n",
      "凡人修仙傳_713.txt\n",
      "凡人修仙傳_769.txt\n",
      "凡人修仙傳_994.txt\n",
      "凡人修仙傳_1297.txt\n",
      "凡人修仙傳_1579.txt\n",
      "凡人修仙傳_1931.txt\n",
      "凡人修仙傳_1954.txt\n",
      "凡人修仙傳_2192.txt\n",
      "凡人修仙傳_2304.txt\n",
      "凡人修仙傳_2348.txt\n",
      "凡人修仙之仙界篇_23.txt\n",
      "凡人修仙之仙界篇_65.txt\n",
      "凡人修仙之仙界篇_120.txt\n",
      "凡人修仙之仙界篇_265.txt\n",
      "凡人修仙之仙界篇_755.txt\n",
      "凡人修仙之仙界篇_1082.txt\n",
      "凡人修仙之仙界篇_1291.txt\n",
      "求魔_63.txt\n",
      "求魔_106.txt\n",
      "求魔_217.txt\n",
      "求魔_652.txt\n",
      "求魔_871.txt\n",
      "求魔_932.txt\n",
      "求魔_990.txt\n",
      "求魔_1245.txt\n",
      "求魔_1403.txt\n",
      "全職法師_736.txt\n",
      "全職法師_1522.txt\n",
      "全職法師_2060.txt\n",
      "全職法師_2608.txt\n",
      "全職法師_2840.txt\n",
      "全職法師_2859.txt\n",
      "全職法師_3023.txt\n",
      "三寸人間_263.txt\n",
      "三寸人間_451.txt\n",
      "三寸人間_675.txt\n",
      "我欲封天_74.txt\n",
      "我欲封天_265.txt\n",
      "我欲封天_716.txt\n",
      "我欲封天_875.txt\n",
      "我欲封天_909.txt\n",
      "我欲封天_942.txt\n",
      "仙逆_93.txt\n",
      "仙逆_99.txt\n",
      "仙逆_138.txt\n",
      "仙逆_673.txt\n",
      "仙逆_1146.txt\n",
      "仙逆_1165.txt\n",
      "仙逆_1184.txt\n",
      "仙逆_1438.txt\n",
      "一念永恆_66.txt\n",
      "一念永恆_664.txt\n",
      "一念永恆_687.txt\n",
      "一念永恆_927.txt\n",
      "一念永恆_1012.txt\n",
      "一念永恆_1129.txt\n",
      "一念永恆_1199.txt\n"
     ]
    }
   ],
   "source": [
    "# 找到資料夾中所有的.txt文件\n",
    "# file_paths = glob.glob(os.path.join(folder_path, '*.txt'))\n",
    "\n",
    "# file_paths = sorted(glob.glob(os.path.join(folder_path, '**/*.txt'), recursive=True),\n",
    "#                     key=lambda x: int(re.findall(r'\\d+', os.path.basename(x))[0])\n",
    "#                     if re.findall(r'\\d+', os.path.basename(x)) else float('inf'))\n",
    "\n",
    "# 找到資料夾中所有的.txt檔案\n",
    "file_paths = glob.glob(os.path.join(folder_path, '**/*.txt'), recursive=True)\n",
    "\n",
    "# 按照同一個資料夾內的檔案名稱中的數字進行排序\n",
    "file_paths = sorted(file_paths, key=lambda x: (os.path.dirname(x), int(re.findall(r'\\d+', os.path.basename(x))[0])\n",
    "                    if re.findall(r'\\d+', os.path.basename(x)) else float('inf')))\n",
    "\n",
    "\n",
    "# 建立一個用於存儲錯誤的文件\n",
    "error_file = open(os.path.join(error_path, error_file_name), 'w')\n",
    "\n",
    "print(f'發現 \"{error}\"')\n",
    "# for file_path in file_paths:\n",
    "#     try:\n",
    "#         with open(file_path, 'r', encoding='UTF-8') as file:\n",
    "#             content = file.read()\n",
    "#         file_name = os.path.basename(file_path).replace(\"html\", \"\")\n",
    "#         if error in content:\n",
    "#             print(f'{file_name}')\n",
    "#     except UnicodeDecodeError:\n",
    "#         print(f'無法解碼的檔案：{file_path}')\n",
    "# 遍歷每個.txt文件\n",
    "for file_path in file_paths:\n",
    "    # 讀取文件內容\n",
    "    with open(file_path, 'r', encoding='UTF-8', errors='ignore') as file:\n",
    "        content = file.read()\n",
    "    # 檢查內容是否包含\"*\"\n",
    "    file_name = os.path.basename(file_path).replace(\"html\", \"\")\n",
    "    if error in content:\n",
    "        # 將包含\"*\"的文件名寫入錯誤文件\n",
    "        # error_file.write(file_name + '\\n')\n",
    "        # print(f'{file_name}')\n",
    "        error_file.write(file_path + '\\n')\n",
    "        print(f'{file_name}')\n",
    "# 關閉錯誤文件\n",
    "error_file.close()"
   ]
  },
  {
   "attachments": {},
   "cell_type": "markdown",
   "metadata": {},
   "source": [
    "## open file "
   ]
  },
  {
   "cell_type": "code",
   "execution_count": null,
   "metadata": {},
   "outputs": [],
   "source": [
    "import subprocess\n",
    "\n",
    "file_path = r'C:\\Users\\Administrator\\Desktop\\novel-main\\error_路徑.txt'  # 路徑檔案名稱\n",
    "start_line = 0  # 起始行數\n",
    "end_line = 0  # 結束行數"
   ]
  },
  {
   "cell_type": "code",
   "execution_count": null,
   "metadata": {},
   "outputs": [],
   "source": [
    "# end_line = 9  # 結束行數\n",
    "start_line = end_line  # 起始行數\n",
    "end_line = start_line + 9  # 結束行數\n",
    "\n",
    "def open_files(paths):\n",
    "    for path in paths:\n",
    "        path = path.strip()  # 移除換行符號或空白\n",
    "        subprocess.run(['start', path], shell=True)  # 在文件管理器中打開檔案\n",
    "\n",
    "with open(file_path, 'r') as file:\n",
    "    paths = file.readlines()  # 讀取路徑檔案的內容\n",
    "\n",
    "selected_paths = paths[start_line:end_line+1]\n",
    "open_files(selected_paths)\n"
   ]
  }
 ],
 "metadata": {
  "kernelspec": {
   "display_name": "Python 3 (ipykernel)",
   "language": "python",
   "name": "python3"
  },
  "language_info": {
   "codemirror_mode": {
    "name": "ipython",
    "version": 3
   },
   "file_extension": ".py",
   "mimetype": "text/x-python",
   "name": "python",
   "nbconvert_exporter": "python",
   "pygments_lexer": "ipython3",
   "version": "3.11.2"
  },
  "orig_nbformat": 4
 },
 "nbformat": 4,
 "nbformat_minor": 2
}
