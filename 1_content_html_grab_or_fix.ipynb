{
 "cells": [
  {
   "attachments": {},
   "cell_type": "markdown",
   "metadata": {},
   "source": [
    "# Python 爬蟲實戰範例｜學會抓取 Yahoo奇摩最新電影\n",
    "提供給想學習 Python 爬蟲的朋友們，分享 Python 爬蟲的步驟與方法，並提供完整的程式碼，只要常透過不同主題的實戰練習，就可以駕輕就熟爬蟲技術，往後要抓取網頁資料，就能夠輕易上手\n",
    "\n",
    "網站文章：https://www.webscrapingpro.tw/yahoo-movie-web-scraping-using-python/\n",
    "\n",
    "https://www.ttkan.co/"
   ]
  },
  {
   "cell_type": "code",
   "execution_count": 1,
   "metadata": {},
   "outputs": [],
   "source": [
    "import requests\n",
    "import numpy as np\n",
    "import re\n",
    "import time\n",
    "from bs4 import BeautifulSoup\n",
    "from tqdm import tqdm\n",
    "import sys\n"
   ]
  },
  {
   "cell_type": "code",
   "execution_count": 2,
   "metadata": {},
   "outputs": [],
   "source": [
    "import urllib.request, urllib.parse, urllib.error\n",
    "from bs4 import BeautifulSoup as bs\n",
    "import ssl\n",
    "\n",
    "# --- ignore ssl certificate ---\n",
    "ctx = ssl.create_default_context()\n",
    "ctx.check_hostname = False\n",
    "ctx.verify_mode = ssl.CERT_NONE"
   ]
  },
  {
   "attachments": {},
   "cell_type": "markdown",
   "metadata": {},
   "source": [
    "# grab or not"
   ]
  },
  {
   "cell_type": "code",
   "execution_count": 3,
   "metadata": {},
   "outputs": [],
   "source": [
    "GRAB = True  # chatch novel from internet\n",
    "\n",
    "FIX_HTML = True\n",
    "\n",
    "FIX_TXT = True\n",
    "\n",
    "START = 1  #  1\n",
    "\n",
    "A = 16  # X , 10, 12"
   ]
  },
  {
   "attachments": {},
   "cell_type": "markdown",
   "metadata": {},
   "source": [
    "## set"
   ]
  },
  {
   "attachments": {},
   "cell_type": "markdown",
   "metadata": {},
   "source": [
    "帝霸"
   ]
  },
  {
   "cell_type": "code",
   "execution_count": 4,
   "metadata": {},
   "outputs": [],
   "source": [
    "if A == 1:\n",
    "    novel = '帝霸'\n",
    "    web = 'https://www.bg3.co/novel/pagea/diba-yanbixiaosheng_5454.html'\n",
    "\n",
    "    NAME = novel + \"_html\"\n",
    "    TITLE = novel\n",
    "    URL = str(web.split(\"_\")[0]) + \"_\"\n",
    "    FILENAME = web.split(\"/\")[-1].split(\"_\")[-2] + \".html\"\n",
    "    NUMBER = int(web.split(\"_\")[-1].split(\".html\")[0]) + 1\n",
    "    URLFILENAME = str(web.split('/')[-1].split('_')[0])\n",
    "\n",
    "    print(\"URLFILENAME:\", URLFILENAME)\n",
    "    print(\"NAME =\", NAME)\n",
    "    print(\"TITLE =\", TITLE)\n",
    "    print(\"URL =\", URL)\n",
    "    print(\"FILENAME =\", FILENAME)\n",
    "    print(\"NUMBER =\", NUMBER)\n",
    "\n",
    "    # NAME = '凡人修仙傳_html'\n",
    "    # TITLE = '凡人修仙傳'\n",
    "    # URL = 'https://www.bg3.co/novel/pagea/fanrenxiuxianchuan-wangyu_'\n",
    "    # FILENAME = 'fanrenxiuxianchuan-wangyu.html'\n",
    "    # NUMBER = int(2453)"
   ]
  },
  {
   "attachments": {},
   "cell_type": "markdown",
   "metadata": {},
   "source": [
    "凡人修仙傳"
   ]
  },
  {
   "cell_type": "code",
   "execution_count": 5,
   "metadata": {},
   "outputs": [],
   "source": [
    "if A == 2:\n",
    "    novel = '凡人修仙傳'\n",
    "    web = 'https://www.bg3.co/novel/pagea/fanrenxiuxianchuan-wangyu_2452.html'\n",
    "\n",
    "    NAME = novel + \"_html\"\n",
    "    TITLE = novel\n",
    "    URL = str(web.split(\"_\")[0]) + \"_\"\n",
    "    FILENAME = web.split(\"/\")[-1].split(\"_\")[-2] + \".html\"\n",
    "    NUMBER = int(web.split(\"_\")[-1].split(\".html\")[0]) + 1\n",
    "    URLFILENAME = str(web.split('/')[-1].split('_')[0])\n",
    "\n",
    "    print(\"URLFILENAME:\", URLFILENAME)\n",
    "    print(\"NAME =\", NAME)\n",
    "    print(\"TITLE =\", TITLE)\n",
    "    print(\"URL =\", URL)\n",
    "    print(\"FILENAME =\", FILENAME)\n",
    "    print(\"NUMBER =\", NUMBER)\n",
    "\n",
    "# NAME = '凡人修仙傳_html'\n",
    "# TITLE = '凡人修仙傳'\n",
    "# URL = 'https://www.bg3.co/novel/pagea/fanrenxiuxianchuan-wangyu_'\n",
    "# FILENAME = 'fanrenxiuxianchuan-wangyu.html'\n",
    "# NUMBER = int(2453)"
   ]
  },
  {
   "attachments": {},
   "cell_type": "markdown",
   "metadata": {},
   "source": [
    "3.. 凡人修仙之仙界篇"
   ]
  },
  {
   "cell_type": "code",
   "execution_count": 6,
   "metadata": {},
   "outputs": [],
   "source": [
    "if A == 3:\n",
    "    novel = '凡人修仙之仙界篇'\n",
    "    web = 'https://www.bg3.co/novel/pagea/fanrenxiuxianzhixianjiepian-wangyu_1405.html'\n",
    "\n",
    "    NAME = novel + \"_html\"\n",
    "    TITLE = novel\n",
    "    URL = str(web.split(\"_\")[0]) + \"_\"\n",
    "    FILENAME = web.split(\"/\")[-1].split(\"_\")[-2] + \".html\"\n",
    "    NUMBER = int(web.split(\"_\")[-1].split(\".html\")[0]) + 1\n",
    "    URLFILENAME = str(web.split('/')[-1].split('_')[0])\n",
    "\n",
    "    print(\"URLFILENAME:\", URLFILENAME)\n",
    "    print(\"NAME =\", NAME)\n",
    "    print(\"TITLE =\", TITLE)\n",
    "    print(\"URL =\", URL)\n",
    "    print(\"FILENAME =\", FILENAME)\n",
    "    print(\"NUMBER =\", NUMBER)\n",
    "\n",
    "# NAME = '凡人修仙傳_html'\n",
    "# TITLE = '凡人修仙傳'\n",
    "# URL = 'https://www.bg3.co/novel/pagea/fanrenxiuxianchuan-wangyu_'\n",
    "# FILENAME = 'fanrenxiuxianchuan-wangyu.html'\n",
    "# NUMBER = int(2453)"
   ]
  },
  {
   "attachments": {},
   "cell_type": "markdown",
   "metadata": {},
   "source": [
    "求魔"
   ]
  },
  {
   "cell_type": "code",
   "execution_count": 7,
   "metadata": {},
   "outputs": [],
   "source": [
    "if A == 4:\n",
    "    novel = '求魔'\n",
    "    web = 'https://www.bg3.co/novel/pagea/qiumo-ergen_1483.html'\n",
    "\n",
    "    NAME = novel + \"_html\"\n",
    "    TITLE = novel\n",
    "    URL = str(web.split(\"_\")[0]) + \"_\"\n",
    "    FILENAME = web.split(\"/\")[-1].split(\"_\")[-2] + \".html\"\n",
    "    NUMBER = int(web.split(\"_\")[-1].split(\".html\")[0]) + 1\n",
    "    URLFILENAME = str(web.split('/')[-1].split('_')[0])\n",
    "\n",
    "    print(\"URLFILENAME:\", URLFILENAME)\n",
    "    print(\"NAME =\", NAME)\n",
    "    print(\"TITLE =\", TITLE)\n",
    "    print(\"URL =\", URL)\n",
    "    print(\"FILENAME =\", FILENAME)\n",
    "    print(\"NUMBER =\", NUMBER)\n",
    "\n",
    "    # NAME = '凡人修仙傳_html'\n",
    "    # TITLE = '凡人修仙傳'\n",
    "    # URL = 'https://www.bg3.co/novel/pagea/fanrenxiuxianchuan-wangyu_'\n",
    "    # FILENAME = 'fanrenxiuxianchuan-wangyu.html'\n",
    "    # NUMBER = int(2453)"
   ]
  },
  {
   "attachments": {},
   "cell_type": "markdown",
   "metadata": {},
   "source": [
    "全職法師"
   ]
  },
  {
   "cell_type": "code",
   "execution_count": 8,
   "metadata": {},
   "outputs": [],
   "source": [
    "if A == 5:\n",
    "    novel = '全職法師'\n",
    "    web = 'https://www.bg3.co/novel/pagea/quanzhifashi-luan_3131.html'\n",
    "\n",
    "    NAME = novel + \"_html\"\n",
    "    TITLE = novel\n",
    "    URL = str(web.split(\"_\")[0]) + \"_\"\n",
    "    FILENAME = web.split(\"/\")[-1].split(\"_\")[-2] + \".html\"\n",
    "    NUMBER = int(web.split(\"_\")[-1].split(\".html\")[0]) + 1\n",
    "    URLFILENAME = str(web.split('/')[-1].split('_')[0])\n",
    "\n",
    "    print(\"URLFILENAME:\", URLFILENAME)\n",
    "    print(\"NAME =\", NAME)\n",
    "    print(\"TITLE =\", TITLE)\n",
    "    print(\"URL =\", URL)\n",
    "    print(\"FILENAME =\", FILENAME)\n",
    "    print(\"NUMBER =\", NUMBER)\n",
    "\n",
    "# NAME = '凡人修仙傳_html'\n",
    "# TITLE = '凡人修仙傳'\n",
    "# URL = 'https://www.bg3.co/novel/pagea/fanrenxiuxianchuan-wangyu_'\n",
    "# FILENAME = 'fanrenxiuxianchuan-wangyu.html'\n",
    "# NUMBER = int(2453)"
   ]
  },
  {
   "attachments": {},
   "cell_type": "markdown",
   "metadata": {},
   "source": [
    "6.. 三寸人間"
   ]
  },
  {
   "cell_type": "code",
   "execution_count": 9,
   "metadata": {},
   "outputs": [],
   "source": [
    "if A == 6:\n",
    "    novel = '三寸人間'\n",
    "    web = 'https://www.bg3.co/novel/pagea/sancunrenjian-ergen_1459.html'\n",
    "\n",
    "    NAME = novel + \"_html\"\n",
    "    TITLE = novel\n",
    "    URL = str(web.split(\"_\")[0]) + \"_\"\n",
    "    FILENAME = web.split(\"/\")[-1].split(\"_\")[-2] + \".html\"\n",
    "    NUMBER = int(web.split(\"_\")[-1].split(\".html\")[0]) + 1\n",
    "    URLFILENAME = str(web.split('/')[-1].split('_')[0])\n",
    "\n",
    "    print(\"URLFILENAME:\", URLFILENAME)\n",
    "    print(\"NAME =\", NAME)\n",
    "    print(\"TITLE =\", TITLE)\n",
    "    print(\"URL =\", URL)\n",
    "    print(\"FILENAME =\", FILENAME)\n",
    "    print(\"NUMBER =\", NUMBER)\n",
    "\n",
    "# NAME = '凡人修仙傳_html'\n",
    "# TITLE = '凡人修仙傳'\n",
    "# URL = 'https://www.bg3.co/novel/pagea/fanrenxiuxianchuan-wangyu_'\n",
    "# FILENAME = 'fanrenxiuxianchuan-wangyu.html'\n",
    "# NUMBER = int(2453)"
   ]
  },
  {
   "attachments": {},
   "cell_type": "markdown",
   "metadata": {},
   "source": [
    "我欲封天"
   ]
  },
  {
   "cell_type": "code",
   "execution_count": 10,
   "metadata": {},
   "outputs": [],
   "source": [
    "if A == 7:\n",
    "    novel = '我欲封天'\n",
    "    web = 'https://www.bg3.co/novel/pagea/woyufengtian-ergen_1619.html'\n",
    "\n",
    "    NAME = novel + \"_html\"\n",
    "    TITLE = novel\n",
    "    URL = str(web.split(\"_\")[0]) + \"_\"\n",
    "    FILENAME = web.split(\"/\")[-1].split(\"_\")[-2] + \".html\"\n",
    "    NUMBER = int(web.split(\"_\")[-1].split(\".html\")[0]) + 1\n",
    "    URLFILENAME = str(web.split('/')[-1].split('_')[0])\n",
    "\n",
    "    print(\"URLFILENAME:\", URLFILENAME)\n",
    "    print(\"NAME =\", NAME)\n",
    "    print(\"TITLE =\", TITLE)\n",
    "    print(\"URL =\", URL)\n",
    "    print(\"FILENAME =\", FILENAME)\n",
    "    print(\"NUMBER =\", NUMBER)\n",
    "\n",
    "# NAME = '凡人修仙傳_html'\n",
    "# TITLE = '凡人修仙傳'\n",
    "# URL = 'https://www.bg3.co/novel/pagea/fanrenxiuxianchuan-wangyu_'\n",
    "# FILENAME = 'fanrenxiuxianchuan-wangyu.html'\n",
    "# NUMBER = int(2453)"
   ]
  },
  {
   "attachments": {},
   "cell_type": "markdown",
   "metadata": {},
   "source": [
    "仙逆"
   ]
  },
  {
   "cell_type": "code",
   "execution_count": 11,
   "metadata": {},
   "outputs": [],
   "source": [
    "if A == 8:\n",
    "    novel = '仙逆'\n",
    "    web = 'https://www.bg3.co/novel/pagea/xianni-ergen_2031.html'\n",
    "\n",
    "    NAME = novel + \"_html\"\n",
    "    TITLE = novel\n",
    "    URL = str(web.split(\"_\")[0]) + \"_\"\n",
    "    FILENAME = web.split(\"/\")[-1].split(\"_\")[-2] + \".html\"\n",
    "    NUMBER = int(web.split(\"_\")[-1].split(\".html\")[0]) + 1\n",
    "    URLFILENAME = str(web.split('/')[-1].split('_')[0])\n",
    "\n",
    "    print(\"URLFILENAME:\", URLFILENAME)\n",
    "    print(\"NAME =\", NAME)\n",
    "    print(\"TITLE =\", TITLE)\n",
    "    print(\"URL =\", URL)\n",
    "    print(\"FILENAME =\", FILENAME)\n",
    "    print(\"NUMBER =\", NUMBER)\n",
    "\n",
    "# NAME = '凡人修仙傳_html'\n",
    "# TITLE = '凡人修仙傳'\n",
    "# URL = 'https://www.bg3.co/novel/pagea/fanrenxiuxianchuan-wangyu_'\n",
    "# FILENAME = 'fanrenxiuxianchuan-wangyu.html'\n",
    "# NUMBER = int(2453)"
   ]
  },
  {
   "attachments": {},
   "cell_type": "markdown",
   "metadata": {},
   "source": [
    "9.. 一念永恆"
   ]
  },
  {
   "cell_type": "code",
   "execution_count": 12,
   "metadata": {},
   "outputs": [],
   "source": [
    "if A == 9:\n",
    "    novel = '一念永恆'\n",
    "    web = 'https://www.bg3.co/novel/pagea/yinianyongheng-ergen_1318.html'\n",
    "\n",
    "    NAME = novel + \"_html\"\n",
    "    TITLE = novel\n",
    "    URL = str(web.split(\"_\")[0]) + \"_\"\n",
    "    FILENAME = web.split(\"/\")[-1].split(\"_\")[-2] + \".html\"\n",
    "    NUMBER = int(web.split(\"_\")[-1].split(\".html\")[0]) + 1\n",
    "    URLFILENAME = str(web.split('/')[-1].split('_')[0])\n",
    "\n",
    "    print(\"URLFILENAME:\", URLFILENAME)\n",
    "    print(\"NAME =\", NAME)\n",
    "    print(\"TITLE =\", TITLE)\n",
    "    print(\"URL =\", URL)\n",
    "    print(\"FILENAME =\", FILENAME)\n",
    "    print(\"NUMBER =\", NUMBER)\n",
    "\n",
    "# NAME = '凡人修仙傳_html'\n",
    "# TITLE = '凡人修仙傳'\n",
    "# URL = 'https://www.bg3.co/novel/pagea/fanrenxiuxianchuan-wangyu_'\n",
    "# FILENAME = 'fanrenxiuxianchuan-wangyu.html'\n",
    "# NUMBER = int(2453)"
   ]
  },
  {
   "attachments": {},
   "cell_type": "markdown",
   "metadata": {},
   "source": [
    "關於我轉生變成史萊姆這檔事"
   ]
  },
  {
   "cell_type": "code",
   "execution_count": 13,
   "metadata": {},
   "outputs": [],
   "source": [
    "if A == 10:\n",
    "    novel = '關於我轉生變成史萊姆這檔事'\n",
    "    web = 'https://www.wenku8.net/novel/1/1787/61157.htm'\n",
    "\n",
    "    NAME = novel + \"_html\"\n",
    "    TITLE = novel\n",
    "    URL = \"https://www.wenku8.net/novel/1/1787/\"\n",
    "    FILENAME = \"regarding-reincarnated-to-slime\" + \".html\"\n",
    "    NUMBER = int(web.split(\"/\")[-1].split(\".htm\")[0]) + 1\n",
    "    URLFILENAME = \"regarding-reincarnated-to-slime\"\n",
    "\n",
    "    print(\"URLFILENAME:\", URLFILENAME)\n",
    "    print(\"NAME =\", NAME)\n",
    "    print(\"TITLE =\", TITLE)\n",
    "    print(\"URL =\", URL)\n",
    "    print(\"FILENAME =\", FILENAME)\n",
    "    print(\"NUMBER =\", NUMBER)\n",
    "\n",
    "# NAME = '凡人修仙傳_html'\n",
    "# TITLE = '凡人修仙傳'\n",
    "# URL = 'https://www.bg3.co/novel/pagea/fanrenxiuxianchuan-wangyu_'\n",
    "# FILENAME = 'fanrenxiuxianchuan-wangyu.html'\n",
    "# NUMBER = int(2453)"
   ]
  },
  {
   "attachments": {},
   "cell_type": "markdown",
   "metadata": {},
   "source": [
    "11.. 我師兄實在太穩健了"
   ]
  },
  {
   "cell_type": "code",
   "execution_count": 14,
   "metadata": {},
   "outputs": [],
   "source": [
    "if A == 11:\n",
    "    novel = '我師兄實在太穩健了'\n",
    "    web = 'https://www.bg3.co/novel/pagea/woshixiongshizaitaiwenjianle-yanguizhengzhuan_794.html'\n",
    "\n",
    "    NAME = novel + \"_html\"\n",
    "    TITLE = novel\n",
    "    URL = str(web.split(\"_\")[0]) + \"_\"\n",
    "    FILENAME = web.split(\"/\")[-1].split(\"_\")[-2] + \".html\"\n",
    "    NUMBER = int(web.split(\"_\")[-1].split(\".html\")[0]) + 1\n",
    "    URLFILENAME = str(web.split('/')[-1].split('_')[0])\n",
    "\n",
    "    print(\"URLFILENAME:\", URLFILENAME)\n",
    "    print(\"NAME =\", NAME)\n",
    "    print(\"TITLE =\", TITLE)\n",
    "    print(\"URL =\", URL)\n",
    "    print(\"FILENAME =\", FILENAME)\n",
    "    print(\"NUMBER =\", NUMBER)\n",
    "\n",
    "# NAME = '凡人修仙傳_html'\n",
    "# TITLE = '凡人修仙傳'\n",
    "# URL = 'https://www.bg3.co/novel/pagea/fanrenxiuxianchuan-wangyu_'\n",
    "# FILENAME = 'fanrenxiuxianchuan-wangyu.html'\n",
    "# NUMBER = int(2453)"
   ]
  },
  {
   "attachments": {},
   "cell_type": "markdown",
   "metadata": {},
   "source": [
    "修真聊天羣（聊天羣的日常生活）"
   ]
  },
  {
   "cell_type": "code",
   "execution_count": 15,
   "metadata": {},
   "outputs": [],
   "source": [
    "if A == 12:\n",
    "    novel = '修真聊天羣'\n",
    "    web = 'https://www.bg3.co/novel/pagea/xiuzhenliaotianqunliaotianqunderichangshenghuo-shengqishidechuanshuo_3187.html'\n",
    "\n",
    "    NAME = novel + \"_html\"\n",
    "    TITLE = novel\n",
    "    URL = str(web.split(\"_\")[0]) + \"_\"\n",
    "    FILENAME = web.split(\"/\")[-1].split(\"_\")[-2] + \".html\"\n",
    "    NUMBER = int(web.split(\"_\")[-1].split(\".html\")[0]) + 1\n",
    "    URLFILENAME = str(web.split('/')[-1].split('_')[0])\n",
    "\n",
    "    print(\"URLFILENAME:\", URLFILENAME)\n",
    "    print(\"NAME =\", NAME)\n",
    "    print(\"TITLE =\", TITLE)\n",
    "    print(\"URL =\", URL)\n",
    "    print(\"FILENAME =\", FILENAME)\n",
    "    print(\"NUMBER =\", NUMBER)\n",
    "\n",
    "# NAME = '凡人修仙傳_html'\n",
    "# TITLE = '凡人修仙傳'\n",
    "# URL = 'https://www.bg3.co/novel/pagea/fanrenxiuxianchuan-wangyu_'\n",
    "# FILENAME = 'fanrenxiuxianchuan-wangyu.html'\n",
    "# NUMBER = int(2453)"
   ]
  },
  {
   "attachments": {},
   "cell_type": "markdown",
   "metadata": {},
   "source": [
    "13.. 大奉打更人"
   ]
  },
  {
   "cell_type": "code",
   "execution_count": 16,
   "metadata": {},
   "outputs": [],
   "source": [
    "if A == 13:\n",
    "    novel = '大奉打更人'\n",
    "    web = 'https://www.bg3.co/novel/pagea/dafengdagengren-maibaoxiaolangjun_954.html'\n",
    "\n",
    "    NAME = novel + \"_html\"\n",
    "    TITLE = novel\n",
    "    URL = str(web.split(\"_\")[0]) + \"_\"\n",
    "    FILENAME = web.split(\"/\")[-1].split(\"_\")[-2] + \".html\"\n",
    "    NUMBER = int(web.split(\"_\")[-1].split(\".html\")[0]) + 1\n",
    "    URLFILENAME = str(web.split('/')[-1].split('_')[0])\n",
    "\n",
    "    print(\"URLFILENAME:\", URLFILENAME)\n",
    "    print(\"NAME =\", NAME)\n",
    "    print(\"TITLE =\", TITLE)\n",
    "    print(\"URL =\", URL)\n",
    "    print(\"FILENAME =\", FILENAME)\n",
    "    print(\"NUMBER =\", NUMBER)\n",
    "\n",
    "# NAME = '凡人修仙傳_html'\n",
    "# TITLE = '凡人修仙傳'\n",
    "# URL = 'https://www.bg3.co/novel/pagea/fanrenxiuxianchuan-wangyu_'\n",
    "# FILENAME = 'fanrenxiuxianchuan-wangyu.html'\n",
    "# NUMBER = int(2453)"
   ]
  },
  {
   "attachments": {},
   "cell_type": "markdown",
   "metadata": {},
   "source": [
    "大符篆師"
   ]
  },
  {
   "cell_type": "code",
   "execution_count": 17,
   "metadata": {},
   "outputs": [],
   "source": [
    "if A == 14:\n",
    "    novel = '大符篆師'\n",
    "    web = 'https://www.bg3.co/novel/pagea/dafuzhuanshi-xiaodaofengli_695.html'\n",
    "\n",
    "    NAME = novel + \"_html\"\n",
    "    TITLE = novel\n",
    "    URL = str(web.split(\"_\")[0]) + \"_\"\n",
    "    FILENAME = web.split(\"/\")[-1].split(\"_\")[-2] + \".html\"\n",
    "    NUMBER = int(web.split(\"_\")[-1].split(\".html\")[0]) + 1\n",
    "    URLFILENAME = str(web.split('/')[-1].split('_')[0])\n",
    "\n",
    "    print(\"URLFILENAME:\", URLFILENAME)\n",
    "    print(\"NAME =\", NAME)\n",
    "    print(\"TITLE =\", TITLE)\n",
    "    print(\"URL =\", URL)\n",
    "    print(\"FILENAME =\", FILENAME)\n",
    "    print(\"NUMBER =\", NUMBER)\n",
    "\n",
    "# NAME = '凡人修仙傳_html'\n",
    "# TITLE = '凡人修仙傳'\n",
    "# URL = 'https://www.bg3.co/novel/pagea/fanrenxiuxianchuan-wangyu_'\n",
    "# FILENAME = 'fanrenxiuxianchuan-wangyu.html'\n",
    "# NUMBER = int(2453)"
   ]
  },
  {
   "attachments": {},
   "cell_type": "markdown",
   "metadata": {},
   "source": [
    "15.. 滄元圖"
   ]
  },
  {
   "cell_type": "code",
   "execution_count": 18,
   "metadata": {},
   "outputs": [],
   "source": [
    "if A == 15:\n",
    "    novel = '滄元圖'\n",
    "    web = 'https://www.bg3.co/novel/pagea/cangyuantu-wochixihongshi_767.html'\n",
    "\n",
    "    NAME = novel + \"_html\"\n",
    "    TITLE = novel\n",
    "    URL = str(web.split(\"_\")[0]) + \"_\"\n",
    "    FILENAME = web.split(\"/\")[-1].split(\"_\")[-2] + \".html\"\n",
    "    NUMBER = int(web.split(\"_\")[-1].split(\".html\")[0]) + 1\n",
    "    URLFILENAME = str(web.split('/')[-1].split('_')[0])\n",
    "\n",
    "    print(\"URLFILENAME:\", URLFILENAME)\n",
    "    print(\"NAME =\", NAME)\n",
    "    print(\"TITLE =\", TITLE)\n",
    "    print(\"URL =\", URL)\n",
    "    print(\"FILENAME =\", FILENAME)\n",
    "    print(\"NUMBER =\", NUMBER)\n",
    "\n",
    "# NAME = '凡人修仙傳_html'\n",
    "# TITLE = '凡人修仙傳'\n",
    "# URL = 'https://www.bg3.co/novel/pagea/fanrenxiuxianchuan-wangyu_'\n",
    "# FILENAME = 'fanrenxiuxianchuan-wangyu.html'\n",
    "# NUMBER = int(2453)"
   ]
  },
  {
   "cell_type": "markdown",
   "metadata": {},
   "source": [
    "百鍊成仙"
   ]
  },
  {
   "cell_type": "code",
   "execution_count": 19,
   "metadata": {},
   "outputs": [],
   "source": [
    "if A == 16:\n",
    "    novel = '百鍊成仙'\n",
    "    web = 'https://www.bg3.co/novel/pagea/bailianchengxian-huanyu_4225.html'\n",
    "\n",
    "    NAME = novel + \"_html\"\n",
    "    TITLE = novel\n",
    "    URL = str(web.split(\"_\")[0]) + \"_\"\n",
    "    FILENAME = web.split(\"/\")[-1].split(\"_\")[-2] + \".html\"\n",
    "    NUMBER = int(web.split(\"_\")[-1].split(\".html\")[0]) + 1\n",
    "    URLFILENAME = str(web.split('/')[-1].split('_')[0])\n",
    "\n",
    "    print(\"URLFILENAME:\", URLFILENAME)\n",
    "    print(\"NAME =\", NAME)\n",
    "    print(\"TITLE =\", TITLE)\n",
    "    print(\"URL =\", URL)\n",
    "    print(\"FILENAME =\", FILENAME)\n",
    "    print(\"NUMBER =\", NUMBER)\n",
    "\n",
    "# NAME = '凡人修仙傳_html'\n",
    "# TITLE = '凡人修仙傳'\n",
    "# URL = 'https://www.bg3.co/novel/pagea/fanrenxiuxianchuan-wangyu_'\n",
    "# FILENAME = 'fanrenxiuxianchuan-wangyu.html'\n",
    "# NUMBER = int(2453)"
   ]
  },
  {
   "cell_type": "markdown",
   "metadata": {},
   "source": [
    "17.. 星門"
   ]
  },
  {
   "cell_type": "code",
   "execution_count": 20,
   "metadata": {},
   "outputs": [],
   "source": [
    "if A == 17:\n",
    "    novel = '星門'\n",
    "    web = 'https://www.bg3.co/novel/pagea/xingmen-laoyingchixiaoji_628.html'\n",
    "    \n",
    "    NAME = novel + \"_html\"\n",
    "    TITLE = novel\n",
    "    URL = str(web.split(\"_\")[0]) + \"_\"\n",
    "    FILENAME = web.split(\"/\")[-1].split(\"_\")[-2] + \".html\"\n",
    "    NUMBER = int(web.split(\"_\")[-1].split(\".html\")[0]) + 1\n",
    "    URLFILENAME = str(web.split('/')[-1].split('_')[0])\n",
    "\n",
    "    print(\"URLFILENAME:\", URLFILENAME)\n",
    "    print(\"NAME =\", NAME)\n",
    "    print(\"TITLE =\", TITLE)\n",
    "    print(\"URL =\", URL)\n",
    "    print(\"FILENAME =\", FILENAME)\n",
    "    print(\"NUMBER =\", NUMBER)\n",
    "\n",
    "# NAME = '凡人修仙傳_html'\n",
    "# TITLE = '凡人修仙傳'\n",
    "# URL = 'https://www.bg3.co/novel/pagea/fanrenxiuxianchuan-wangyu_'\n",
    "# FILENAME = 'fanrenxiuxianchuan-wangyu.html'\n",
    "# NUMBER = int(2453)"
   ]
  },
  {
   "cell_type": "markdown",
   "metadata": {},
   "source": [
    "鬥破蒼穹"
   ]
  },
  {
   "cell_type": "code",
   "execution_count": 21,
   "metadata": {},
   "outputs": [
    {
     "name": "stdout",
     "output_type": "stream",
     "text": [
      "URLFILENAME: doupocangqiong-tiancantudou\n",
      "NAME = 鬥破蒼穹_html\n",
      "TITLE = 鬥破蒼穹\n",
      "URL = https://www.bg3.co/novel/pagea/doupocangqiong-tiancantudou_\n",
      "FILENAME = doupocangqiong-tiancantudou.html\n",
      "NUMBER = 1664\n"
     ]
    }
   ],
   "source": [
    "if A == 18:\n",
    "    novel = '鬥破蒼穹'\n",
    "    web = 'https://www.bg3.co/novel/pagea/doupocangqiong-tiancantudou_1663.html'\n",
    "\n",
    "    NAME = novel + \"_html\"\n",
    "    TITLE = novel\n",
    "    URL = str(web.split(\"_\")[0]) + \"_\"\n",
    "    FILENAME = web.split(\"/\")[-1].split(\"_\")[-2] + \".html\"\n",
    "    NUMBER = int(web.split(\"_\")[-1].split(\".html\")[0]) + 1\n",
    "    URLFILENAME = str(web.split('/')[-1].split('_')[0])\n",
    "\n",
    "    print(\"URLFILENAME:\", URLFILENAME)\n",
    "    print(\"NAME =\", NAME)\n",
    "    print(\"TITLE =\", TITLE)\n",
    "    print(\"URL =\", URL)\n",
    "    print(\"FILENAME =\", FILENAME)\n",
    "    print(\"NUMBER =\", NUMBER)\n",
    "\n",
    "# NAME = '凡人修仙傳_html'\n",
    "# TITLE = '凡人修仙傳'\n",
    "# URL = 'https://www.bg3.co/novel/pagea/fanrenxiuxianchuan-wangyu_'\n",
    "# FILENAME = 'fanrenxiuxianchuan-wangyu.html'\n",
    "# NUMBER = int(2453)"
   ]
  },
  {
   "cell_type": "markdown",
   "metadata": {},
   "source": [
    "19.. 聖墟"
   ]
  },
  {
   "cell_type": "code",
   "execution_count": 22,
   "metadata": {},
   "outputs": [],
   "source": [
    "if A == 19:\n",
    "    novel = '聖墟'\n",
    "    web = 'https://www.bg3.co/novel/pagea/shengxu-chendong_1673.html'\n",
    "\n",
    "    NAME = novel + \"_html\"\n",
    "    TITLE = novel\n",
    "    URL = str(web.split(\"_\")[0]) + \"_\"\n",
    "    FILENAME = web.split(\"/\")[-1].split(\"_\")[-2] + \".html\"\n",
    "    NUMBER = int(web.split(\"_\")[-1].split(\".html\")[0]) + 1\n",
    "    URLFILENAME = str(web.split('/')[-1].split('_')[0])\n",
    "\n",
    "    print(\"URLFILENAME:\", URLFILENAME)\n",
    "    print(\"NAME =\", NAME)\n",
    "    print(\"TITLE =\", TITLE)\n",
    "    print(\"URL =\", URL)\n",
    "    print(\"FILENAME =\", FILENAME)\n",
    "    print(\"NUMBER =\", NUMBER)\n",
    "\n",
    "# NAME = '凡人修仙傳_html'\n",
    "# TITLE = '凡人修仙傳'\n",
    "# URL = 'https://www.bg3.co/novel/pagea/fanrenxiuxianchuan-wangyu_'\n",
    "# FILENAME = 'fanrenxiuxianchuan-wangyu.html'\n",
    "# NUMBER = int(2453)"
   ]
  },
  {
   "cell_type": "markdown",
   "metadata": {},
   "source": [
    "牧龍師"
   ]
  },
  {
   "cell_type": "code",
   "execution_count": 23,
   "metadata": {},
   "outputs": [],
   "source": [
    "if A == 20:\n",
    "    novel = '牧龍師'\n",
    "    web = 'https://www.bg3.co/novel/pagea/mulongshi-luan_1531.html'\n",
    "\n",
    "    NAME = novel + \"_html\"\n",
    "    TITLE = novel\n",
    "    URL = str(web.split(\"_\")[0]) + \"_\"\n",
    "    FILENAME = web.split(\"/\")[-1].split(\"_\")[-2] + \".html\"\n",
    "    NUMBER = int(web.split(\"_\")[-1].split(\".html\")[0]) + 1\n",
    "    URLFILENAME = str(web.split('/')[-1].split('_')[0])\n",
    "\n",
    "    print(\"URLFILENAME:\", URLFILENAME)\n",
    "    print(\"NAME =\", NAME)\n",
    "    print(\"TITLE =\", TITLE)\n",
    "    print(\"URL =\", URL)\n",
    "    print(\"FILENAME =\", FILENAME)\n",
    "    print(\"NUMBER =\", NUMBER)\n",
    "\n",
    "\n",
    "# NAME = '凡人修仙傳_html'\n",
    "# TITLE = '凡人修仙傳'\n",
    "# URL = 'https://www.bg3.co/novel/pagea/fanrenxiuxianchuan-wangyu_'\n",
    "# FILENAME = 'fanrenxiuxianchuan-wangyu.html'\n",
    "# NUMBER = int(2453)"
   ]
  },
  {
   "cell_type": "code",
   "execution_count": null,
   "metadata": {},
   "outputs": [],
   "source": []
  },
  {
   "cell_type": "code",
   "execution_count": 24,
   "metadata": {},
   "outputs": [
    {
     "name": "stdout",
     "output_type": "stream",
     "text": [
      "C:\\Users\\Administrator\\Desktop\\novel-main\\doupocangqiong-tiancantudou 已存在。\n"
     ]
    }
   ],
   "source": [
    "import os\n",
    "\n",
    "def create_folder(folder_path):\n",
    "    if not os.path.exists(folder_path):\n",
    "        os.makedirs(folder_path)\n",
    "        print(f\"{folder_path} 已創建。\")\n",
    "    else:\n",
    "        print(f\"{folder_path} 已存在。\")\n",
    "\n",
    "# 示例用法\n",
    "folder_path = r\"C:\\Users\\Administrator\\Desktop\\novel-main\" + \"\\\\\" + URLFILENAME\n",
    "\n",
    "create_folder(folder_path)"
   ]
  },
  {
   "cell_type": "code",
   "execution_count": null,
   "metadata": {},
   "outputs": [],
   "source": []
  },
  {
   "attachments": {},
   "cell_type": "markdown",
   "metadata": {},
   "source": [
    "# ------------------------------------"
   ]
  },
  {
   "cell_type": "markdown",
   "metadata": {},
   "source": [
    "# chatch novel from internet"
   ]
  },
  {
   "cell_type": "code",
   "execution_count": 25,
   "metadata": {},
   "outputs": [],
   "source": [
    "def add_html_title_first(file,title_all):\n",
    "    filename = file\n",
    "    with open(filename, 'w', encoding='utf-8') as f:\n",
    "        # content = f.read()\n",
    "        f.seek(0, 0)\n",
    "        text = f'{title_all}'\n",
    "        f.write(str('<title>') + text + str('</title>'))\n",
    "        f.seek(0, 1)\n",
    "        text = f'{title_all}'\n",
    "        f.write(str('<br>') + str('<center>') + text + str('</center>'))\n"
   ]
  },
  {
   "cell_type": "code",
   "execution_count": 26,
   "metadata": {},
   "outputs": [],
   "source": [
    "def catch_title(a):\n",
    "    url = f'{URLFILENAME}/{NAME}' + str(a) + '.html'\n",
    "    with open(url, encoding='UTF-8') as file:\n",
    "        # 解析HTML\n",
    "        soup = BeautifulSoup(file, \"lxml\")\n",
    "        \n",
    "        # 查找 title 標籤\n",
    "        title = soup.find(\"title\")\n",
    "        if title:\n",
    "            title_text = title.text\n",
    "        else:\n",
    "            title_text = \"No title found\"\n",
    "\n",
    "    return str(title_text)\n",
    "# def catch_title(a):\n",
    "#     url = '帝霸_html' + str(a) + '.html'\n",
    "#     with open(url, encoding='UTF-8') as file:\n",
    "#         # 解析HTML\n",
    "#         soup = BeautifulSoup(file, \"lxml\")\n",
    "#         # 查找 title 標籤\n",
    "#         title = soup.find(\"title\").text\n",
    "#         name_url = title + url \n",
    "#     return title\n"
   ]
  },
  {
   "cell_type": "code",
   "execution_count": 27,
   "metadata": {},
   "outputs": [],
   "source": [
    "def add_txt_title(file,title_all):\n",
    "    filename = file\n",
    "    with open(filename, 'r+', encoding='utf-8') as f:\n",
    "        content = f.read()\n",
    "        f.seek(0, 0)\n",
    "        text = f'{title_all}'\n",
    "        f.write(str('<title>') + text + str('</title>') + content)\n",
    "     \n",
    "\n",
    "        \n",
    "def add_html_title(file, title_all, a):\n",
    "    filename = file\n",
    "    \n",
    "    with open(filename, 'r', encoding='utf-8') as f:\n",
    "      CONTENT = f.read()\n",
    "    link = f'{URLFILENAME}/{NAME}' + str(a) + '.html'\n",
    "    add_html_title_first(link, title_all)\n",
    "\n",
    "    with open(filename, 'w+', encoding='utf-8') as f:\n",
    "      content = f.read()\n",
    "      f.seek(0, 0)\n",
    "      text = f'{title_all}'\n",
    "      f.write(\n",
    "        f'''<!doctype html>\n",
    "<html lang=\"en\">\n",
    "  <head>\n",
    "    <!-- Required meta tags -->\n",
    "    <meta charset=\"utf-8\">\n",
    "    <meta name=\"viewport\" content=\"width=device-width, initial-scale=1, shrink-to-fit=no\">\n",
    "\n",
    "    <!-- Bootstrap CSS -->\n",
    "    <link href=\"https://cdn.jsdelivr.net/npm/bootstrap@5.0.0/dist/css/bootstrap.min.css\" rel=\"stylesheet\" integrity=\"sha384-wEmeIV1mKuiNpC+IOBjI7aAzPcEZeedi5yW5f2yOq55WWLwNGmvvx4Um1vskeMj0\" crossorigin=\"anonymous\">\n",
    "    <link rel=\"stylesheet\" type=\"text/css\" href=\"https://jimmy-shian.github.io/novel/novel.css\">\n",
    "    \n",
    "  <link rel=\"icon\" type=\"image/png\" href=\"https://jimmy-shian.github.io/novel/picture/webico.png\">\n",
    "  <!-- <style>\n",
    "  </style> -->\n",
    "\n",
    "  </head>\n",
    "  <body>\n",
    "          <div id=\"content-nav\">  </div>\n",
    "  \n",
    "          <title>{text}</title>         \n",
    "      '''    )\n",
    "      try:\n",
    "        f.seek(0, 1)\n",
    "        text = f'{catch_title(a-1)}'\n",
    "        linka_1 = f'{NAME}' + str(a-1) + '.html'\n",
    "        f.write(\n",
    "          f'''    <div class=\"spacer\"></div>\n",
    "      <div class='responsive-div'>\n",
    "        <div class=\"container\">\n",
    "          <img src=\"https://jimmy-shian.github.io/novel/picture/{TITLE}封面.jpg\" alt=\"{text}\">\n",
    "          <div class=\"text\">\n",
    "            <a href=\"{linka_1}\" class=\"link\">回上一章 : {text}</a>\n",
    "          </div>\n",
    "        </div>\n",
    "          '''\n",
    "                )\n",
    "      except FileNotFoundError:\n",
    "        f.seek(0, 1)\n",
    "        # text = f'{catch_title(a-1)}'\n",
    "        f.write(\n",
    "          '''    <div class=\"spacer\"></div>\n",
    "      <div class='responsive-div'>\n",
    "        <div class=\"container\">\n",
    "          <img src=\"https://jimmy-shian.github.io/novel/picture/cover.jpg\" alt=\"your-image-alt\">\n",
    "          <div class=\"text\">\n",
    "            <a href=\"https://jimmy-shian.github.io/novel/index.html\" class=\"link\">回主畫面</a>\n",
    "          </div>\n",
    "        </div>\n",
    "          ''')\n",
    "\n",
    "      f.seek(0, 1)\n",
    "      text = f'{title_all}'\n",
    "      f.write(str('<br>') + str('<center>') + text + str('</center>'))\n",
    "\n",
    "      f.seek(0, 1)\n",
    "      f.write(f'''\n",
    "          <div id=\"content\">  </div>\n",
    "      ''')\n",
    "      \n",
    "      try:\n",
    "        f.seek(0, 2)\n",
    "        text = f'{catch_title(a-1)}'\n",
    "        linka_1 = f'{NAME}' + str(a-1) + '.html'\n",
    "        f.write(\n",
    "          f'''    <div class=\"spacer\"></div>\n",
    "  \n",
    "        <div class=\"container\">\n",
    "          <img src=\"https://jimmy-shian.github.io/novel/picture/{TITLE}封面.jpg\" alt=\"{text}\">\n",
    "          <div class=\"text\">\n",
    "            <a href=\"{linka_1}\" class=\"link\">回上一章 : {text}</a>\n",
    "          </div>\n",
    "        </div>\n",
    "          '''\n",
    "                )\n",
    "      except FileNotFoundError:\n",
    "        f.seek(0, 2)\n",
    "        # text = f'{catch_title(a-1)}'\n",
    "        f.write(\n",
    "          '''    <div class=\"spacer\"></div>\n",
    "        <div class=\"container\">\n",
    "          <img src=\"https://jimmy-shian.github.io/novel/picture/cover.jpg\" alt=\"your-image-alt\">\n",
    "          <div class=\"text\">\n",
    "            <a href=\"https://jimmy-shian.github.io/novel/index.html\" class=\"link\">回主畫面</a>\n",
    "          </div>\n",
    "        </div>\n",
    "          '''\n",
    "                )\n",
    "      try:  \n",
    "        f.seek(0, 1)\n",
    "        text = f'{catch_title(a+1)}'  #a+1\n",
    "        linka1 = f'{NAME}' + str(a+1) + '.html'\n",
    "        f.write(\n",
    "          f'''<br>\n",
    "          <div class=\"container\">\n",
    "            <img src=\"https://jimmy-shian.github.io/novel/picture/{TITLE}封面.jpg\" alt=\"{text}\">\n",
    "            <div class=\"text\">\n",
    "              <a href=\"{linka1}\" class=\"link\">往下一章 : {text}</a>\n",
    "            </div>\n",
    "          </div>\n",
    "        </div>\n",
    "            '''\n",
    "                )\n",
    "      except FileNotFoundError:\n",
    "        f.seek(0, 1)\n",
    "        # text = f'{catch_title(a-1)}'\n",
    "        f.write(\n",
    "          '''<br>\n",
    "        <div class=\"container\">\n",
    "          <img src=\"https://jimmy-shian.github.io/novel/picture/cover.jpg\" alt=\"your-image-alt\">\n",
    "          <div class=\"text\">\n",
    "            <a href=\"https://jimmy-shian.github.io/novel/index.html\" class=\"link\">回主畫面</a>\n",
    "          </div>\n",
    "        </div>\n",
    "          '''\n",
    "                )\n",
    "        \n",
    "      f.seek(0, 1)\n",
    "      f.write(\n",
    "            \"\"\"     <div class=\"spacer\"></div>\n",
    "\n",
    "    <div id=\"content-end\">    </div>\n",
    "          <script src=\"https://jimmy-shian.github.io/novel/index.waku.js\" defer></script>\n",
    "          <script src=\"https://cdn.jsdelivr.net/npm/bootstrap@5.0.0/dist/js/bootstrap.bundle.min.js\" integrity=\"sha384-p34f1UUtsS3wqzfto5wAAmdvj+osOnFyQFpp4Ua3gs/ZVWx6oOypYoCJhGGScy+8\" crossorigin=\"anonymous\"></script>\n",
    "\n",
    "              \n",
    "    </body>\n",
    "    </html>\n",
    "          \"\"\")\n",
    "\n"
   ]
  },
  {
   "cell_type": "code",
   "execution_count": 28,
   "metadata": {},
   "outputs": [],
   "source": [
    "def catch(soup_url, a):\n",
    "    header = {\n",
    "    'User-Agent': 'Mozilla/5.0 (Macintosh; Intel Mac OS X 10_10_1) AppleWebKit/537.36 (KHTML, like Gecko) Chrome/39.0.2171.95 Safari/537.36',\n",
    "    }\n",
    "    title = str(soup_url.find('div', 'title'))\n",
    "\n",
    "    # title_name = str(soup_url.find('div', 'prev_page'))\n",
    "    title_name = str(f'《{TITLE}》▷ ')\n",
    "    info_items = soup_url.find_all('p')\n",
    "    \n",
    "    txt_list = []\n",
    "    html_list = []\n",
    "\n",
    "    title = re.sub(r'<.*?>',\"\",title)\n",
    "    title_name = re.sub(r'<.*?>', \" \", re.sub(r'\\W\\w*章', \" \", title_name))\n",
    "    title_all = title_name + title\n",
    "    # title_name = re.sub(r'<.*?>', \"\", title_name) # title_name = re.sub(r'\\B\\D\\W\\w*章', \"\", title_name)\n",
    "    # print(title_all)\n",
    "\n",
    "    for item in info_items:\n",
    "\n",
    "        txt_item = item.text.strip()\n",
    "        # html = str('<br>') + str('&emsp;&emsp;') + str(txt_item) + str('<br>')\n",
    "        html = str('<br><p>') + str('&emsp;&emsp;') + str(txt_item) + str('</p>')\n",
    "\n",
    "        use = []\n",
    "        # if len(txt_item)+2>40:\n",
    "        #     k = 0\n",
    "        #     for i in range(0, int(len(txt_item)/40)+1):\n",
    "        #         use = txt_item[k:(i+1)*40]\n",
    "        #         k = k + 40\n",
    "        #         if i == 0:\n",
    "        #             txt_list.append(f'\\n    {use}')\n",
    "        #         else:\n",
    "        #             txt_list.append(f'\\n{use}')\n",
    "        # else:\n",
    "        #     txt_list.append(f'\\n    {txt_item}')\n",
    "            \n",
    "        html_list.append(f'{html}')\n",
    "\n",
    "\n",
    "    np.savetxt(f'{URLFILENAME}/{NAME}' + str(a) + '.html', html_list, fmt='%s', delimiter=',', encoding='UTF-8')\n",
    "    np.savetxt(f'{URLFILENAME}/{NAME}' + str(a) + '.txt', html_list, fmt='%s', delimiter=',', encoding='UTF-8')\n",
    "\n",
    "    add_txt_title(f'{URLFILENAME}/{NAME}' + str(a) + '.txt',title_all)\n",
    "    add_html_title(f'{URLFILENAME}/{NAME}' + str(a) + '.html', title_all, a)\n"
   ]
  },
  {
   "cell_type": "markdown",
   "metadata": {},
   "source": [
    "## Working program"
   ]
  },
  {
   "cell_type": "code",
   "execution_count": 29,
   "metadata": {},
   "outputs": [
    {
     "name": "stderr",
     "output_type": "stream",
     "text": [
      "  9%|▊         | 67/774 [00:34<06:04,  1.94it/s]\n"
     ]
    },
    {
     "ename": "KeyboardInterrupt",
     "evalue": "",
     "output_type": "error",
     "traceback": [
      "\u001b[1;31m---------------------------------------------------------------------------\u001b[0m",
      "\u001b[1;31mKeyboardInterrupt\u001b[0m                         Traceback (most recent call last)",
      "Cell \u001b[1;32mIn[29], line 7\u001b[0m\n\u001b[0;32m      4\u001b[0m url \u001b[39m=\u001b[39m URL \u001b[39m+\u001b[39m \u001b[39mstr\u001b[39m(a) \u001b[39m+\u001b[39m \u001b[39m'\u001b[39m\u001b[39m.html\u001b[39m\u001b[39m'\u001b[39m\n\u001b[0;32m      5\u001b[0m \u001b[39m# if a%200 == 0:\u001b[39;00m\n\u001b[0;32m      6\u001b[0m \u001b[39m#     print(url)\u001b[39;00m\n\u001b[1;32m----> 7\u001b[0m response \u001b[39m=\u001b[39m requests\u001b[39m.\u001b[39;49mget(url\u001b[39m=\u001b[39;49murl)\n\u001b[0;32m      8\u001b[0m soup \u001b[39m=\u001b[39m BeautifulSoup(response\u001b[39m.\u001b[39mtext, \u001b[39m'\u001b[39m\u001b[39mlxml\u001b[39m\u001b[39m'\u001b[39m)\n\u001b[0;32m      9\u001b[0m catch(soup, a)\n",
      "File \u001b[1;32mc:\\Users\\Administrator\\venv\\Lib\\site-packages\\requests\\api.py:73\u001b[0m, in \u001b[0;36mget\u001b[1;34m(url, params, **kwargs)\u001b[0m\n\u001b[0;32m     62\u001b[0m \u001b[39mdef\u001b[39;00m \u001b[39mget\u001b[39m(url, params\u001b[39m=\u001b[39m\u001b[39mNone\u001b[39;00m, \u001b[39m*\u001b[39m\u001b[39m*\u001b[39mkwargs):\n\u001b[0;32m     63\u001b[0m \u001b[39m    \u001b[39m\u001b[39mr\u001b[39m\u001b[39m\"\"\"Sends a GET request.\u001b[39;00m\n\u001b[0;32m     64\u001b[0m \n\u001b[0;32m     65\u001b[0m \u001b[39m    :param url: URL for the new :class:`Request` object.\u001b[39;00m\n\u001b[1;32m   (...)\u001b[0m\n\u001b[0;32m     70\u001b[0m \u001b[39m    :rtype: requests.Response\u001b[39;00m\n\u001b[0;32m     71\u001b[0m \u001b[39m    \"\"\"\u001b[39;00m\n\u001b[1;32m---> 73\u001b[0m     \u001b[39mreturn\u001b[39;00m request(\u001b[39m\"\u001b[39;49m\u001b[39mget\u001b[39;49m\u001b[39m\"\u001b[39;49m, url, params\u001b[39m=\u001b[39;49mparams, \u001b[39m*\u001b[39;49m\u001b[39m*\u001b[39;49mkwargs)\n",
      "File \u001b[1;32mc:\\Users\\Administrator\\venv\\Lib\\site-packages\\requests\\api.py:59\u001b[0m, in \u001b[0;36mrequest\u001b[1;34m(method, url, **kwargs)\u001b[0m\n\u001b[0;32m     55\u001b[0m \u001b[39m# By using the 'with' statement we are sure the session is closed, thus we\u001b[39;00m\n\u001b[0;32m     56\u001b[0m \u001b[39m# avoid leaving sockets open which can trigger a ResourceWarning in some\u001b[39;00m\n\u001b[0;32m     57\u001b[0m \u001b[39m# cases, and look like a memory leak in others.\u001b[39;00m\n\u001b[0;32m     58\u001b[0m \u001b[39mwith\u001b[39;00m sessions\u001b[39m.\u001b[39mSession() \u001b[39mas\u001b[39;00m session:\n\u001b[1;32m---> 59\u001b[0m     \u001b[39mreturn\u001b[39;00m session\u001b[39m.\u001b[39;49mrequest(method\u001b[39m=\u001b[39;49mmethod, url\u001b[39m=\u001b[39;49murl, \u001b[39m*\u001b[39;49m\u001b[39m*\u001b[39;49mkwargs)\n",
      "File \u001b[1;32mc:\\Users\\Administrator\\venv\\Lib\\site-packages\\requests\\sessions.py:589\u001b[0m, in \u001b[0;36mSession.request\u001b[1;34m(self, method, url, params, data, headers, cookies, files, auth, timeout, allow_redirects, proxies, hooks, stream, verify, cert, json)\u001b[0m\n\u001b[0;32m    584\u001b[0m send_kwargs \u001b[39m=\u001b[39m {\n\u001b[0;32m    585\u001b[0m     \u001b[39m\"\u001b[39m\u001b[39mtimeout\u001b[39m\u001b[39m\"\u001b[39m: timeout,\n\u001b[0;32m    586\u001b[0m     \u001b[39m\"\u001b[39m\u001b[39mallow_redirects\u001b[39m\u001b[39m\"\u001b[39m: allow_redirects,\n\u001b[0;32m    587\u001b[0m }\n\u001b[0;32m    588\u001b[0m send_kwargs\u001b[39m.\u001b[39mupdate(settings)\n\u001b[1;32m--> 589\u001b[0m resp \u001b[39m=\u001b[39m \u001b[39mself\u001b[39;49m\u001b[39m.\u001b[39;49msend(prep, \u001b[39m*\u001b[39;49m\u001b[39m*\u001b[39;49msend_kwargs)\n\u001b[0;32m    591\u001b[0m \u001b[39mreturn\u001b[39;00m resp\n",
      "File \u001b[1;32mc:\\Users\\Administrator\\venv\\Lib\\site-packages\\requests\\sessions.py:703\u001b[0m, in \u001b[0;36mSession.send\u001b[1;34m(self, request, **kwargs)\u001b[0m\n\u001b[0;32m    700\u001b[0m start \u001b[39m=\u001b[39m preferred_clock()\n\u001b[0;32m    702\u001b[0m \u001b[39m# Send the request\u001b[39;00m\n\u001b[1;32m--> 703\u001b[0m r \u001b[39m=\u001b[39m adapter\u001b[39m.\u001b[39;49msend(request, \u001b[39m*\u001b[39;49m\u001b[39m*\u001b[39;49mkwargs)\n\u001b[0;32m    705\u001b[0m \u001b[39m# Total elapsed time of the request (approximately)\u001b[39;00m\n\u001b[0;32m    706\u001b[0m elapsed \u001b[39m=\u001b[39m preferred_clock() \u001b[39m-\u001b[39m start\n",
      "File \u001b[1;32mc:\\Users\\Administrator\\venv\\Lib\\site-packages\\requests\\adapters.py:486\u001b[0m, in \u001b[0;36mHTTPAdapter.send\u001b[1;34m(self, request, stream, timeout, verify, cert, proxies)\u001b[0m\n\u001b[0;32m    483\u001b[0m     timeout \u001b[39m=\u001b[39m TimeoutSauce(connect\u001b[39m=\u001b[39mtimeout, read\u001b[39m=\u001b[39mtimeout)\n\u001b[0;32m    485\u001b[0m \u001b[39mtry\u001b[39;00m:\n\u001b[1;32m--> 486\u001b[0m     resp \u001b[39m=\u001b[39m conn\u001b[39m.\u001b[39;49murlopen(\n\u001b[0;32m    487\u001b[0m         method\u001b[39m=\u001b[39;49mrequest\u001b[39m.\u001b[39;49mmethod,\n\u001b[0;32m    488\u001b[0m         url\u001b[39m=\u001b[39;49murl,\n\u001b[0;32m    489\u001b[0m         body\u001b[39m=\u001b[39;49mrequest\u001b[39m.\u001b[39;49mbody,\n\u001b[0;32m    490\u001b[0m         headers\u001b[39m=\u001b[39;49mrequest\u001b[39m.\u001b[39;49mheaders,\n\u001b[0;32m    491\u001b[0m         redirect\u001b[39m=\u001b[39;49m\u001b[39mFalse\u001b[39;49;00m,\n\u001b[0;32m    492\u001b[0m         assert_same_host\u001b[39m=\u001b[39;49m\u001b[39mFalse\u001b[39;49;00m,\n\u001b[0;32m    493\u001b[0m         preload_content\u001b[39m=\u001b[39;49m\u001b[39mFalse\u001b[39;49;00m,\n\u001b[0;32m    494\u001b[0m         decode_content\u001b[39m=\u001b[39;49m\u001b[39mFalse\u001b[39;49;00m,\n\u001b[0;32m    495\u001b[0m         retries\u001b[39m=\u001b[39;49m\u001b[39mself\u001b[39;49m\u001b[39m.\u001b[39;49mmax_retries,\n\u001b[0;32m    496\u001b[0m         timeout\u001b[39m=\u001b[39;49mtimeout,\n\u001b[0;32m    497\u001b[0m         chunked\u001b[39m=\u001b[39;49mchunked,\n\u001b[0;32m    498\u001b[0m     )\n\u001b[0;32m    500\u001b[0m \u001b[39mexcept\u001b[39;00m (ProtocolError, \u001b[39mOSError\u001b[39;00m) \u001b[39mas\u001b[39;00m err:\n\u001b[0;32m    501\u001b[0m     \u001b[39mraise\u001b[39;00m \u001b[39mConnectionError\u001b[39;00m(err, request\u001b[39m=\u001b[39mrequest)\n",
      "File \u001b[1;32mc:\\Users\\Administrator\\venv\\Lib\\site-packages\\urllib3\\connectionpool.py:703\u001b[0m, in \u001b[0;36mHTTPConnectionPool.urlopen\u001b[1;34m(self, method, url, body, headers, retries, redirect, assert_same_host, timeout, pool_timeout, release_conn, chunked, body_pos, **response_kw)\u001b[0m\n\u001b[0;32m    700\u001b[0m     \u001b[39mself\u001b[39m\u001b[39m.\u001b[39m_prepare_proxy(conn)\n\u001b[0;32m    702\u001b[0m \u001b[39m# Make the request on the httplib connection object.\u001b[39;00m\n\u001b[1;32m--> 703\u001b[0m httplib_response \u001b[39m=\u001b[39m \u001b[39mself\u001b[39;49m\u001b[39m.\u001b[39;49m_make_request(\n\u001b[0;32m    704\u001b[0m     conn,\n\u001b[0;32m    705\u001b[0m     method,\n\u001b[0;32m    706\u001b[0m     url,\n\u001b[0;32m    707\u001b[0m     timeout\u001b[39m=\u001b[39;49mtimeout_obj,\n\u001b[0;32m    708\u001b[0m     body\u001b[39m=\u001b[39;49mbody,\n\u001b[0;32m    709\u001b[0m     headers\u001b[39m=\u001b[39;49mheaders,\n\u001b[0;32m    710\u001b[0m     chunked\u001b[39m=\u001b[39;49mchunked,\n\u001b[0;32m    711\u001b[0m )\n\u001b[0;32m    713\u001b[0m \u001b[39m# If we're going to release the connection in ``finally:``, then\u001b[39;00m\n\u001b[0;32m    714\u001b[0m \u001b[39m# the response doesn't need to know about the connection. Otherwise\u001b[39;00m\n\u001b[0;32m    715\u001b[0m \u001b[39m# it will also try to release it and we'll have a double-release\u001b[39;00m\n\u001b[0;32m    716\u001b[0m \u001b[39m# mess.\u001b[39;00m\n\u001b[0;32m    717\u001b[0m response_conn \u001b[39m=\u001b[39m conn \u001b[39mif\u001b[39;00m \u001b[39mnot\u001b[39;00m release_conn \u001b[39melse\u001b[39;00m \u001b[39mNone\u001b[39;00m\n",
      "File \u001b[1;32mc:\\Users\\Administrator\\venv\\Lib\\site-packages\\urllib3\\connectionpool.py:449\u001b[0m, in \u001b[0;36mHTTPConnectionPool._make_request\u001b[1;34m(self, conn, method, url, timeout, chunked, **httplib_request_kw)\u001b[0m\n\u001b[0;32m    444\u001b[0m             httplib_response \u001b[39m=\u001b[39m conn\u001b[39m.\u001b[39mgetresponse()\n\u001b[0;32m    445\u001b[0m         \u001b[39mexcept\u001b[39;00m \u001b[39mBaseException\u001b[39;00m \u001b[39mas\u001b[39;00m e:\n\u001b[0;32m    446\u001b[0m             \u001b[39m# Remove the TypeError from the exception chain in\u001b[39;00m\n\u001b[0;32m    447\u001b[0m             \u001b[39m# Python 3 (including for exceptions like SystemExit).\u001b[39;00m\n\u001b[0;32m    448\u001b[0m             \u001b[39m# Otherwise it looks like a bug in the code.\u001b[39;00m\n\u001b[1;32m--> 449\u001b[0m             six\u001b[39m.\u001b[39;49mraise_from(e, \u001b[39mNone\u001b[39;49;00m)\n\u001b[0;32m    450\u001b[0m \u001b[39mexcept\u001b[39;00m (SocketTimeout, BaseSSLError, SocketError) \u001b[39mas\u001b[39;00m e:\n\u001b[0;32m    451\u001b[0m     \u001b[39mself\u001b[39m\u001b[39m.\u001b[39m_raise_timeout(err\u001b[39m=\u001b[39me, url\u001b[39m=\u001b[39murl, timeout_value\u001b[39m=\u001b[39mread_timeout)\n",
      "File \u001b[1;32m<string>:3\u001b[0m, in \u001b[0;36mraise_from\u001b[1;34m(value, from_value)\u001b[0m\n",
      "File \u001b[1;32mc:\\Users\\Administrator\\venv\\Lib\\site-packages\\urllib3\\connectionpool.py:444\u001b[0m, in \u001b[0;36mHTTPConnectionPool._make_request\u001b[1;34m(self, conn, method, url, timeout, chunked, **httplib_request_kw)\u001b[0m\n\u001b[0;32m    441\u001b[0m \u001b[39mexcept\u001b[39;00m \u001b[39mTypeError\u001b[39;00m:\n\u001b[0;32m    442\u001b[0m     \u001b[39m# Python 3\u001b[39;00m\n\u001b[0;32m    443\u001b[0m     \u001b[39mtry\u001b[39;00m:\n\u001b[1;32m--> 444\u001b[0m         httplib_response \u001b[39m=\u001b[39m conn\u001b[39m.\u001b[39;49mgetresponse()\n\u001b[0;32m    445\u001b[0m     \u001b[39mexcept\u001b[39;00m \u001b[39mBaseException\u001b[39;00m \u001b[39mas\u001b[39;00m e:\n\u001b[0;32m    446\u001b[0m         \u001b[39m# Remove the TypeError from the exception chain in\u001b[39;00m\n\u001b[0;32m    447\u001b[0m         \u001b[39m# Python 3 (including for exceptions like SystemExit).\u001b[39;00m\n\u001b[0;32m    448\u001b[0m         \u001b[39m# Otherwise it looks like a bug in the code.\u001b[39;00m\n\u001b[0;32m    449\u001b[0m         six\u001b[39m.\u001b[39mraise_from(e, \u001b[39mNone\u001b[39;00m)\n",
      "File \u001b[1;32m~\\AppData\\Local\\Programs\\Python\\Python311\\Lib\\http\\client.py:1374\u001b[0m, in \u001b[0;36mHTTPConnection.getresponse\u001b[1;34m(self)\u001b[0m\n\u001b[0;32m   1372\u001b[0m \u001b[39mtry\u001b[39;00m:\n\u001b[0;32m   1373\u001b[0m     \u001b[39mtry\u001b[39;00m:\n\u001b[1;32m-> 1374\u001b[0m         response\u001b[39m.\u001b[39;49mbegin()\n\u001b[0;32m   1375\u001b[0m     \u001b[39mexcept\u001b[39;00m \u001b[39mConnectionError\u001b[39;00m:\n\u001b[0;32m   1376\u001b[0m         \u001b[39mself\u001b[39m\u001b[39m.\u001b[39mclose()\n",
      "File \u001b[1;32m~\\AppData\\Local\\Programs\\Python\\Python311\\Lib\\http\\client.py:318\u001b[0m, in \u001b[0;36mHTTPResponse.begin\u001b[1;34m(self)\u001b[0m\n\u001b[0;32m    316\u001b[0m \u001b[39m# read until we get a non-100 response\u001b[39;00m\n\u001b[0;32m    317\u001b[0m \u001b[39mwhile\u001b[39;00m \u001b[39mTrue\u001b[39;00m:\n\u001b[1;32m--> 318\u001b[0m     version, status, reason \u001b[39m=\u001b[39m \u001b[39mself\u001b[39;49m\u001b[39m.\u001b[39;49m_read_status()\n\u001b[0;32m    319\u001b[0m     \u001b[39mif\u001b[39;00m status \u001b[39m!=\u001b[39m CONTINUE:\n\u001b[0;32m    320\u001b[0m         \u001b[39mbreak\u001b[39;00m\n",
      "File \u001b[1;32m~\\AppData\\Local\\Programs\\Python\\Python311\\Lib\\http\\client.py:279\u001b[0m, in \u001b[0;36mHTTPResponse._read_status\u001b[1;34m(self)\u001b[0m\n\u001b[0;32m    278\u001b[0m \u001b[39mdef\u001b[39;00m \u001b[39m_read_status\u001b[39m(\u001b[39mself\u001b[39m):\n\u001b[1;32m--> 279\u001b[0m     line \u001b[39m=\u001b[39m \u001b[39mstr\u001b[39m(\u001b[39mself\u001b[39m\u001b[39m.\u001b[39mfp\u001b[39m.\u001b[39mreadline(_MAXLINE \u001b[39m+\u001b[39m \u001b[39m1\u001b[39m), \u001b[39m\"\u001b[39m\u001b[39miso-8859-1\u001b[39m\u001b[39m\"\u001b[39m)\n\u001b[0;32m    280\u001b[0m     \u001b[39mif\u001b[39;00m \u001b[39mlen\u001b[39m(line) \u001b[39m>\u001b[39m _MAXLINE:\n\u001b[0;32m    281\u001b[0m         \u001b[39mraise\u001b[39;00m LineTooLong(\u001b[39m\"\u001b[39m\u001b[39mstatus line\u001b[39m\u001b[39m\"\u001b[39m)\n",
      "File \u001b[1;32m~\\AppData\\Local\\Programs\\Python\\Python311\\Lib\\socket.py:706\u001b[0m, in \u001b[0;36mSocketIO.readinto\u001b[1;34m(self, b)\u001b[0m\n\u001b[0;32m    704\u001b[0m \u001b[39mwhile\u001b[39;00m \u001b[39mTrue\u001b[39;00m:\n\u001b[0;32m    705\u001b[0m     \u001b[39mtry\u001b[39;00m:\n\u001b[1;32m--> 706\u001b[0m         \u001b[39mreturn\u001b[39;00m \u001b[39mself\u001b[39;49m\u001b[39m.\u001b[39;49m_sock\u001b[39m.\u001b[39;49mrecv_into(b)\n\u001b[0;32m    707\u001b[0m     \u001b[39mexcept\u001b[39;00m timeout:\n\u001b[0;32m    708\u001b[0m         \u001b[39mself\u001b[39m\u001b[39m.\u001b[39m_timeout_occurred \u001b[39m=\u001b[39m \u001b[39mTrue\u001b[39;00m\n",
      "File \u001b[1;32m~\\AppData\\Local\\Programs\\Python\\Python311\\Lib\\ssl.py:1278\u001b[0m, in \u001b[0;36mSSLSocket.recv_into\u001b[1;34m(self, buffer, nbytes, flags)\u001b[0m\n\u001b[0;32m   1274\u001b[0m     \u001b[39mif\u001b[39;00m flags \u001b[39m!=\u001b[39m \u001b[39m0\u001b[39m:\n\u001b[0;32m   1275\u001b[0m         \u001b[39mraise\u001b[39;00m \u001b[39mValueError\u001b[39;00m(\n\u001b[0;32m   1276\u001b[0m           \u001b[39m\"\u001b[39m\u001b[39mnon-zero flags not allowed in calls to recv_into() on \u001b[39m\u001b[39m%s\u001b[39;00m\u001b[39m\"\u001b[39m \u001b[39m%\u001b[39m\n\u001b[0;32m   1277\u001b[0m           \u001b[39mself\u001b[39m\u001b[39m.\u001b[39m\u001b[39m__class__\u001b[39m)\n\u001b[1;32m-> 1278\u001b[0m     \u001b[39mreturn\u001b[39;00m \u001b[39mself\u001b[39;49m\u001b[39m.\u001b[39;49mread(nbytes, buffer)\n\u001b[0;32m   1279\u001b[0m \u001b[39melse\u001b[39;00m:\n\u001b[0;32m   1280\u001b[0m     \u001b[39mreturn\u001b[39;00m \u001b[39msuper\u001b[39m()\u001b[39m.\u001b[39mrecv_into(buffer, nbytes, flags)\n",
      "File \u001b[1;32m~\\AppData\\Local\\Programs\\Python\\Python311\\Lib\\ssl.py:1134\u001b[0m, in \u001b[0;36mSSLSocket.read\u001b[1;34m(self, len, buffer)\u001b[0m\n\u001b[0;32m   1132\u001b[0m \u001b[39mtry\u001b[39;00m:\n\u001b[0;32m   1133\u001b[0m     \u001b[39mif\u001b[39;00m buffer \u001b[39mis\u001b[39;00m \u001b[39mnot\u001b[39;00m \u001b[39mNone\u001b[39;00m:\n\u001b[1;32m-> 1134\u001b[0m         \u001b[39mreturn\u001b[39;00m \u001b[39mself\u001b[39;49m\u001b[39m.\u001b[39;49m_sslobj\u001b[39m.\u001b[39;49mread(\u001b[39mlen\u001b[39;49m, buffer)\n\u001b[0;32m   1135\u001b[0m     \u001b[39melse\u001b[39;00m:\n\u001b[0;32m   1136\u001b[0m         \u001b[39mreturn\u001b[39;00m \u001b[39mself\u001b[39m\u001b[39m.\u001b[39m_sslobj\u001b[39m.\u001b[39mread(\u001b[39mlen\u001b[39m)\n",
      "\u001b[1;31mKeyboardInterrupt\u001b[0m: "
     ]
    }
   ],
   "source": [
    "if GRAB == True :\n",
    "    for a in tqdm(range(START, NUMBER)): #5353\n",
    "    # for a in tqdm(range(245, 277)): #5353\n",
    "        url = URL + str(a) + '.html'\n",
    "        # if a%200 == 0:\n",
    "        #     print(url)\n",
    "        response = requests.get(url=url)\n",
    "        soup = BeautifulSoup(response.text, 'lxml')\n",
    "        catch(soup, a)\n",
    "        time.sleep(0.01)"
   ]
  },
  {
   "cell_type": "markdown",
   "metadata": {},
   "source": [
    "# change html from local"
   ]
  },
  {
   "cell_type": "markdown",
   "metadata": {},
   "source": [
    "## creat body_head of html"
   ]
  },
  {
   "cell_type": "code",
   "execution_count": null,
   "metadata": {},
   "outputs": [],
   "source": [
    "def catch_title(a):\n",
    "    url = f'{URLFILENAME}/{NAME}' + str(a) + '.html'\n",
    "    with open(url, encoding='UTF-8') as file:\n",
    "        # 解析HTML\n",
    "        soup = BeautifulSoup(file, \"lxml\")\n",
    "        # 查找 title 標籤\n",
    "        title = soup.find(\"title\")\n",
    "        if title:\n",
    "            title_text = title.text\n",
    "        else:\n",
    "            title_text = \"No title found\"\n",
    "\n",
    "    return str(title_text)"
   ]
  },
  {
   "cell_type": "code",
   "execution_count": null,
   "metadata": {},
   "outputs": [],
   "source": [
    "def add_html_body_head(file, title_all, a):\n",
    "    filename = file\n",
    "    txt_file = f'{URLFILENAME}/{NAME}' + str(a) + '.txt'\n",
    "    with open(txt_file, 'r', encoding='utf-8') as f:\n",
    "      CONTENT = f.read()\n",
    "      \n",
    "    link = f'{URLFILENAME}/{NAME}' + str(a) + '.html'\n",
    "    # catch_title(a)\n",
    "    with open(filename, 'w+', encoding='utf-8') as f:\n",
    "      content = f.read()\n",
    "      f.seek(0, 0)\n",
    "      text = f'{title_all}'\n",
    "      f.write(\n",
    "        f'''<!doctype html>\n",
    "<html lang=\"en\">\n",
    "  <head>\n",
    "    <!-- Required meta tags -->\n",
    "    <meta charset=\"utf-8\">\n",
    "    <meta name=\"viewport\" content=\"width=device-width, initial-scale=1, shrink-to-fit=no\">\n",
    "<script async src=\"https://pagead2.googlesyndication.com/pagead/js/adsbygoogle.js?client=ca-pub-2415998114933157\"\n",
    "     crossorigin=\"anonymous\"></script>\n",
    "    <!-- Bootstrap CSS -->\n",
    "    <link href=\"https://cdn.jsdelivr.net/npm/bootstrap@5.0.0/dist/css/bootstrap.min.css\" rel=\"stylesheet\" integrity=\"sha384-wEmeIV1mKuiNpC+IOBjI7aAzPcEZeedi5yW5f2yOq55WWLwNGmvvx4Um1vskeMj0\" crossorigin=\"anonymous\">\n",
    "    <link rel=\"stylesheet\" type=\"text/css\" href=\"https://jimmy-shian.github.io/novel/novel.css\">\n",
    "    \n",
    "  <link rel=\"icon\" type=\"image/png\" href=\"https://jimmy-shian.github.io/novel/picture/webico.png\">\n",
    "  <!-- <style>\n",
    "  </style> -->\n",
    "\n",
    "  </head>\n",
    "  <body>\n",
    "          <div id=\"content-nav\">  </div>\n",
    "  \n",
    "          <title>{text}</title>         \n",
    "      '''    )\n",
    "      try:\n",
    "        f.seek(0, 1)\n",
    "        text = f'{catch_title(a-1)}'\n",
    "        linka_1 = f'{NAME}' + str(a-1) + '.html'\n",
    "        f.write(\n",
    "          f'''    <div class=\"spacer\"></div>\n",
    "      <div class='responsive-div'>\n",
    "        <div class=\"container\">\n",
    "          <img src=\"https://jimmy-shian.github.io/novel/picture/{TITLE}封面.jpg\" alt=\"{text}\">\n",
    "          <div class=\"text\">\n",
    "            <a href=\"{linka_1}\" class=\"link\">回上一章 : {text}</a>\n",
    "          </div>\n",
    "        </div>\n",
    "          '''\n",
    "                )\n",
    "      except FileNotFoundError:\n",
    "        f.seek(0, 1)\n",
    "        # text = f'{catch_title(a-1)}'\n",
    "        f.write(\n",
    "          '''    <div class=\"spacer\"></div>\n",
    "      <div class='responsive-div'>\n",
    "        <div class=\"container\">\n",
    "          <img src=\"https://jimmy-shian.github.io/novel/picture/cover.jpg\" alt=\"your-image-alt\">\n",
    "          <div class=\"text\">\n",
    "            <a href=\"https://jimmy-shian.github.io/novel/index.html\" class=\"link\">回主畫面</a>\n",
    "          </div>\n",
    "        </div>\n",
    "          ''')\n",
    "\n",
    "      f.seek(0, 1)\n",
    "      text = f'{title_all}'\n",
    "      f.write(str('<br>') + str('<center>') + text + str('</center>'))\n",
    "\n",
    "      f.seek(0, 1)\n",
    "      f.write(f'''\n",
    "          <div id=\"content\">  </div>\n",
    "      ''')\n",
    "      \n",
    "      try:\n",
    "        f.seek(0, 2)\n",
    "        text = f'{catch_title(a-1)}'\n",
    "        linka_1 = f'{NAME}' + str(a-1) + '.html'\n",
    "        f.write(\n",
    "          f'''    <div class=\"spacer\"></div>\n",
    "  \n",
    "        <div class=\"container\">\n",
    "          <img src=\"https://jimmy-shian.github.io/novel/picture/{TITLE}封面.jpg\" alt=\"{text}\">\n",
    "          <div class=\"text\">\n",
    "            <a href=\"{linka_1}\" class=\"link\">回上一章 : {text}</a>\n",
    "          </div>\n",
    "        </div>\n",
    "          '''\n",
    "                )\n",
    "      except FileNotFoundError:\n",
    "        f.seek(0, 2)\n",
    "        # text = f'{catch_title(a-1)}'\n",
    "        f.write(\n",
    "          '''    <div class=\"spacer\"></div>\n",
    "        <div class=\"container\">\n",
    "          <img src=\"https://jimmy-shian.github.io/novel/picture/cover.jpg\" alt=\"your-image-alt\">\n",
    "          <div class=\"text\">\n",
    "            <a href=\"https://jimmy-shian.github.io/novel/index.html\" class=\"link\">回主畫面</a>\n",
    "          </div>\n",
    "        </div>\n",
    "          '''\n",
    "                )\n",
    "      try:  \n",
    "        f.seek(0, 1)\n",
    "        text = f'{catch_title(a+1)}'  #a+1\n",
    "        linka1 = f'{NAME}' + str(a+1) + '.html'\n",
    "        f.write(\n",
    "          f'''<br>\n",
    "          <div class=\"container\">\n",
    "            <img src=\"https://jimmy-shian.github.io/novel/picture/{TITLE}封面.jpg\" alt=\"{text}\">\n",
    "            <div class=\"text\">\n",
    "              <a href=\"{linka1}\" class=\"link\">往下一章 : {text}</a>\n",
    "            </div>\n",
    "          </div>\n",
    "        </div>\n",
    "            '''\n",
    "                )\n",
    "      except FileNotFoundError:\n",
    "        f.seek(0, 1)\n",
    "        # text = f'{catch_title(a-1)}'\n",
    "        f.write(\n",
    "          '''<br>\n",
    "        <div class=\"container\">\n",
    "          <img src=\"https://jimmy-shian.github.io/novel/picture/cover.jpg\" alt=\"your-image-alt\">\n",
    "          <div class=\"text\">\n",
    "            <a href=\"https://jimmy-shian.github.io/novel/index.html\" class=\"link\">回主畫面</a>\n",
    "          </div>\n",
    "        </div>\n",
    "          '''\n",
    "                )\n",
    "        \n",
    "      f.seek(0, 1)\n",
    "      f.write(\n",
    "            \"\"\"     <div class=\"spacer\"></div>\n",
    "\n",
    "    <div id=\"content-end\">    </div>\n",
    "          <script src=\"https://code.jquery.com/jquery-3.7.0.min.js\" integrity=\"sha256-2Pmvv0kuTBOenSvLm6bvfBSSHrUJ+3A7x6P5Ebd07/g=\" crossorigin=\"anonymous\"></script>\n",
    "\n",
    "          <script src=\"https://cdn.jsdelivr.net/npm/bootstrap@5.0.0/dist/js/bootstrap.bundle.min.js\" integrity=\"sha384-p34f1UUtsS3wqzfto5wAAmdvj+osOnFyQFpp4Ua3gs/ZVWx6oOypYoCJhGGScy+8\" crossorigin=\"anonymous\"></script>\n",
    "          <script src=\"https://jimmy-shian.github.io/novel/index.waku.js\" defer></script>\n",
    "\n",
    "          \n",
    "    </body>\n",
    "    </html>\n",
    "          \"\"\")\n",
    "\n",
    "  \n",
    "          #   <script src=\"https://code.jquery.com/jquery-3.6.0.min.js\"></script>\n",
    "          # <script>\n",
    "          #   // 使用jQuery綁定點擊事件\n",
    "          #   $(document).ready(function() {\n",
    "          #     $('.dropdown-toggle-mine').click(function() {\n",
    "          #       // 切換下拉選單的展開狀態\n",
    "          #       $(this).next('.dropdown-menu-mine').slideToggle(500); // 500毫秒的動畫時間\n",
    "          #     });\n",
    "          #   });\n",
    "          # </script>\n"
   ]
  },
  {
   "cell_type": "markdown",
   "metadata": {},
   "source": [
    "## fix txt file  ---remove over br"
   ]
  },
  {
   "cell_type": "code",
   "execution_count": null,
   "metadata": {},
   "outputs": [
    {
     "name": "stderr",
     "output_type": "stream",
     "text": [
      "100%|██████████| 767/767 [00:00<00:00, 818.92it/s]\n"
     ]
    }
   ],
   "source": [
    "if FIX_TXT == True:\n",
    "    for a in tqdm(range(START,NUMBER)): #5353\n",
    "        with open(f'{URLFILENAME}/{NAME}' + str(a) + '.txt', 'r', encoding='utf-8') as file:\n",
    "            text = file.read()\n",
    "\n",
    "        # new_text = re.sub('<br>', '', text, count=2)\n",
    "\n",
    "        # 將 <br>&emsp;&emsp; <p>\n",
    "        new_text = re.sub('<br>&emsp;&emsp;', '<ww><p>&emsp;&emsp;', text)\n",
    "        # 將 <br> 替換為 </p>\n",
    "        new_text = re.sub('<br>', '</p>', new_text)\n",
    "\n",
    "        new_text = re.sub('<ww><p>&emsp;&emsp;', '<br><p>&emsp;&emsp;', new_text)\n",
    "\n",
    "        with open(f'{URLFILENAME}/{NAME}' + str(a) + '.txt', 'w', encoding='utf-8') as file:\n",
    "            file.write(new_text)"
   ]
  },
  {
   "cell_type": "markdown",
   "metadata": {},
   "source": [
    "## Working program"
   ]
  },
  {
   "cell_type": "code",
   "execution_count": null,
   "metadata": {},
   "outputs": [
    {
     "name": "stderr",
     "output_type": "stream",
     "text": [
      "100%|██████████| 767/767 [00:07<00:00, 101.74it/s]\n"
     ]
    }
   ],
   "source": [
    "if FIX_HTML == True :\n",
    "    for a in tqdm(range(START,NUMBER)): #5353\n",
    "    \n",
    "        title_all = catch_title(a)\n",
    "        add_html_body_head(f'{URLFILENAME}/{NAME}' + str(a) + '.html', title_all, a)\n",
    "\n"
   ]
  },
  {
   "attachments": {},
   "cell_type": "markdown",
   "metadata": {},
   "source": [
    "........................"
   ]
  },
  {
   "cell_type": "markdown",
   "metadata": {},
   "source": [
    "# 完整的程式碼如下"
   ]
  },
  {
   "cell_type": "code",
   "execution_count": null,
   "metadata": {},
   "outputs": [],
   "source": [
    "# import csv\n",
    "# import requests\n",
    "# from bs4 import BeautifulSoup\n",
    "\n",
    "# url = 'https://movies.yahoo.com.tw/movie_thisweek.html'\n",
    "# response = requests.get(url=url)\n",
    "\n",
    "# soup = BeautifulSoup(response.text, 'lxml')\n",
    "\n",
    "# info_items = soup.find_all('div', 'release_info')\n",
    "\n",
    "# with open('本週新片.csv', 'w', encoding='utf-8-sig', newline='') as csv_file:\n",
    "    \n",
    "#     csv_writer = csv.writer(csv_file)\n",
    "#     fieldnames = ['電影片名', '電影英文片名', '上映時間', '網友期待度']\n",
    "#     csv_writer.writerow(fieldnames)\n",
    "\n",
    "#     for item in info_items:\n",
    "\n",
    "#         name = item.find('div', 'release_movie_name').a.text.strip()\n",
    "#         english_name = item.find('div', 'en').a.text.strip()\n",
    "#         release_time = item.find('div', 'release_movie_time').text.split('：')[-1].strip()\n",
    "#         level = item.find('div', 'leveltext').span.text.strip()\n",
    "        \n",
    "#         csv_writer.writerow([name, english_name, release_time, level])\n",
    "#         print('{}({}) 上映日：{} 期待度：{}'.format(name, english_name, release_time, level))"
   ]
  }
 ],
 "metadata": {
  "kernelspec": {
   "display_name": "Python 3 (ipykernel)",
   "language": "python",
   "name": "python3"
  },
  "language_info": {
   "codemirror_mode": {
    "name": "ipython",
    "version": 3
   },
   "file_extension": ".py",
   "mimetype": "text/x-python",
   "name": "python",
   "nbconvert_exporter": "python",
   "pygments_lexer": "ipython3",
   "version": "3.11.2"
  },
  "vscode": {
   "interpreter": {
    "hash": "4f51678d26300acc1504d5f231aa64fefd00fb6340e5aa8a951d06e8266bb69e"
   }
  }
 },
 "nbformat": 4,
 "nbformat_minor": 2
}
