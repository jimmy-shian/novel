{
 "cells": [
  {
   "cell_type": "markdown",
   "metadata": {},
   "source": [
    "# Python 爬蟲實戰範例｜學會抓取 Yahoo奇摩最新電影\n",
    "提供給想學習 Python 爬蟲的朋友們，分享 Python 爬蟲的步驟與方法，並提供完整的程式碼，只要常透過不同主題的實戰練習，就可以駕輕就熟爬蟲技術，往後要抓取網頁資料，就能夠輕易上手\n",
    "\n",
    "網站文章：https://www.webscrapingpro.tw/yahoo-movie-web-scraping-using-python/"
   ]
  },
  {
   "cell_type": "code",
   "execution_count": 1,
   "metadata": {},
   "outputs": [],
   "source": [
    "import requests\n",
    "import numpy as np\n",
    "import re\n",
    "import time\n",
    "from bs4 import BeautifulSoup\n",
    "from tqdm import tqdm\n",
    "import sys\n"
   ]
  },
  {
   "cell_type": "code",
   "execution_count": 2,
   "metadata": {},
   "outputs": [
    {
     "name": "stdout",
     "output_type": "stream",
     "text": [
      "NAME = 我欲封天_html\n",
      "TITLE = 我欲封天\n",
      "URL = https://www.bg3.co/novel/pagea/woyufengtian-ergen_\n",
      "FILENAME = woyufengtian-ergen.html\n",
      "NUMBER = 1620\n"
     ]
    }
   ],
   "source": [
    "novel = '我欲封天'\n",
    "web = 'https://www.bg3.co/novel/pagea/woyufengtian-ergen_1619.html'\n",
    "\n",
    "NAME = novel + \"_html\"\n",
    "TITLE = novel\n",
    "URL = str(web.split(\"_\")[0]) + \"_\"\n",
    "FILENAME = web.split(\"/\")[-1].split(\"_\")[-2] + \".html\"\n",
    "NUMBER = int(web.split(\"_\")[-1].split(\".html\")[0]) + 1\n",
    "\n",
    "print(\"NAME =\", NAME)\n",
    "print(\"TITLE =\", TITLE)\n",
    "print(\"URL =\", URL)\n",
    "print(\"FILENAME =\", FILENAME)\n",
    "print(\"NUMBER =\", NUMBER)\n",
    "\n",
    "# NAME = '凡人修仙傳_html'\n",
    "# TITLE = '凡人修仙傳'\n",
    "# URL = 'https://www.bg3.co/novel/pagea/fanrenxiuxianchuan-wangyu_'\n",
    "# FILENAME = 'fanrenxiuxianchuan-wangyu.html'\n",
    "# NUMBER = int(2453)"
   ]
  },
  {
   "cell_type": "markdown",
   "metadata": {},
   "source": [
    "# chatch novel from internet"
   ]
  },
  {
   "cell_type": "code",
   "execution_count": 5,
   "metadata": {},
   "outputs": [],
   "source": [
    "def add_html_title_first(file,title_all):\n",
    "    filename = file\n",
    "    with open(filename, 'w', encoding='utf-8') as f:\n",
    "        # content = f.read()\n",
    "        f.seek(0, 0)\n",
    "        text = f'{title_all}'\n",
    "        f.write(str('<title>') + text + str('</title>'))\n",
    "        f.seek(0, 1)\n",
    "        text = f'{title_all}'\n",
    "        f.write(str('<br>') + str('<center>') + text + str('</center>') + str('<br>'))\n"
   ]
  },
  {
   "cell_type": "code",
   "execution_count": 6,
   "metadata": {},
   "outputs": [],
   "source": [
    "def catch_title(a):\n",
    "    url = f'{NAME}' + str(a) + '.html'\n",
    "    with open(url, encoding='UTF-8') as file:\n",
    "        # 解析HTML\n",
    "        soup = BeautifulSoup(file, \"lxml\")\n",
    "        \n",
    "        # 查找 title 標籤\n",
    "        title = soup.find(\"title\")\n",
    "        if title:\n",
    "            title_text = title.text\n",
    "        else:\n",
    "            title_text = \"No title found\"\n",
    "\n",
    "    return str(title_text)\n",
    "# def catch_title(a):\n",
    "#     url = '帝霸_html' + str(a) + '.html'\n",
    "#     with open(url, encoding='UTF-8') as file:\n",
    "#         # 解析HTML\n",
    "#         soup = BeautifulSoup(file, \"lxml\")\n",
    "#         # 查找 title 標籤\n",
    "#         title = soup.find(\"title\").text\n",
    "#         name_url = title + url \n",
    "#     return title\n"
   ]
  },
  {
   "cell_type": "code",
   "execution_count": 7,
   "metadata": {},
   "outputs": [],
   "source": [
    "def add_txt_title(file,title_all):\n",
    "    filename = file\n",
    "    with open(filename, 'r+', encoding='utf-8') as f:\n",
    "        content = f.read()\n",
    "        f.seek(0, 0)\n",
    "        text = f'{title_all}'\n",
    "        f.write(str('<title>') + text + str('</title>') + content)\n",
    "     \n",
    "\n",
    "        \n",
    "def add_html_title(file, title_all, a):\n",
    "    filename = file\n",
    "    \n",
    "    with open(filename, 'r', encoding='utf-8') as f:\n",
    "      CONTENT = f.read()\n",
    "    link = f'{NAME}' + str(a) + '.html'\n",
    "    add_html_title_first(link, title_all)\n",
    "\n",
    "    with open(filename, 'w+', encoding='utf-8') as f:\n",
    "      content = f.read()\n",
    "      f.seek(0, 0)\n",
    "      text = f'{title_all}'\n",
    "      f.write(\n",
    "        f'''<!doctype html>\n",
    "      <html lang=\"en\">\n",
    "        <head>\n",
    "          <!-- Required meta tags -->\n",
    "          <meta charset=\"utf-8\">\n",
    "          <meta name=\"viewport\" content=\"width=device-width, initial-scale=1, shrink-to-fit=no\">\n",
    "\n",
    "          <!-- Bootstrap CSS -->\n",
    "          <link href=\"https://cdn.jsdelivr.net/npm/bootstrap@5.0.0/dist/css/bootstrap.min.css\" rel=\"stylesheet\" integrity=\"sha384-wEmeIV1mKuiNpC+IOBjI7aAzPcEZeedi5yW5f2yOq55WWLwNGmvvx4Um1vskeMj0\" crossorigin=\"anonymous\">\n",
    "          <link rel=\"stylesheet\" type=\"text/css\" href=\"https://jimmy-shian.github.io/novel/novel.css\">\n",
    "          \n",
    "          <title>{text}</title>\n",
    "        </head>\n",
    "        <body>\n",
    "          <script data-ad-client=\"ca-pub-2415998114933157\" async src=\"https://pagead2.googlesyndication.com/pagead/js/adsbygoogle.js\"></script>\n",
    "          \n",
    "          <nav class=\"navbar navbar-expand-lg navbar-dark bg-dark\">\n",
    "              <div class=\"container-fluid\">\n",
    "                <a class=\"navbar-brand\" href=\"\">My novel site</a>\n",
    "                <button class=\"navbar-toggler\" type=\"button\" data-bs-toggle=\"collapse\" data-bs-target=\"#navbarNav\" aria-controls=\"navbarNav\" aria-expanded=\"false\" aria-label=\"Toggle navigation\">\n",
    "                  <span class=\"navbar-toggler-icon\"></span>\n",
    "                </button>\n",
    "                <div class=\"collapse navbar-collapse\" id=\"navbarNav\">\n",
    "                  <ul class=\"navbar-nav\">\n",
    "                    <li class=\"nav-item\">\n",
    "                      <a class=\"nav-link\" href=\"../index.html\">Home</a>\n",
    "                    </li>\n",
    "                    <li class=\"nav-item\">\n",
    "                      <a class=\"nav-link\" href=\"{FILENAME}\">{TITLE}</a>\n",
    "                    </li>\n",
    "                    <li class=\"nav-item\">\n",
    "                      <a class=\"nav-link\" href=\"../index.html\">Pricing</a>\n",
    "                    </li>\n",
    "                  </ul>\n",
    "                </div>\n",
    "              </div>\n",
    "            </nav>        \n",
    "      '''    )\n",
    "      try:\n",
    "        f.seek(0, 1)\n",
    "        text = f'{catch_title(a-1)}'\n",
    "        linka_1 = f'{NAME}' + str(a-1) + '.html'\n",
    "        f.write(\n",
    "          f'''      <div class='responsive-div'>\n",
    "        <div class=\"container\">\n",
    "          <img src=\"../picture/{TITLE}封面.jpg\" alt=\"{text}\">\n",
    "          <div class=\"text\">\n",
    "            <a href=\"{linka_1}\" class=\"link\">回上一章 : {text}</a>\n",
    "          </div>\n",
    "        </div>\n",
    "          '''\n",
    "                )\n",
    "      except FileNotFoundError:\n",
    "        f.seek(0, 1)\n",
    "        # text = f'{catch_title(a-1)}'\n",
    "        f.write(\n",
    "          '''      <div class='responsive-div'>\n",
    "        <div class=\"container\">\n",
    "          <img src=\"../picture/cover.jpg\" alt=\"your-image-alt\">\n",
    "          <div class=\"text\">\n",
    "            <a href=\"../index.html\" class=\"link\">回主畫面</a>\n",
    "          </div>\n",
    "        </div>\n",
    "          ''')\n",
    "        \n",
    "      content = f.read()\n",
    "      f.seek(0, 1)\n",
    "      text = f'{title_all}'\n",
    "      f.write(str('<br>') + str('<center>') + text + str('</center>') + str('<br>') + CONTENT)\n",
    "      \n",
    "      try:\n",
    "        f.seek(0, 2)\n",
    "        text = f'{catch_title(a-1)}'\n",
    "        linka_1 = f'{NAME}' + str(a-1) + '.html'\n",
    "        f.write(\n",
    "          f'''  \n",
    "        <div class=\"container\">\n",
    "          <img src=\"../picture/{TITLE}封面.jpg\" alt=\"{text}\">\n",
    "          <div class=\"text\">\n",
    "            <a href=\"{linka_1}\" class=\"link\">回上一章 : {text}</a>\n",
    "          </div>\n",
    "        </div>\n",
    "          '''\n",
    "                )\n",
    "      except FileNotFoundError:\n",
    "        f.seek(0, 2)\n",
    "        # text = f'{catch_title(a-1)}'\n",
    "        f.write(\n",
    "          '''\n",
    "        <div class=\"container\">\n",
    "          <img src=\"../picture/cover.jpg\" alt=\"your-image-alt\">\n",
    "          <div class=\"text\">\n",
    "            <a href=\"../index.html\" class=\"link\">回主畫面</a>\n",
    "          </div>\n",
    "        </div>\n",
    "          '''\n",
    "                )\n",
    "      try:  \n",
    "        f.seek(0, 1)\n",
    "        text = f'{catch_title(a+1)}'  #a+1\n",
    "        linka1 = f'{NAME}' + str(a+1) + '.html'\n",
    "        f.write(\n",
    "          f'''\n",
    "          <div class=\"container\">\n",
    "            <img src=\"../picture/{TITLE}封面.jpg\" alt=\"{text}\">\n",
    "            <div class=\"text\">\n",
    "              <a href=\"{linka1}\" class=\"link\">往下一章 : {text}</a>\n",
    "            </div>\n",
    "          </div>\n",
    "        </div>\n",
    "            '''\n",
    "                )\n",
    "      except FileNotFoundError:\n",
    "        f.seek(0, 1)\n",
    "        # text = f'{catch_title(a-1)}'\n",
    "        f.write(\n",
    "          '''\n",
    "        <div class=\"container\">\n",
    "          <img src=\"../picture/cover.jpg\" alt=\"your-image-alt\">\n",
    "          <div class=\"text\">\n",
    "            <a href=\"../index.html\" class=\"link\">回主畫面</a>\n",
    "          </div>\n",
    "        </div>\n",
    "          '''\n",
    "                )\n",
    "        \n",
    "      f.seek(0, 1)\n",
    "      f.write(\n",
    "            \"\"\"    <script>\n",
    "        window.onload = function() {\n",
    "        var iframe = document.getElementById(\"iframe\");\n",
    "        var prevScroll = localStorage.getItem(\"prevScroll\");\n",
    "        if (prevScroll) {\n",
    "        iframe.contentWindow.scrollTo(0, prevScroll);\n",
    "        }\n",
    "        iframe.onload = function() {\n",
    "        localStorage.setItem(\"prevScroll\", iframe.contentWindow.pageYOffset);\n",
    "        };\n",
    "        };\n",
    "        </script>\n",
    "        <script src=\"https://cdn.jsdelivr.net/npm/bootstrap@5.0.2/dist/js/bootstrap.bundle.min.js\" integrity=\"sha384-MrcW6ZMFYlzcLA8Nl+NtUVF0sA7MsXsP1UyJoMp4YLEuNSfAP+JcXn/tWtIaxVXM\" crossorigin=\"anonymous\"></script> </body>\n",
    "        </html>\n",
    "          \"\"\")\n",
    "      f.close()\n",
    "\n"
   ]
  },
  {
   "cell_type": "code",
   "execution_count": 8,
   "metadata": {},
   "outputs": [],
   "source": [
    "def catch(soup_url, a):\n",
    "    title = str(soup_url.find('div', 'title'))\n",
    "\n",
    "    # title_name = str(soup_url.find('div', 'prev_page'))\n",
    "    title_name = str(f'《{TITLE}》▷ ')\n",
    "    info_items = soup_url.find_all('p')\n",
    "    \n",
    "    txt_list = []\n",
    "    html_list = []\n",
    "\n",
    "    title = re.sub(r'<.*?>',\"\",title)\n",
    "    title_name = re.sub(r'<.*?>', \" \", re.sub(r'\\W\\w*章', \" \", title_name))\n",
    "    title_all = title_name + title\n",
    "    # title_name = re.sub(r'<.*?>', \"\", title_name) # title_name = re.sub(r'\\B\\D\\W\\w*章', \"\", title_name)\n",
    "    # print(title_all)\n",
    "\n",
    "    for item in info_items:\n",
    "\n",
    "        txt_item = item.text.strip()\n",
    "        html = str('<br>') + str('&emsp;&emsp;') + str(txt_item) + str('<br>')\n",
    "        use = []\n",
    "        # if len(txt_item)+2>40:\n",
    "        #     k = 0\n",
    "        #     for i in range(0, int(len(txt_item)/40)+1):\n",
    "        #         use = txt_item[k:(i+1)*40]\n",
    "        #         k = k + 40\n",
    "        #         if i == 0:\n",
    "        #             txt_list.append(f'\\n    {use}')\n",
    "        #         else:\n",
    "        #             txt_list.append(f'\\n{use}')\n",
    "        # else:\n",
    "        #     txt_list.append(f'\\n    {txt_item}')\n",
    "            \n",
    "        html_list.append(f'{html}')\n",
    "\n",
    "\n",
    "    np.savetxt(f'{NAME}' + str(a) + '.html', html_list, fmt='%s', delimiter=',', encoding='UTF-8')\n",
    "    np.savetxt(f'{NAME}' + str(a) + '.txt', html_list, fmt='%s', delimiter=',', encoding='UTF-8')\n",
    "\n",
    "    add_txt_title(f'{NAME}' + str(a) + '.txt',title_all)\n",
    "    add_html_title(f'{NAME}' + str(a) + '.html', title_all, a)\n"
   ]
  },
  {
   "cell_type": "markdown",
   "metadata": {},
   "source": [
    "## Working program"
   ]
  },
  {
   "cell_type": "code",
   "execution_count": 15,
   "metadata": {},
   "outputs": [
    {
     "name": "stderr",
     "output_type": "stream",
     "text": [
      " 10%|█         | 1/10 [00:01<00:12,  1.40s/it]"
     ]
    },
    {
     "name": "stdout",
     "output_type": "stream",
     "text": [
      "Progress: 9.09%"
     ]
    },
    {
     "name": "stderr",
     "output_type": "stream",
     "text": [
      " 20%|██        | 2/10 [00:02<00:11,  1.40s/it]"
     ]
    },
    {
     "name": "stdout",
     "output_type": "stream",
     "text": [
      "Progress: 18.18%"
     ]
    },
    {
     "name": "stderr",
     "output_type": "stream",
     "text": [
      " 30%|███       | 3/10 [00:04<00:09,  1.41s/it]"
     ]
    },
    {
     "name": "stdout",
     "output_type": "stream",
     "text": [
      "Progress: 27.27%"
     ]
    },
    {
     "name": "stderr",
     "output_type": "stream",
     "text": [
      " 40%|████      | 4/10 [00:05<00:08,  1.41s/it]"
     ]
    },
    {
     "name": "stdout",
     "output_type": "stream",
     "text": [
      "Progress: 36.36%"
     ]
    },
    {
     "name": "stderr",
     "output_type": "stream",
     "text": [
      " 50%|█████     | 5/10 [00:07<00:07,  1.41s/it]"
     ]
    },
    {
     "name": "stdout",
     "output_type": "stream",
     "text": [
      "Progress: 45.45%"
     ]
    },
    {
     "name": "stderr",
     "output_type": "stream",
     "text": [
      " 60%|██████    | 6/10 [00:09<00:06,  1.64s/it]\n"
     ]
    },
    {
     "ename": "KeyboardInterrupt",
     "evalue": "",
     "output_type": "error",
     "traceback": [
      "\u001b[1;31m---------------------------------------------------------------------------\u001b[0m",
      "\u001b[1;31mKeyboardInterrupt\u001b[0m                         Traceback (most recent call last)",
      "Cell \u001b[1;32mIn[15], line 8\u001b[0m\n\u001b[0;32m      6\u001b[0m soup \u001b[38;5;241m=\u001b[39m BeautifulSoup(response\u001b[38;5;241m.\u001b[39mtext, \u001b[38;5;124m'\u001b[39m\u001b[38;5;124mlxml\u001b[39m\u001b[38;5;124m'\u001b[39m)\n\u001b[0;32m      7\u001b[0m catch(soup, a)\n\u001b[1;32m----> 8\u001b[0m \u001b[43mtime\u001b[49m\u001b[38;5;241;43m.\u001b[39;49m\u001b[43msleep\u001b[49m\u001b[43m(\u001b[49m\u001b[38;5;241;43m1\u001b[39;49m\u001b[43m)\u001b[49m\n\u001b[0;32m      9\u001b[0m \u001b[38;5;28;01mfor\u001b[39;00m a \u001b[38;5;129;01min\u001b[39;00m \u001b[38;5;28mrange\u001b[39m(\u001b[38;5;241m1\u001b[39m, a):\n\u001b[0;32m     10\u001b[0m     completed \u001b[38;5;241m=\u001b[39m \u001b[38;5;241m100\u001b[39m \u001b[38;5;241m*\u001b[39m a \u001b[38;5;241m/\u001b[39m NUMBER\n",
      "\u001b[1;31mKeyboardInterrupt\u001b[0m: "
     ]
    }
   ],
   "source": [
    "for a in tqdm(range(1, NUMBER)): #5353\n",
    "    url = URL + str(a) + '.html'\n",
    "    # if a%200 == 0:\n",
    "    #     print(url)\n",
    "    response = requests.get(url=url)\n",
    "    soup = BeautifulSoup(response.text, 'lxml')\n",
    "    catch(soup, a)\n",
    "    time.sleep(1)\n",
    " \n",
    "\n"
   ]
  },
  {
   "cell_type": "markdown",
   "metadata": {},
   "source": [
    "# change html from local"
   ]
  },
  {
   "cell_type": "markdown",
   "metadata": {},
   "source": [
    "## creat body_head of html"
   ]
  },
  {
   "cell_type": "code",
   "execution_count": 3,
   "metadata": {},
   "outputs": [],
   "source": [
    "def catch_title(a):\n",
    "    url = f'{NAME}' + str(a) + '.html'\n",
    "    with open(url, encoding='UTF-8') as file:\n",
    "        # 解析HTML\n",
    "        soup = BeautifulSoup(file, \"lxml\")\n",
    "        # 查找 title 標籤\n",
    "        title = soup.find(\"title\")\n",
    "        if title:\n",
    "            title_text = title.text\n",
    "        else:\n",
    "            title_text = \"No title found\"\n",
    "\n",
    "    return str(title_text)"
   ]
  },
  {
   "cell_type": "code",
   "execution_count": 4,
   "metadata": {},
   "outputs": [],
   "source": [
    "def add_html_body_head(file, title_all, a):\n",
    "    filename = file\n",
    "    txt_file = f'{NAME}' + str(a) + '.txt'\n",
    "    with open(txt_file, 'r', encoding='utf-8') as f:\n",
    "      CONTENT = f.read()\n",
    "      \n",
    "    link = f'{NAME}' + str(a) + '.html'\n",
    "    # catch_title(a)\n",
    "    with open(filename, 'w+', encoding='utf-8') as f:\n",
    "      content = f.read()\n",
    "      f.seek(0, 0)\n",
    "      text = f'{title_all}'\n",
    "      f.write(\n",
    "        f'''<!doctype html>\n",
    "<html lang=\"en\">\n",
    "  <head>\n",
    "    <!-- Required meta tags -->\n",
    "    <meta charset=\"utf-8\">\n",
    "    <meta name=\"viewport\" content=\"width=device-width, initial-scale=1, shrink-to-fit=no\">\n",
    "\n",
    "    <!-- Bootstrap CSS -->\n",
    "    <link href=\"https://cdn.jsdelivr.net/npm/bootstrap@5.0.0/dist/css/bootstrap.min.css\" rel=\"stylesheet\" integrity=\"sha384-wEmeIV1mKuiNpC+IOBjI7aAzPcEZeedi5yW5f2yOq55WWLwNGmvvx4Um1vskeMj0\" crossorigin=\"anonymous\">\n",
    "    <link rel=\"stylesheet\" type=\"text/css\" href=\"https://jimmy-shian.github.io/novel/novel.css\">\n",
    "    <!-- <script src=\"https://cdn.jsdelivr.net/npm/bootstrap@5.0.0/dist/js/bootstrap.bundle.min.js\" integrity=\"sha384-p34f1UUtsS3wqzfto5wAAmdvj+osOnFyQFpp4Ua3gs/ZVWx6oOypYoCJhGGScy+8\" crossorigin=\"anonymous\"></script> -->\n",
    "    <!-- <script src=\"https://jimmy-shian.github.io/novel/novel.js\"></script> -->\n",
    "    <!-- <script src=\"https://jimmy-shian.github.io/novel/table.js\"></script> -->\n",
    "    \n",
    "  <link rel=\"icon\" type=\"image/png\" href=\"https://jimmy-shian.github.io/novel/picture/webico.png\">\n",
    "  <!-- <style>\n",
    "  </style> -->\n",
    "\n",
    "  </head>\n",
    "  <body>\n",
    "          <title>{text}</title>         \n",
    "      '''    )\n",
    "      try:\n",
    "        f.seek(0, 1)\n",
    "        text = f'{catch_title(a-1)}'\n",
    "        linka_1 = f'{NAME}' + str(a-1) + '.html'\n",
    "        f.write(\n",
    "          f'''    <div class=\"spacer\"></div>\n",
    "      <div class='responsive-div'>\n",
    "        <div class=\"container\">\n",
    "          <img src=\"https://jimmy-shian.github.io/novel/picture/{TITLE}封面.jpg\" alt=\"{text}\">\n",
    "          <div class=\"text\">\n",
    "            <a href=\"{linka_1}\" class=\"link\">回上一章 : {text}</a>\n",
    "          </div>\n",
    "        </div>\n",
    "          '''\n",
    "                )\n",
    "      except FileNotFoundError:\n",
    "        f.seek(0, 1)\n",
    "        # text = f'{catch_title(a-1)}'\n",
    "        f.write(\n",
    "          '''    <div class=\"spacer\"></div>\n",
    "      <div class='responsive-div'>\n",
    "        <div class=\"container\">\n",
    "          <img src=\"https://jimmy-shian.github.io/novel/picture/cover.jpg\" alt=\"your-image-alt\">\n",
    "          <div class=\"text\">\n",
    "            <a href=\"https://jimmy-shian.github.io/novel/index.html\" class=\"link\">回主畫面</a>\n",
    "          </div>\n",
    "        </div>\n",
    "          ''')\n",
    "\n",
    "      f.seek(0, 1)\n",
    "      text = f'{title_all}'\n",
    "      f.write(str('<br>') + str('<center>') + text + str('</center>') + CONTENT)\n",
    "      \n",
    "      try:\n",
    "        f.seek(0, 2)\n",
    "        text = f'{catch_title(a-1)}'\n",
    "        linka_1 = f'{NAME}' + str(a-1) + '.html'\n",
    "        f.write(\n",
    "          f'''    <div class=\"spacer\"></div>\n",
    "  \n",
    "        <div class=\"container\">\n",
    "          <img src=\"https://jimmy-shian.github.io/novel/picture/{TITLE}封面.jpg\" alt=\"{text}\">\n",
    "          <div class=\"text\">\n",
    "            <a href=\"{linka_1}\" class=\"link\">回上一章 : {text}</a>\n",
    "          </div>\n",
    "        </div>\n",
    "          '''\n",
    "                )\n",
    "      except FileNotFoundError:\n",
    "        f.seek(0, 2)\n",
    "        # text = f'{catch_title(a-1)}'\n",
    "        f.write(\n",
    "          '''    <div class=\"spacer\"></div>\n",
    "        <div class=\"container\">\n",
    "          <img src=\"https://jimmy-shian.github.io/novel/picture/cover.jpg\" alt=\"your-image-alt\">\n",
    "          <div class=\"text\">\n",
    "            <a href=\"https://jimmy-shian.github.io/novel/index.html\" class=\"link\">回主畫面</a>\n",
    "          </div>\n",
    "        </div>\n",
    "          '''\n",
    "                )\n",
    "      try:  \n",
    "        f.seek(0, 1)\n",
    "        text = f'{catch_title(a+1)}'  #a+1\n",
    "        linka1 = f'{NAME}' + str(a+1) + '.html'\n",
    "        f.write(\n",
    "          f'''<br>\n",
    "          <div class=\"container\">\n",
    "            <img src=\"https://jimmy-shian.github.io/novel/picture/{TITLE}封面.jpg\" alt=\"{text}\">\n",
    "            <div class=\"text\">\n",
    "              <a href=\"{linka1}\" class=\"link\">往下一章 : {text}</a>\n",
    "            </div>\n",
    "          </div>\n",
    "        </div>\n",
    "            '''\n",
    "                )\n",
    "      except FileNotFoundError:\n",
    "        f.seek(0, 1)\n",
    "        # text = f'{catch_title(a-1)}'\n",
    "        f.write(\n",
    "          '''<br>\n",
    "        <div class=\"container\">\n",
    "          <img src=\"https://jimmy-shian.github.io/novel/picture/cover.jpg\" alt=\"your-image-alt\">\n",
    "          <div class=\"text\">\n",
    "            <a href=\"https://jimmy-shian.github.io/novel/index.html\" class=\"link\">回主畫面</a>\n",
    "          </div>\n",
    "        </div>\n",
    "          '''\n",
    "                )\n",
    "        \n",
    "      f.seek(0, 1)\n",
    "      f.write(\n",
    "            \"\"\"     <div class=\"spacer\"></div>\n",
    "\n",
    "    <div id=\"content-end\">    </div>\n",
    "          <script src=\"https://jimmy-shian.github.io/novel/novel.js\" defer></script>\n",
    "          <script src=\"https://jimmy-shian.github.io/novel/table.js\" defer></script>\n",
    "          <script src=\"https://cdn.jsdelivr.net/npm/bootstrap@5.0.0/dist/js/bootstrap.bundle.min.js\" integrity=\"sha384-p34f1UUtsS3wqzfto5wAAmdvj+osOnFyQFpp4Ua3gs/ZVWx6oOypYoCJhGGScy+8\" crossorigin=\"anonymous\"></script>\n",
    "\n",
    "              \n",
    "    </body>\n",
    "    </html>\n",
    "          \"\"\")\n",
    "  \n",
    "\n"
   ]
  },
  {
   "cell_type": "markdown",
   "metadata": {},
   "source": [
    "## fix txt file  ---remove over br"
   ]
  },
  {
   "cell_type": "code",
   "execution_count": 5,
   "metadata": {},
   "outputs": [
    {
     "name": "stderr",
     "output_type": "stream",
     "text": [
      "100%|██████████| 1619/1619 [00:05<00:00, 315.91it/s]\n"
     ]
    }
   ],
   "source": [
    "for a in tqdm(range(1,NUMBER)): #5353\n",
    "    with open(f'{NAME}' + str(a) + '.txt', 'r', encoding='utf-8') as file:\n",
    "        text = file.read()\n",
    "\n",
    "    new_text = re.sub('<br>', '', text, count=2)\n",
    "\n",
    "    with open(f'{NAME}' + str(a) + '.txt', 'w', encoding='utf-8') as file:\n",
    "        file.write(new_text)"
   ]
  },
  {
   "cell_type": "markdown",
   "metadata": {},
   "source": [
    "## Working program"
   ]
  },
  {
   "cell_type": "code",
   "execution_count": 6,
   "metadata": {},
   "outputs": [
    {
     "name": "stderr",
     "output_type": "stream",
     "text": [
      "100%|██████████| 1619/1619 [00:54<00:00, 29.60it/s]\n"
     ]
    }
   ],
   "source": [
    "for a in tqdm(range(1,NUMBER)): #5353\n",
    "    \n",
    "    title_all = catch_title(a)\n",
    "    add_html_body_head(f'{NAME}' + str(a) + '.html', title_all, a)\n",
    "\n"
   ]
  },
  {
   "cell_type": "markdown",
   "metadata": {},
   "source": [
    "# 完整的程式碼如下"
   ]
  },
  {
   "cell_type": "code",
   "execution_count": 7,
   "metadata": {},
   "outputs": [],
   "source": [
    "# import csv\n",
    "# import requests\n",
    "# from bs4 import BeautifulSoup\n",
    "\n",
    "# url = 'https://movies.yahoo.com.tw/movie_thisweek.html'\n",
    "# response = requests.get(url=url)\n",
    "\n",
    "# soup = BeautifulSoup(response.text, 'lxml')\n",
    "\n",
    "# info_items = soup.find_all('div', 'release_info')\n",
    "\n",
    "# with open('本週新片.csv', 'w', encoding='utf-8-sig', newline='') as csv_file:\n",
    "    \n",
    "#     csv_writer = csv.writer(csv_file)\n",
    "#     fieldnames = ['電影片名', '電影英文片名', '上映時間', '網友期待度']\n",
    "#     csv_writer.writerow(fieldnames)\n",
    "\n",
    "#     for item in info_items:\n",
    "\n",
    "#         name = item.find('div', 'release_movie_name').a.text.strip()\n",
    "#         english_name = item.find('div', 'en').a.text.strip()\n",
    "#         release_time = item.find('div', 'release_movie_time').text.split('：')[-1].strip()\n",
    "#         level = item.find('div', 'leveltext').span.text.strip()\n",
    "        \n",
    "#         csv_writer.writerow([name, english_name, release_time, level])\n",
    "#         print('{}({}) 上映日：{} 期待度：{}'.format(name, english_name, release_time, level))"
   ]
  }
 ],
 "metadata": {
  "kernelspec": {
   "display_name": "Python 3.8.8 ('venv')",
   "language": "python",
   "name": "python3"
  },
  "language_info": {
   "codemirror_mode": {
    "name": "ipython",
    "version": 3
   },
   "file_extension": ".py",
   "mimetype": "text/x-python",
   "name": "python",
   "nbconvert_exporter": "python",
   "pygments_lexer": "ipython3",
   "version": "3.8.8"
  },
  "vscode": {
   "interpreter": {
    "hash": "4f51678d26300acc1504d5f231aa64fefd00fb6340e5aa8a951d06e8266bb69e"
   }
  }
 },
 "nbformat": 4,
 "nbformat_minor": 2
}
