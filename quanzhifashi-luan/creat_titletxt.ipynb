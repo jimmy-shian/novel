{
 "cells": [
  {
   "cell_type": "code",
   "execution_count": 1,
   "metadata": {},
   "outputs": [],
   "source": [
    "import requests\n",
    "import numpy as np\n",
    "import re\n",
    "import time\n",
    "from bs4 import BeautifulSoup\n",
    "import subprocess\n",
    "import os\n",
    "import pandas as pd"
   ]
  },
  {
   "cell_type": "markdown",
   "metadata": {},
   "source": [
    "# grab title from html to txt_csv"
   ]
  },
  {
   "cell_type": "code",
   "execution_count": 14,
   "metadata": {},
   "outputs": [],
   "source": [
    "# def catch_title(a):\n",
    "#     url = '帝霸_html' + str(a) + '.html'\n",
    "#     with open(url, encoding='UTF-8') as file:\n",
    "#         # 解析HTML\n",
    "#         soup = BeautifulSoup(file, \"lxml\")\n",
    "#         # 查找 title 標籤\n",
    "#         title = soup.find(\"title\").text\n",
    "#         name_url = title + str(\",\") +url \n",
    "#     return name_url"
   ]
  },
  {
   "cell_type": "code",
   "execution_count": 22,
   "metadata": {},
   "outputs": [
    {
     "name": "stdout",
     "output_type": "stream",
     "text": [
      "['《帝霸》▷ 神秘番外第一章雨夜中的烏鴉', '帝霸_html3.html']\n",
      "神秘番外第一章雨夜中的烏鴉 帝霸_html3.html\n"
     ]
    }
   ],
   "source": [
    "# list = ['《帝霸》▷ 神秘番外第一章雨夜中的烏鴉,帝霸_html3.html']\n",
    "\n",
    "# elements = list[0].split(',')\n",
    "# title = elements[0].replace(\"《帝霸》▷ \", \"\")\n",
    "# filename = elements[1]\n",
    "\n",
    "# print(elements)\n",
    "# print(title, filename)"
   ]
  },
  {
   "cell_type": "code",
   "execution_count": 29,
   "metadata": {},
   "outputs": [],
   "source": [
    "# list_title = []\n",
    "# list_url = []\n",
    "# for a in range(1,5353):\n",
    "#     text = catch_title(a)\n",
    "#     new_list = catch_title(a)\n",
    " \n",
    "#     elements = new_list.split(',')\n",
    "#     title = elements[0].replace(\"《帝霸》▷ \", \"\")\n",
    "#     filename = elements[1]\n",
    "\n",
    "#     list_title.append(title)\n",
    "#     list_url.append(filename)"
   ]
  },
  {
   "cell_type": "code",
   "execution_count": 30,
   "metadata": {},
   "outputs": [],
   "source": [
    "\n",
    "# header = ['title', 'url']\n",
    "# df = pd.DataFrame((zip(list_title, list_url)), columns=header)\n",
    "\n",
    "# df.to_csv(\"title_name_url.csv\", index=False, encoding='utf-8-sig')\n",
    "# df.to_csv(\"title_name_url.txt\", index=False, sep='\\t', header=True)\n",
    "\n"
   ]
  },
  {
   "cell_type": "markdown",
   "metadata": {},
   "source": [
    "# creat catalogue"
   ]
  },
  {
   "cell_type": "code",
   "execution_count": null,
   "metadata": {},
   "outputs": [],
   "source": [
    "# window.location.href = '帝霸_html' + numberInput + '.html';\n",
    "# 需要更改跳轉網址 & name "
   ]
  },
  {
   "cell_type": "code",
   "execution_count": 7,
   "metadata": {},
   "outputs": [],
   "source": [
    "# with open('title_name_url.csv', 'r', encoding='utf-8-sig') as file:\n",
    "#     lines = file.readlines()\n",
    "\n",
    "with open('diba-yanbixiaosheng.html', 'w', encoding='utf-8-sig') as file:\n",
    "    \n",
    "    name = '《帝霸》'\n",
    "    file.write(f'''\n",
    "\n",
    "<!doctype html>\n",
    "      <html lang=\"en\">\n",
    "        <head>\n",
    "          <!-- Required meta tags -->\n",
    "          <meta charset=\"utf-8\">\n",
    "          <meta name=\"viewport\" content=\"width=device-width, initial-scale=1, shrink-to-fit=no\">\n",
    "\n",
    "          <!-- Bootstrap CSS -->\n",
    "          <link href=\"https://cdn.jsdelivr.net/npm/bootstrap@5.0.0/dist/css/bootstrap.min.css\" rel=\"stylesheet\" integrity=\"sha384-wEmeIV1mKuiNpC+IOBjI7aAzPcEZeedi5yW5f2yOq55WWLwNGmvvx4Um1vskeMj0\" crossorigin=\"anonymous\">\n",
    "          <link rel=\"stylesheet\" type=\"text/css\" href=\"novel.css\">\n",
    "          \n",
    "          <title>{name}目錄</title>\n",
    "        </head>\n",
    "        <body>\n",
    "          <script data-ad-client=\"ca-pub-2415998114933157\" async src=\"https://pagead2.googlesyndication.com/pagead/js/adsbygoogle.js\">\n",
    "          </script>\n",
    "          <nav class=\"navbar navbar-expand-lg navbar-dark bg-dark\">\n",
    "              <div class=\"container-fluid\">\n",
    "                <a class=\"navbar-brand\" href=\"\">My novel site</a>\n",
    "                <button class=\"navbar-toggler\" type=\"button\" data-bs-toggle=\"collapse\" data-bs-target=\"#navbarNav\" aria-controls=\"navbarNav\" aria-expanded=\"false\" aria-label=\"Toggle navigation\">\n",
    "                  <span class=\"navbar-toggler-icon\"></span>\n",
    "                </button>\n",
    "                <div class=\"collapse navbar-collapse\" id=\"navbarNav\">\n",
    "                  <ul class=\"navbar-nav\">\n",
    "                    <li class=\"nav-item\">\n",
    "                      <a class=\"nav-link\" href=\"../index.html\">Home</a>\n",
    "                    </li>\n",
    "                    <li class=\"nav-item\">\n",
    "                      <a class=\"nav-link\" href=\"diba-yanbixiaosheng.html\">帝霸</a>\n",
    "                    </li>\n",
    "                    <li class=\"nav-item\">\n",
    "                      <a class=\"nav-link\" href=\"../index.html\">Pricing</a>\n",
    "                    </li>\n",
    "                  </ul>\n",
    "                </div>\n",
    "              </div>\n",
    "            </nav>   \n",
    "\n",
    "            <div class=\"spacer\"></div>\n",
    "            <center>\n",
    "              <h2>\n",
    "                {name}章節網頁跳轉\n",
    "              </h2>\n",
    "              <br> \n",
    "            ''')\n",
    "    # for line in lines:\n",
    "    #     elements = line.strip().split(',')\n",
    "    #     text = elements[0]\n",
    "    #     link = elements[1]\n",
    "    #     file.write(f'''\n",
    "    #         <div class=\"catalogue_container\">\n",
    "    #             <img src=\"../picture/帝霸封面.jpg\" alt=\"{text}\">\n",
    "    #                 <div class=\"text\">\n",
    "    #                     <a href=\"{link}\" class=\"link\">{text}</a>\n",
    "    #                 </div>\n",
    "    #         </div>\n",
    "    #                ''')\n",
    "    file.write('''\n",
    "           <div class=\"catalogue_container\">\n",
    "              <form class=\"d-flex\">\n",
    "                <input class=\"form-control me-2\" type=\"search\" placeholder=\"請輸入數字\" value=\"4400\" aria-label=\"Search\" id=\"numberInput\">\n",
    "                <button class=\"btn btn-outline-success\" type=\"submit\" value=\"Go to Chapter\">Search</button>\n",
    "              </form>\n",
    "            </div>\n",
    "\n",
    "              <script>\n",
    "                const form = document.querySelector('form');\n",
    "                form.addEventListener('submit', function(event) {\n",
    "                event.preventDefault();\n",
    "                const numberInput = document.querySelector('#numberInput').value;\n",
    "                  if (numberInput.trim() === '') {\n",
    "                    alert('輸入數字');\n",
    "                    } else if (!Number.isInteger(+numberInput) || +numberInput <= 0) {\n",
    "                    alert('輸入正整數');\n",
    "                    } else {\n",
    "                    window.location.href = '帝霸_html' + numberInput + '.html';\n",
    "                    }\n",
    "                  });\n",
    "\n",
    "                document.querySelector('#numberInput').addEventListener('keyup', function(event) {\n",
    "                  if (event.keyCode === 13) {\n",
    "                    form.submit();\n",
    "                  }\n",
    "                });\n",
    "              </script>\n",
    "            </center>\n",
    "\n",
    "          <script src=\"https://cdn.jsdelivr.net/npm/bootstrap@5.0.2/dist/js/bootstrap.bundle.min.js\" integrity=\"sha384-MrcW6ZMFYlzcLA8Nl+NtUVF0sA7MsXsP1UyJoMp4YLEuNSfAP+JcXn/tWtIaxVXM\" crossorigin=\"anonymous\"></script> </body>\n",
    "\n",
    "          <div class=\"spacer\"></div>    <div class=\"spacer\"></div>\n",
    "        </body>\n",
    "        </html>\n",
    "        ''')\n"
   ]
  },
  {
   "cell_type": "code",
   "execution_count": null,
   "metadata": {},
   "outputs": [],
   "source": []
  }
 ],
 "metadata": {
  "kernelspec": {
   "display_name": "Python 3.8.8 ('venv')",
   "language": "python",
   "name": "python3"
  },
  "language_info": {
   "codemirror_mode": {
    "name": "ipython",
    "version": 3
   },
   "file_extension": ".py",
   "mimetype": "text/x-python",
   "name": "python",
   "nbconvert_exporter": "python",
   "pygments_lexer": "ipython3",
   "version": "3.8.8"
  },
  "orig_nbformat": 4,
  "vscode": {
   "interpreter": {
    "hash": "4f51678d26300acc1504d5f231aa64fefd00fb6340e5aa8a951d06e8266bb69e"
   }
  }
 },
 "nbformat": 4,
 "nbformat_minor": 2
}
