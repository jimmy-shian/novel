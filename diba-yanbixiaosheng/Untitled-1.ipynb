{
 "cells": [
  {
   "cell_type": "code",
   "execution_count": 13,
   "metadata": {},
   "outputs": [],
   "source": [
    "import requests\n",
    "import numpy as np\n",
    "import re\n",
    "import time\n",
    "from bs4 import BeautifulSoup\n",
    "import subprocess\n",
    "import os\n",
    "import pandas as pd"
   ]
  },
  {
   "cell_type": "code",
   "execution_count": 14,
   "metadata": {},
   "outputs": [],
   "source": [
    "def catch_title(a):\n",
    "    url = '帝霸_html' + str(a) + '.html'\n",
    "    with open(url, encoding='UTF-8') as file:\n",
    "        # 解析HTML\n",
    "        soup = BeautifulSoup(file, \"lxml\")\n",
    "        # 查找 title 標籤\n",
    "        title = soup.find(\"title\").text\n",
    "        name_url = title + str(\",\") +url \n",
    "    return name_url"
   ]
  },
  {
   "cell_type": "code",
   "execution_count": 22,
   "metadata": {},
   "outputs": [
    {
     "name": "stdout",
     "output_type": "stream",
     "text": [
      "['《帝霸》▷ 神秘番外第一章雨夜中的烏鴉', '帝霸_html3.html']\n",
      "神秘番外第一章雨夜中的烏鴉 帝霸_html3.html\n"
     ]
    }
   ],
   "source": [
    "list = ['《帝霸》▷ 神秘番外第一章雨夜中的烏鴉,帝霸_html3.html']\n",
    "\n",
    "elements = list[0].split(',')\n",
    "title = elements[0].replace(\"《帝霸》▷ \", \"\")\n",
    "filename = elements[1]\n",
    "\n",
    "print(elements)\n",
    "print(title, filename)"
   ]
  },
  {
   "cell_type": "code",
   "execution_count": 29,
   "metadata": {},
   "outputs": [],
   "source": [
    "list_title = []\n",
    "list_url = []\n",
    "for a in range(1,5353):\n",
    "    text = catch_title(a)\n",
    "    new_list = catch_title(a)\n",
    " \n",
    "    elements = new_list.split(',')\n",
    "    title = elements[0].replace(\"《帝霸》▷ \", \"\")\n",
    "    filename = elements[1]\n",
    "    # print(elements)\n",
    "    # elements = text.split(',')\n",
    "    # kk, title, filename = elements\n",
    "    list_title.append(title)\n",
    "    list_url.append(filename)"
   ]
  },
  {
   "cell_type": "code",
   "execution_count": 30,
   "metadata": {},
   "outputs": [],
   "source": [
    "\n",
    "# start_time = time.time()\n",
    "\n",
    "header = ['title', 'url']\n",
    "\n",
    "df = pd.DataFrame((zip(list_title, list_url)), columns=header)\n",
    "\n",
    "df.to_csv(\"title_name_url.csv\", index=False, encoding='utf-8-sig')\n",
    "df.to_csv(\"title_name_url.txt\", index=False, sep='\\t', header=True)\n",
    "\n",
    "# with open('title_name_url.txt', 'w', encoding='utf-8') as f:\n",
    "#     for item in list_all:\n",
    "#         f.write(\"%s\\n\" % item)\n",
    "\n",
    "# end_time = time.time()\n",
    "# total_time = end_time - start_time\n",
    "# print(\"The operation took\", total_time, \"seconds to complete.\")\n"
   ]
  }
 ],
 "metadata": {
  "kernelspec": {
   "display_name": "Python 3.8.8 ('venv')",
   "language": "python",
   "name": "python3"
  },
  "language_info": {
   "codemirror_mode": {
    "name": "ipython",
    "version": 3
   },
   "file_extension": ".py",
   "mimetype": "text/x-python",
   "name": "python",
   "nbconvert_exporter": "python",
   "pygments_lexer": "ipython3",
   "version": "3.8.8"
  },
  "orig_nbformat": 4,
  "vscode": {
   "interpreter": {
    "hash": "4f51678d26300acc1504d5f231aa64fefd00fb6340e5aa8a951d06e8266bb69e"
   }
  }
 },
 "nbformat": 4,
 "nbformat_minor": 2
}
